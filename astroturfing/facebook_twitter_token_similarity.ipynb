{
 "cells": [
  {
   "cell_type": "code",
   "execution_count": 1,
   "metadata": {},
   "outputs": [
    {
     "name": "stdout",
     "output_type": "stream",
     "text": [
      "INFO: Pandarallel will run on 128 workers.\n",
      "INFO: Pandarallel will use Memory file system to transfer data between the main process and workers.\n"
     ]
    }
   ],
   "source": [
    "import pandas as pd\n",
    "import numpy as np\n",
    "from collections import defaultdict, Counter\n",
    "import glob\n",
    "import json\n",
    "import pickle as pkl\n",
    "import ast\n",
    "import os\n",
    "from random import sample\n",
    "import networkx as nx\n",
    "\n",
    "from random import sample\n",
    "import sklearn\n",
    "import re\n",
    "import string\n",
    "import warnings\n",
    "from bs4 import BeautifulSoup\n",
    "import gensim\n",
    "from gensim.models.phrases import Phrases\n",
    "import gensim.corpora as corpora\n",
    "from gensim.utils import simple_preprocess\n",
    "from gensim.models import CoherenceModel\n",
    "from analysis_func.text_preproc import preproc_text\n",
    "from analysis_func.topic_preproc import prepare_corp\n",
    "from analysis_func.topic_model import topicmodel\n",
    "from analysis_func.saveload_topicmodels import save_modelanddata, load_modelanddata\n",
    "import datetime\n",
    "import os\n",
    "import time\n",
    "import sys\n",
    "\n",
    "from pandarallel import pandarallel\n",
    "pandarallel.initialize()\n"
   ]
  },
  {
   "cell_type": "code",
   "execution_count": 2,
   "metadata": {},
   "outputs": [
    {
     "name": "stderr",
     "output_type": "stream",
     "text": [
      "/usr/lib/python3/dist-packages/IPython/core/interactiveshell.py:3331: DtypeWarning: Columns (0,1,2,3,4,5,6,7,9) have mixed types.Specify dtype option on import or set low_memory=False.\n",
      "  exec(code_obj, self.user_global_ns, self.user_ns)\n"
     ]
    }
   ],
   "source": [
    "full_fdata = pd.read_csv(\"/data/shruti/ONR/small_data/facebook_linkpost_text.csv\", header=0)\n",
    "full_fdata = full_fdata.dropna(subset=['handle','message'])"
   ]
  },
  {
   "cell_type": "code",
   "execution_count": 3,
   "metadata": {},
   "outputs": [
    {
     "name": "stdout",
     "output_type": "stream",
     "text": [
      "getting data\n"
     ]
    }
   ],
   "source": [
    "print(\"getting data\")\n",
    "# get random samples from each party of similar sizes\n",
    "datafiles = glob.glob(\"/data/shruti/ONR/big_data/Twitter/*.csv\")\n",
    "plist = ['_BJP.csv', '_INC.csv']\n",
    "pcount = defaultdict(list)\n",
    "for d in datafiles:\n",
    "    for p in plist:\n",
    "        if p in d:\n",
    "            pcount[p].append(d)\n",
    "                \n",
    "final_files = pcount\n",
    "#final_files = defaultdict(list)\n",
    "# for p in pcount:\n",
    "#     try:\n",
    "#         final_files[p] = sample(pcount[p], 1000)\n",
    "#     except:\n",
    "#         final_files[p] = sample(pcount[p], 430)\n",
    "    \n",
    "    \n",
    "#read randomly sampled data into a dataframe\n",
    "rowlist = []\n",
    "for p in final_files.keys():\n",
    "    party = p.replace(\"_\", \"\").replace(\".csv\", \"\")\n",
    "    for d in final_files[p]:\n",
    "        with open(d, \"r\") as jsonfile:\n",
    "            for line in jsonfile:\n",
    "                job= json.loads(line)\n",
    "                if \"text\" in job:\n",
    "                    text = job['text']\n",
    "                else:\n",
    "                    text = None\n",
    "                if \"screen_name\" in job:\n",
    "                    sn = job['screen_name']\n",
    "                else:\n",
    "                    sn = None\n",
    "                    \n",
    "                if \"lang\" in job:\n",
    "                    language = job['lang']\n",
    "                else:\n",
    "                    language = None\n",
    "                    \n",
    "                row = [sn, text, party, language]\n",
    "                rowlist.append(row)\n",
    "\n",
    "                \n",
    "fulltdata = pd.DataFrame(rowlist, columns=['screen_name','text','party', 'language'])\n",
    "fulltdata = fulltdata.dropna(subset=['text'])"
   ]
  },
  {
   "cell_type": "code",
   "execution_count": 4,
   "metadata": {},
   "outputs": [],
   "source": [
    "fulltdata = fulltdata.dropna(subset=['text'])\n",
    "fulltdata = fulltdata.dropna(subset=['screen_name'])\n"
   ]
  },
  {
   "cell_type": "code",
   "execution_count": 5,
   "metadata": {},
   "outputs": [],
   "source": [
    "def remove_retweets(text):\n",
    "    if \"RT \" in text:\n",
    "    #if text.startswith(\"RT \"):\n",
    "        return 1"
   ]
  },
  {
   "cell_type": "code",
   "execution_count": 6,
   "metadata": {},
   "outputs": [],
   "source": [
    "fulltdata['is_retweet'] = fulltdata['text'].parallel_apply(lambda x: remove_retweets(x))"
   ]
  },
  {
   "cell_type": "code",
   "execution_count": 7,
   "metadata": {},
   "outputs": [
    {
     "data": {
      "text/plain": [
       "5468945"
      ]
     },
     "execution_count": 7,
     "metadata": {},
     "output_type": "execute_result"
    }
   ],
   "source": [
    "fulltdata = fulltdata.loc[fulltdata['is_retweet']!=1.0]\n",
    "len(fulltdata)"
   ]
  },
  {
   "cell_type": "code",
   "execution_count": 8,
   "metadata": {},
   "outputs": [
    {
     "data": {
      "text/html": [
       "<div>\n",
       "<style scoped>\n",
       "    .dataframe tbody tr th:only-of-type {\n",
       "        vertical-align: middle;\n",
       "    }\n",
       "\n",
       "    .dataframe tbody tr th {\n",
       "        vertical-align: top;\n",
       "    }\n",
       "\n",
       "    .dataframe thead th {\n",
       "        text-align: right;\n",
       "    }\n",
       "</style>\n",
       "<table border=\"1\" class=\"dataframe\">\n",
       "  <thead>\n",
       "    <tr style=\"text-align: right;\">\n",
       "      <th></th>\n",
       "      <th>UniqueID</th>\n",
       "      <th>Website_Name</th>\n",
       "      <th>Political_Leaning</th>\n",
       "      <th>Website_URL</th>\n",
       "      <th>Language</th>\n",
       "      <th>MobileSite</th>\n",
       "      <th>PrintMedia</th>\n",
       "      <th>TVMedia</th>\n",
       "      <th>OnlineMedia</th>\n",
       "      <th>FacebookReach</th>\n",
       "      <th>TwitterReach</th>\n",
       "      <th>InstagramReach</th>\n",
       "      <th>AlexaGlobalRank</th>\n",
       "      <th>AlexaIndiaRank</th>\n",
       "      <th>Parent_Company</th>\n",
       "      <th>Website_Registrar</th>\n",
       "      <th>Registered_On</th>\n",
       "      <th>Expires_On</th>\n",
       "      <th>TrafficContributingSubDomains</th>\n",
       "    </tr>\n",
       "  </thead>\n",
       "  <tbody>\n",
       "    <tr>\n",
       "      <th>0</th>\n",
       "      <td>1.0</td>\n",
       "      <td>Aaj Tak</td>\n",
       "      <td>RIGHT_TO_RIGHTCENTRE</td>\n",
       "      <td>aajtak.intoday.in</td>\n",
       "      <td>Hindi</td>\n",
       "      <td>m.aajtak.in</td>\n",
       "      <td>N</td>\n",
       "      <td>Y</td>\n",
       "      <td>Y</td>\n",
       "      <td>26.2M</td>\n",
       "      <td>9.8M</td>\n",
       "      <td>3.7M</td>\n",
       "      <td>607.7K</td>\n",
       "      <td>98.2K</td>\n",
       "      <td>Living Media Group (TV Today Network Limited)</td>\n",
       "      <td>MPS Infotecnics Limited</td>\n",
       "      <td>16/02/2005</td>\n",
       "      <td>16/02/2029</td>\n",
       "      <td>{'m.aajtak.in': '93.83%', 'OTHER': '6.17%'}</td>\n",
       "    </tr>\n",
       "    <tr>\n",
       "      <th>1</th>\n",
       "      <td>2.0</td>\n",
       "      <td>Dainik Jagran</td>\n",
       "      <td>RIGHT_TO_RIGHTCENTRE</td>\n",
       "      <td>jagran.com</td>\n",
       "      <td>Hindi</td>\n",
       "      <td>m.jagran.com</td>\n",
       "      <td>Y</td>\n",
       "      <td>N</td>\n",
       "      <td>Y</td>\n",
       "      <td>14.8M</td>\n",
       "      <td>1.1M</td>\n",
       "      <td>58.5K</td>\n",
       "      <td>1.7K</td>\n",
       "      <td>132</td>\n",
       "      <td>Jagran Prakashan Limited</td>\n",
       "      <td>Network Solutions, LLC</td>\n",
       "      <td>17/01/1997</td>\n",
       "      <td>18/01/2030</td>\n",
       "      <td>{'jagran.com': '70.51%', 'epaper.jagran.com': ...</td>\n",
       "    </tr>\n",
       "    <tr>\n",
       "      <th>2</th>\n",
       "      <td>3.0</td>\n",
       "      <td>RVCJ News</td>\n",
       "      <td>NaN</td>\n",
       "      <td>rvcj.com</td>\n",
       "      <td>English</td>\n",
       "      <td>N</td>\n",
       "      <td>N</td>\n",
       "      <td>N</td>\n",
       "      <td>Y</td>\n",
       "      <td>14.5M</td>\n",
       "      <td>193.0K</td>\n",
       "      <td>2.5M</td>\n",
       "      <td>26.9K</td>\n",
       "      <td>3.8K</td>\n",
       "      <td>RVCJ Digital Media Private Limited</td>\n",
       "      <td>NameCheap, Inc.</td>\n",
       "      <td>20/04/2007</td>\n",
       "      <td>20/04/2022</td>\n",
       "      <td>{'rvcj.com': '99.04%', 'OTHER': '0.97%'}</td>\n",
       "    </tr>\n",
       "    <tr>\n",
       "      <th>3</th>\n",
       "      <td>4.0</td>\n",
       "      <td>Dainik Bhaskar</td>\n",
       "      <td>RIGHT_TO_RIGHTCENTRE</td>\n",
       "      <td>bhaskar.com</td>\n",
       "      <td>Hindi</td>\n",
       "      <td>N</td>\n",
       "      <td>Y</td>\n",
       "      <td>N</td>\n",
       "      <td>Y</td>\n",
       "      <td>14.3M</td>\n",
       "      <td>1.0M</td>\n",
       "      <td>988.2K</td>\n",
       "      <td>1.3K</td>\n",
       "      <td>107</td>\n",
       "      <td>D B Corp Limited</td>\n",
       "      <td>PDR Ltd. d/b/a PublicDomainRegistry.com</td>\n",
       "      <td>17/04/1998</td>\n",
       "      <td>16/04/2029</td>\n",
       "      <td>{'bhaskar.com': '72.22%', 'epaper.bhaskar.com'...</td>\n",
       "    </tr>\n",
       "    <tr>\n",
       "      <th>4</th>\n",
       "      <td>5.0</td>\n",
       "      <td>Zee News</td>\n",
       "      <td>RIGHT_TO_RIGHTCENTRE</td>\n",
       "      <td>zeenews.india.com</td>\n",
       "      <td>English</td>\n",
       "      <td>N</td>\n",
       "      <td>N</td>\n",
       "      <td>Y</td>\n",
       "      <td>Y</td>\n",
       "      <td>11.4M</td>\n",
       "      <td>3.2M</td>\n",
       "      <td>1.8M</td>\n",
       "      <td>74.9K</td>\n",
       "      <td>7.6K</td>\n",
       "      <td>Essel Group</td>\n",
       "      <td>GoDaddy.com, LLC</td>\n",
       "      <td>13/08/1997</td>\n",
       "      <td>30/05/2027</td>\n",
       "      <td>{'cdn.zeenews.com': '53.01%', 'my.zeenews.com'...</td>\n",
       "    </tr>\n",
       "  </tbody>\n",
       "</table>\n",
       "</div>"
      ],
      "text/plain": [
       "   UniqueID    Website_Name     Political_Leaning        Website_URL Language  \\\n",
       "0       1.0         Aaj Tak  RIGHT_TO_RIGHTCENTRE  aajtak.intoday.in    Hindi   \n",
       "1       2.0   Dainik Jagran  RIGHT_TO_RIGHTCENTRE         jagran.com    Hindi   \n",
       "2       3.0       RVCJ News                   NaN           rvcj.com  English   \n",
       "3       4.0  Dainik Bhaskar  RIGHT_TO_RIGHTCENTRE        bhaskar.com    Hindi   \n",
       "4       5.0        Zee News  RIGHT_TO_RIGHTCENTRE  zeenews.india.com  English   \n",
       "\n",
       "     MobileSite PrintMedia TVMedia OnlineMedia FacebookReach TwitterReach  \\\n",
       "0   m.aajtak.in          N       Y           Y         26.2M         9.8M   \n",
       "1  m.jagran.com          Y       N           Y         14.8M         1.1M   \n",
       "2             N          N       N           Y         14.5M       193.0K   \n",
       "3             N          Y       N           Y         14.3M         1.0M   \n",
       "4             N          N       Y           Y         11.4M         3.2M   \n",
       "\n",
       "  InstagramReach AlexaGlobalRank AlexaIndiaRank  \\\n",
       "0           3.7M          607.7K          98.2K   \n",
       "1          58.5K            1.7K            132   \n",
       "2           2.5M           26.9K           3.8K   \n",
       "3         988.2K            1.3K            107   \n",
       "4           1.8M           74.9K           7.6K   \n",
       "\n",
       "                                  Parent_Company  \\\n",
       "0  Living Media Group (TV Today Network Limited)   \n",
       "1                       Jagran Prakashan Limited   \n",
       "2             RVCJ Digital Media Private Limited   \n",
       "3                               D B Corp Limited   \n",
       "4                                    Essel Group   \n",
       "\n",
       "                         Website_Registrar Registered_On  Expires_On  \\\n",
       "0                  MPS Infotecnics Limited    16/02/2005  16/02/2029   \n",
       "1                   Network Solutions, LLC    17/01/1997  18/01/2030   \n",
       "2                          NameCheap, Inc.    20/04/2007  20/04/2022   \n",
       "3  PDR Ltd. d/b/a PublicDomainRegistry.com    17/04/1998  16/04/2029   \n",
       "4                         GoDaddy.com, LLC    13/08/1997  30/05/2027   \n",
       "\n",
       "                       TrafficContributingSubDomains  \n",
       "0        {'m.aajtak.in': '93.83%', 'OTHER': '6.17%'}  \n",
       "1  {'jagran.com': '70.51%', 'epaper.jagran.com': ...  \n",
       "2           {'rvcj.com': '99.04%', 'OTHER': '0.97%'}  \n",
       "3  {'bhaskar.com': '72.22%', 'epaper.bhaskar.com'...  \n",
       "4  {'cdn.zeenews.com': '53.01%', 'my.zeenews.com'...  "
      ]
     },
     "execution_count": 8,
     "metadata": {},
     "output_type": "execute_result"
    }
   ],
   "source": [
    "news_websites = pd.read_csv(\"../lite_data/Website_List.csv\", header=0)\n",
    "news_websites.head()"
   ]
  },
  {
   "cell_type": "code",
   "execution_count": 9,
   "metadata": {},
   "outputs": [],
   "source": [
    "news_websites['TrafficContributingSubDomains'] = news_websites['TrafficContributingSubDomains'].fillna('{}')"
   ]
  },
  {
   "cell_type": "code",
   "execution_count": 10,
   "metadata": {},
   "outputs": [],
   "source": [
    "import ast\n",
    "\n",
    "news_websites['TrafficContributingSubDomains'] = news_websites['TrafficContributingSubDomains'].apply(ast.literal_eval)\n",
    "    "
   ]
  },
  {
   "cell_type": "code",
   "execution_count": 11,
   "metadata": {},
   "outputs": [],
   "source": [
    "all_splits = []\n",
    "for idx, row in news_websites.iterrows():\n",
    "    try:\n",
    "        el = row['Website_URL'].split(\".\")\n",
    "    except:\n",
    "        el = []\n",
    "        \n",
    "    try:\n",
    "        ml = row['MobileSite'].split()\n",
    "    \n",
    "    except:\n",
    "        ml = []\n",
    "        \n",
    "    kl = []\n",
    "    ks = row['TrafficContributingSubDomains'].keys()\n",
    "    for k in ks:\n",
    "        if k!= 'OTHER':\n",
    "            kl = kl + k.split(\".\")\n",
    "            \n",
    "    fl = el + ml + kl\n",
    "    all_splits = all_splits + fl\n",
    "            \n"
   ]
  },
  {
   "cell_type": "code",
   "execution_count": 12,
   "metadata": {
    "scrolled": true
   },
   "outputs": [
    {
     "name": "stdout",
     "output_type": "stream",
     "text": [
      "Counter({'com': 480, 'N': 100, 'in': 85, 'epaper': 39, 'indiatimes': 24, 'm': 22, 'hindi': 20, 'ndtv': 18, 'images': 16, 'news18': 16, 'punjabkesari': 16, 'webdunia': 16, 'indianexpress': 14, 'jagran': 13, 'oneindia': 13, 'thehindu': 12, 'hindustantimes': 11, 'mathrubhumi': 11, 'dinamalar': 10, 'manoramaonline': 10, 'dailyhunt': 10, 'amarujala': 9, 'net': 9, 'bhaskar': 8, 'patrika': 8, 'moneycontrol': 8, 'business-standard': 8, 'greatandhra': 8, 'india': 7, 'cdn': 7, 'timesnownews': 7, 'scoopwhoop': 7, 'eenadu': 7, 'thewire': 7, 'english': 6, 'timesofindia': 6, 'lokmat': 6, 'anandabazar': 6, 'mid-day': 6, 'scroll': 6, 'siasat': 6, 'andhrajyothy': 6, 'newsnation': 6, 'thehindubusinessline': 6, 'zeenews': 5, 'bbc': 5, 'telugu': 5, 'jansatta': 5, 'firstpost': 5, 'livehindustan': 5, 'republicworld': 5, 'telanganatoday': 5, 'telegraphindia': 5, 'tribuneindia': 5, 'newstracklive': 5, 'indiatvnews': 4, 'malayalam': 4, 'tamil': 4, 'thequint': 4, 'media': 4, 'financialexpress': 4, 'pinkvilla': 4, 'businesstoday': 4, 'outlookindia': 4, 'catchnews': 4, 'opindia': 4, 'indiatoday': 3, 'news24online': 3, 'news': 3, 'sports': 3, 'economictimes': 3, 'navbharattimes': 3, 'mumbaimirror': 3, 'bangaloremirror': 3, 'ahmedabadmirror': 3, 'bengali': 3, 'archive': 3, 'kannada': 3, 'gujarati': 3, 'static': 3, 'dailythanthi': 3, 'sandesh': 3, 'newindianexpress': 3, 'thebetterindia': 3, 'greaterkashmir': 3, 'cnbctv18': 3, 'deccanchronicle': 3, 'fakingnews': 3, 'dnaindia': 3, 'livemint': 3, 'topyaps': 3, 'swarajyamag': 3, 'theprint': 3, 'wionews': 3, 'ptinews': 3, 'dailyexcelsior': 3, 'thestatesman': 3, 'statetimes': 3, 'deshabhimani': 3, 'socialsamosa': 3, 'altnews': 3, 'prabhatkhabar': 3, 'starofmysore': 3, 'headlinesoftoday': 3, 'sinceindependence': 3, 'asianage': 3, 'freepressjournal': 3, 'aajtak': 2, 'rvcj': 2, 'mail': 2, 'abplive': 2, 'khabar': 2, 'food': 2, 'accounts': 2, 'api': 2, 'urdu': 2, 'punjab': 2, 'thelogicalindian': 2, 'todayspaper': 2, 'subscription': 2, 'archives': 2, 's3': 2, 'newsonair': 2, 'nic': 2, 'astrology': 2, 'brut': 2, 'newslivetv': 2, 'beta': 2, 'gujaratsamachar': 2, 'support': 2, 'newdelhitimes': 2, 'kashmirlife': 2, 'huffingtonpost': 2, 'thenewsminute': 2, 'businessinsider': 2, 'youthkiawaaz': 2, 'risingkashmir': 2, 'aninews': 2, 'dailyo': 2, 'forbesindia': 2, 'wisden': 2, 'sentinelassam': 2, 'newslaundry': 2, 'dashboard': 2, 'leagueofindia': 2, 'thesangaiexpress': 2, 'kashmirreader': 2, 'news4masses': 2, 'countercurrents': 2, 'org': 2, 'Punemirror': 2, 'nagpurtoday': 2, 'dailypioneer': 2, 'timesheadline': 2, '5abnow': 2, 'ians': 2, 'factchecker': 2, 'intoday': 1, 'm.aajtak.in': 1, 'm.jagran.com': 1, 'classifieds': 1, 'mapi': 1, 'naiduniaepaper': 1, 'epaperapi': 1, 'events': 1, 'webmail': 1, 'originakam-epaper': 1, 'money': 1, 'divyamarathi': 1, 'epaperdivyamarathi': 1, 'daily': 1, 'digitalimages': 1, 'my': 1, 'careers': 1, 'resize': 1, 'm.timesofindia.com': 1, 'recipes': 1, 'epaperbeta': 1, 'auth': 1, 'com/hindi': 1, 'account': 1, 'shop': 1, 'emails': 1, 'gadgets': 1, 'movies': 1, 'doctor': 1, 'swirlster': 1, 'stage-www': 1, 'special': 1, 'swachhindia': 1, 'everylifecounts': 1, 'drop': 1, 'edata': 1, 'social': 1, 'spiderimg': 1, 'results': 1, 'myau': 1, 'epaperimg1': 1, 'epaperwmimg': 1, 'sso': 1, 'photogallery': 1, 'eisamay': 1, 'punemirror': 1, 'etportfolio': 1, 'maharashtratimes': 1, 'jsso': 1, 'beautypageants': 1, 'mytimes': 1, 'navbharatgold': 1, 'pdf': 1, 'notify': 1, 'expressgroup': 1, 'mocktest': 1, 'data': 1, 'fit': 1, 'm.patrika.com': 1, 'new-img': 1, 'dailynews360': 1, 'cloud': 1, 'assam': 1, 'odia': 1, 'compareindia': 1, 'Hindustantimes': 1, 'm.hindustantimes.com': 1, 'bangla': 1, 'liveupdates': 1, 'auto': 1, 'htgifa': 1, 'punjabi': 1, 'imgk': 1, 'dev': 1, 'uat': 1, 'fr': 1, 'm.punjabkesari.in': 1, 'jagbani': 1, 'nari': 1, 'haryana': 1, 'himachal': 1, 'up': 1, 'mp': 1, 'pkcms': 1, 'gadget': 1, 'epaperimg': 1, 'ep-cdn-s3': 1, 'sportstar': 1, 'roofandfloor': 1, 'frontline': 1, 'tai': 1, 'step': 1, 'crossword': 1, 'ywc': 1, 'readepaper': 1, 'image': 1, 's4': 1, 'quicksilver': 1, 'm.economictimes.com': 1, 'm.mid-day.com': 1, 'epaper2': 1, 'cinema': 1, 'temple': 1, 'ipaper': 1, 'business': 1, 'kalvimalar': 1, 'digital': 1, 'tv': 1, 'buybooks': 1, 'Newindianexpress': 1, 'media/in': 1, 'user': 1, 'tech': 1, 'children': 1, 'eweekly': 1, 'localnews': 1, 'subscribe': 1, 'travel': 1, 'm.lokmat.com': 1, 'astro': 1, 'm.livehindustan.com': 1, 'images1': 1, 'm.republicworld.com': 1, 'bharat': 1, 'img': 1, 'regional': 1, 'satyagrah': 1, 'amp': 1, 'blog': 1, 'm.businesstoday.in': 1, 'bschools': 1, 'Siasat': 1, 'm.andhrajyothy.com': 1, 'lit': 1, 'mpaper': 1, 'm.dailyhunt.in': 1, 'dhcreator': 1, 'onepoint': 1, 'assets-news-bcdn': 1, 'xiaomi': 1, 'dhpublish': 1, 'web': 1, 'direct': 1, 'poshan': 1, 'Livemint': 1, 'm.livemint.com': 1, 'm.eenadu.net': 1, 'assets': 1, 'm-hindi.webdunia.com': 1, 'marathi': 1, 'm-hindi': 1, 'wdcmsadmin': 1, 'wdncmsadmin': 1, 'utilities': 1, 'm-telugu': 1, 'mmb': 1, 'moneybhai': 1, 'livecms': 1, 'static-news': 1, 'ems': 1, 'cdn5': 1, 'cdn4': 1, 'm.thewire.in': 1, 'science': 1, 'livewire': 1, 'Deccanherald': 1, 'deccanherald': 1, 'bloncampus': 1, 'campaign': 1, 'subscriptions': 1, 'c': 1, 'bhasha': 1, 'Milligazette': 1, 'milligazette': 1, 'wap.business-standard.com': 1, 'bsmedia': 1, 'smartinvestor': 1, 'wap': 1, 's': 1, 'Sentinelassam': 1, 'm.telegraphindia.com': 1, 'Tribuneindia': 1, 'm.tribuneindia.com': 1, 'cms': 1, 'coupons': 1, 'recharge': 1, 'wallpapers': 1, 'polls': 1, 'Assamtribune': 1, 'assamtribune': 1, 'm.deshabhimani.com': 1, 'myvoice': 1, 'jobs': 1, 'Newstracklive': 1, 'onlineepaper': 1, 'm.greatandhra.com': 1, 'mobi': 1, 'gallery': 1, 'trends': 1})\n"
     ]
    }
   ],
   "source": [
    "print(Counter(all_splits))"
   ]
  },
  {
   "cell_type": "code",
   "execution_count": 13,
   "metadata": {},
   "outputs": [],
   "source": [
    "whitelist = ['com', 'N', 'net', 'in', 'm', 'india', 'english', 'malayalam', 'tamil', 'media', 'bengali', \n",
    "             'kannada', 'archive', 'gujarati', 'api', 'nic', 'brut', 'my', 'auth', 'bangla', 'punjabi', 'up',\n",
    "             'mp', 'assam', 'odia', 'punjabi', 'tai', 'dev', 'uat', 'auto', 'fr', 'nari', 'step', 'temple', \n",
    "             'hindi', 'satyagrah', 'c', 's', 'lit', 'science']"
   ]
  },
  {
   "cell_type": "code",
   "execution_count": 14,
   "metadata": {},
   "outputs": [],
   "source": [
    "all_handles = list(set(full_fdata['handle'].tolist()))\n",
    "check_handle = pd.DataFrame()\n",
    "check_handle['handle'] = all_handles"
   ]
  },
  {
   "cell_type": "code",
   "execution_count": 15,
   "metadata": {},
   "outputs": [],
   "source": [
    "domain_shorts = [d for d in Counter(all_splits).keys() if d not in whitelist] + ['toi']"
   ]
  },
  {
   "cell_type": "code",
   "execution_count": 16,
   "metadata": {},
   "outputs": [],
   "source": [
    "def checkhandleshort(text):\n",
    "    for d in domain_shorts:\n",
    "        if d in text.lower():\n",
    "            return d\n",
    "        \n",
    "    return 0\n",
    "check_handle['is_newshshort'] = check_handle['handle'].parallel_apply(lambda x: checkhandleshort(x))"
   ]
  },
  {
   "cell_type": "code",
   "execution_count": 17,
   "metadata": {},
   "outputs": [
    {
     "name": "stdout",
     "output_type": "stream",
     "text": [
      "Counter({0: 67632, 'news': 1825, 'org': 1093, 'tv': 796, 'ems': 522, 'sso': 516, 'amp': 411, 'tech': 278, 'food': 209, 'support': 199, 'ians': 185, 'bharat': 169, 'social': 163, 'travel': 162, 'daily': 154, 'sports': 135, 'fit': 134, 'shop': 126, 's4': 125, 'blog': 123, 'children': 99, 'punjab': 93, 'patrika': 91, 'business': 83, 'web': 83, 'digital': 74, 'doctor': 63, 'toi': 58, 'cinema': 55, 'astro': 52, 'khabar': 52, 'money': 51, 'himachal': 48, 'mobi': 46, 'direct': 44, 'special': 44, 'haryana': 43, 'wap': 38, 'marathi': 36, 'jobs': 35, 'telugu': 35, 'gallery': 34, 'movies': 33, 'events': 33, 'ywc': 32, 'urdu': 24, 'data': 23, 'cloud': 23, 'ndtv': 22, 'account': 21, 'jagran': 20, 'thehindu': 19, 'beta': 19, 'user': 18, 'careers': 17, 'lokmat': 17, 's3': 17, 'regional': 16, 'mail': 16, 'image': 15, 'mathrubhumi': 15, 'bhaskar': 15, 'cms': 14, 'frontline': 12, 'oneindia': 11, 'bbc': 10, 'img': 10, 'aajtak': 10, 'amarujala': 9, 'zeenews': 9, 'eenadu': 8, 'indiatoday': 8, 'archives': 8, 'drop': 8, 'trends': 8, 'cdn': 7, 'gadgets': 7, 'scroll': 7, 'sandesh': 7, 'economictimes': 7, 'timesofindia': 6, 'recipes': 6, 'images': 6, 'jagbani': 5, 'hindustantimes': 5, 'thewire': 4, 'jansatta': 4, 'indiatimes': 4, 'gadget': 4, 'results': 4, 'anandabazar': 4, 'mmb': 4, 'theprint': 3, 'eweekly': 3, 'factchecker': 3, 'astrology': 3, 'rvcj': 3, 'siasat': 2, 'abplive': 2, 'pdf': 2, 'utilities': 2, 'indianexpress': 2, 'crossword': 2, 'youthkiawaaz': 2, 'firstpost': 2, 'dnaindia': 2, 'livewire': 2, 'opindia': 2, 'polls': 2, 'edata': 2, 'telanganatoday': 2, 'bhasha': 2, 'kashmirlife': 2, 'xiaomi': 1, 'assets': 1, 'bangaloremirror': 1, 'roofandfloor': 1, 'assamtribune': 1, 'poshan': 1, 'risingkashmir': 1, 'telegraphindia': 1, 'starofmysore': 1, 'outlookindia': 1, 'photogallery': 1, 'epaper': 1, 'ahmedabadmirror': 1, 'forbesindia': 1, 'navbharattimes': 1, 'swarajyamag': 1, 'intoday': 1, 'myvoice': 1, 'punemirror': 1, 'leagueofindia': 1, 'milligazette': 1, 'manoramaonline': 1, 'freepressjournal': 1, 'scoopwhoop': 1, 'thelogicalindian': 1, 'maharashtratimes': 1, 'republicworld': 1, 'eisamay': 1, 'livemint': 1, 'financialexpress': 1, 'asianage': 1, 'deccanherald': 1, 'bschools': 1, 'dashboard': 1, 'indiatvnews': 1, 'sinceindependence': 1})\n"
     ]
    }
   ],
   "source": [
    "print(Counter(check_handle['is_newshshort'].tolist()))"
   ]
  },
  {
   "cell_type": "code",
   "execution_count": 18,
   "metadata": {
    "scrolled": true
   },
   "outputs": [
    {
     "data": {
      "text/html": [
       "<div>\n",
       "<style scoped>\n",
       "    .dataframe tbody tr th:only-of-type {\n",
       "        vertical-align: middle;\n",
       "    }\n",
       "\n",
       "    .dataframe tbody tr th {\n",
       "        vertical-align: top;\n",
       "    }\n",
       "\n",
       "    .dataframe thead th {\n",
       "        text-align: right;\n",
       "    }\n",
       "</style>\n",
       "<table border=\"1\" class=\"dataframe\">\n",
       "  <thead>\n",
       "    <tr style=\"text-align: right;\">\n",
       "      <th></th>\n",
       "      <th>handle</th>\n",
       "      <th>is_newshshort</th>\n",
       "    </tr>\n",
       "  </thead>\n",
       "  <tbody>\n",
       "    <tr>\n",
       "      <th>6524</th>\n",
       "      <td>aristoindia</td>\n",
       "      <td>toi</td>\n",
       "    </tr>\n",
       "    <tr>\n",
       "      <th>6921</th>\n",
       "      <td>toinagpur</td>\n",
       "      <td>toi</td>\n",
       "    </tr>\n",
       "    <tr>\n",
       "      <th>8215</th>\n",
       "      <td>Mytriptoindiadelhi</td>\n",
       "      <td>toi</td>\n",
       "    </tr>\n",
       "    <tr>\n",
       "      <th>8219</th>\n",
       "      <td>Chandigarh.TOI</td>\n",
       "      <td>toi</td>\n",
       "    </tr>\n",
       "    <tr>\n",
       "      <th>12766</th>\n",
       "      <td>BrestOilReundar</td>\n",
       "      <td>toi</td>\n",
       "    </tr>\n",
       "    <tr>\n",
       "      <th>15631</th>\n",
       "      <td>nirvanatourstoindia</td>\n",
       "      <td>toi</td>\n",
       "    </tr>\n",
       "    <tr>\n",
       "      <th>15717</th>\n",
       "      <td>toidocsachonline</td>\n",
       "      <td>toi</td>\n",
       "    </tr>\n",
       "    <tr>\n",
       "      <th>17312</th>\n",
       "      <td>aeyautoimport.car</td>\n",
       "      <td>toi</td>\n",
       "    </tr>\n",
       "    <tr>\n",
       "      <th>17983</th>\n",
       "      <td>RudySotoIDUSA</td>\n",
       "      <td>toi</td>\n",
       "    </tr>\n",
       "    <tr>\n",
       "      <th>18842</th>\n",
       "      <td>TOINoida</td>\n",
       "      <td>toi</td>\n",
       "    </tr>\n",
       "    <tr>\n",
       "      <th>19040</th>\n",
       "      <td>TOIKerala</td>\n",
       "      <td>toi</td>\n",
       "    </tr>\n",
       "    <tr>\n",
       "      <th>19276</th>\n",
       "      <td>AIMToInnovate</td>\n",
       "      <td>toi</td>\n",
       "    </tr>\n",
       "    <tr>\n",
       "      <th>20853</th>\n",
       "      <td>TOIAuto</td>\n",
       "      <td>toi</td>\n",
       "    </tr>\n",
       "    <tr>\n",
       "      <th>21118</th>\n",
       "      <td>NijekeTOIRIKorun</td>\n",
       "      <td>toi</td>\n",
       "    </tr>\n",
       "    <tr>\n",
       "      <th>22248</th>\n",
       "      <td>TheTortoiseTable</td>\n",
       "      <td>toi</td>\n",
       "    </tr>\n",
       "    <tr>\n",
       "      <th>25212</th>\n",
       "      <td>Autoimmunity</td>\n",
       "      <td>toi</td>\n",
       "    </tr>\n",
       "    <tr>\n",
       "      <th>25716</th>\n",
       "      <td>ChennaiTOI</td>\n",
       "      <td>toi</td>\n",
       "    </tr>\n",
       "    <tr>\n",
       "      <th>26282</th>\n",
       "      <td>TOIHyderabad</td>\n",
       "      <td>toi</td>\n",
       "    </tr>\n",
       "    <tr>\n",
       "      <th>26365</th>\n",
       "      <td>AntoinetteforNM</td>\n",
       "      <td>toi</td>\n",
       "    </tr>\n",
       "    <tr>\n",
       "      <th>26994</th>\n",
       "      <td>SierraClubToiyabe</td>\n",
       "      <td>toi</td>\n",
       "    </tr>\n",
       "    <tr>\n",
       "      <th>27845</th>\n",
       "      <td>GoaTimesTOI</td>\n",
       "      <td>toi</td>\n",
       "    </tr>\n",
       "    <tr>\n",
       "      <th>29662</th>\n",
       "      <td>TOIMumbai</td>\n",
       "      <td>toi</td>\n",
       "    </tr>\n",
       "    <tr>\n",
       "      <th>29842</th>\n",
       "      <td>OanaToiuUSRPLUS</td>\n",
       "      <td>toi</td>\n",
       "    </tr>\n",
       "    <tr>\n",
       "      <th>30760</th>\n",
       "      <td>oktatoihalozat</td>\n",
       "      <td>toi</td>\n",
       "    </tr>\n",
       "    <tr>\n",
       "      <th>31814</th>\n",
       "      <td>AntoinetteEssaCBS6</td>\n",
       "      <td>toi</td>\n",
       "    </tr>\n",
       "    <tr>\n",
       "      <th>34859</th>\n",
       "      <td>ktoindia</td>\n",
       "      <td>toi</td>\n",
       "    </tr>\n",
       "    <tr>\n",
       "      <th>36853</th>\n",
       "      <td>TOIDelhi</td>\n",
       "      <td>toi</td>\n",
       "    </tr>\n",
       "    <tr>\n",
       "      <th>38365</th>\n",
       "      <td>TETOinIndonesia</td>\n",
       "      <td>toi</td>\n",
       "    </tr>\n",
       "    <tr>\n",
       "      <th>38718</th>\n",
       "      <td>NautoInc</td>\n",
       "      <td>toi</td>\n",
       "    </tr>\n",
       "    <tr>\n",
       "      <th>43372</th>\n",
       "      <td>TOILucknow</td>\n",
       "      <td>toi</td>\n",
       "    </tr>\n",
       "    <tr>\n",
       "      <th>44605</th>\n",
       "      <td>TOIBLR</td>\n",
       "      <td>toi</td>\n",
       "    </tr>\n",
       "    <tr>\n",
       "      <th>45301</th>\n",
       "      <td>sorrentoitalianmarket</td>\n",
       "      <td>toi</td>\n",
       "    </tr>\n",
       "    <tr>\n",
       "      <th>46691</th>\n",
       "      <td>yetobadatoinghain</td>\n",
       "      <td>toi</td>\n",
       "    </tr>\n",
       "    <tr>\n",
       "      <th>48147</th>\n",
       "      <td>TOINaviMumbai</td>\n",
       "      <td>toi</td>\n",
       "    </tr>\n",
       "    <tr>\n",
       "      <th>48236</th>\n",
       "      <td>TorontoIWW</td>\n",
       "      <td>toi</td>\n",
       "    </tr>\n",
       "    <tr>\n",
       "      <th>49221</th>\n",
       "      <td>TOIPune</td>\n",
       "      <td>toi</td>\n",
       "    </tr>\n",
       "    <tr>\n",
       "      <th>55007</th>\n",
       "      <td>volvoautoindia</td>\n",
       "      <td>toi</td>\n",
       "    </tr>\n",
       "    <tr>\n",
       "      <th>57500</th>\n",
       "      <td>boitoi.in</td>\n",
       "      <td>toi</td>\n",
       "    </tr>\n",
       "    <tr>\n",
       "      <th>58339</th>\n",
       "      <td>toicricket</td>\n",
       "      <td>toi</td>\n",
       "    </tr>\n",
       "    <tr>\n",
       "      <th>61367</th>\n",
       "      <td>TOIGurgaon</td>\n",
       "      <td>toi</td>\n",
       "    </tr>\n",
       "    <tr>\n",
       "      <th>62201</th>\n",
       "      <td>CryptoIQPage</td>\n",
       "      <td>toi</td>\n",
       "    </tr>\n",
       "    <tr>\n",
       "      <th>62343</th>\n",
       "      <td>TOIStudent</td>\n",
       "      <td>toi</td>\n",
       "    </tr>\n",
       "    <tr>\n",
       "      <th>63616</th>\n",
       "      <td>HyderabadTimesTOI</td>\n",
       "      <td>toi</td>\n",
       "    </tr>\n",
       "    <tr>\n",
       "      <th>64791</th>\n",
       "      <td>helsinginsosiaalijaterveystoimi</td>\n",
       "      <td>toi</td>\n",
       "    </tr>\n",
       "    <tr>\n",
       "      <th>65577</th>\n",
       "      <td>AhmedabadTimesTOI</td>\n",
       "      <td>toi</td>\n",
       "    </tr>\n",
       "    <tr>\n",
       "      <th>67811</th>\n",
       "      <td>ArtNotOil</td>\n",
       "      <td>toi</td>\n",
       "    </tr>\n",
       "    <tr>\n",
       "      <th>69192</th>\n",
       "      <td>Saigontrongtraitimtoi</td>\n",
       "      <td>toi</td>\n",
       "    </tr>\n",
       "    <tr>\n",
       "      <th>69256</th>\n",
       "      <td>inrestoindia</td>\n",
       "      <td>toi</td>\n",
       "    </tr>\n",
       "    <tr>\n",
       "      <th>69530</th>\n",
       "      <td>AUTOiCARE.in</td>\n",
       "      <td>toi</td>\n",
       "    </tr>\n",
       "    <tr>\n",
       "      <th>71667</th>\n",
       "      <td>indigenousnationsunitedtoimpeachdonaldtrump</td>\n",
       "      <td>toi</td>\n",
       "    </tr>\n",
       "    <tr>\n",
       "      <th>72047</th>\n",
       "      <td>toitoporcodazzi</td>\n",
       "      <td>toi</td>\n",
       "    </tr>\n",
       "    <tr>\n",
       "      <th>73879</th>\n",
       "      <td>witnesstoinnocence</td>\n",
       "      <td>toi</td>\n",
       "    </tr>\n",
       "    <tr>\n",
       "      <th>73896</th>\n",
       "      <td>AmericanTortoiseRescue</td>\n",
       "      <td>toi</td>\n",
       "    </tr>\n",
       "    <tr>\n",
       "      <th>74137</th>\n",
       "      <td>StoicSolutionsPodcast</td>\n",
       "      <td>toi</td>\n",
       "    </tr>\n",
       "    <tr>\n",
       "      <th>74495</th>\n",
       "      <td>timeslife.toi</td>\n",
       "      <td>toi</td>\n",
       "    </tr>\n",
       "    <tr>\n",
       "      <th>75013</th>\n",
       "      <td>CoconutOilandAlzheimers</td>\n",
       "      <td>toi</td>\n",
       "    </tr>\n",
       "    <tr>\n",
       "      <th>75869</th>\n",
       "      <td>LetsFightDiabetes.TOI</td>\n",
       "      <td>toi</td>\n",
       "    </tr>\n",
       "    <tr>\n",
       "      <th>76562</th>\n",
       "      <td>allaboutoilandgas</td>\n",
       "      <td>toi</td>\n",
       "    </tr>\n",
       "  </tbody>\n",
       "</table>\n",
       "</div>"
      ],
      "text/plain": [
       "                                            handle is_newshshort\n",
       "6524                                   aristoindia           toi\n",
       "6921                                     toinagpur           toi\n",
       "8215                            Mytriptoindiadelhi           toi\n",
       "8219                                Chandigarh.TOI           toi\n",
       "12766                              BrestOilReundar           toi\n",
       "15631                          nirvanatourstoindia           toi\n",
       "15717                             toidocsachonline           toi\n",
       "17312                            aeyautoimport.car           toi\n",
       "17983                                RudySotoIDUSA           toi\n",
       "18842                                     TOINoida           toi\n",
       "19040                                    TOIKerala           toi\n",
       "19276                                AIMToInnovate           toi\n",
       "20853                                      TOIAuto           toi\n",
       "21118                             NijekeTOIRIKorun           toi\n",
       "22248                             TheTortoiseTable           toi\n",
       "25212                                 Autoimmunity           toi\n",
       "25716                                   ChennaiTOI           toi\n",
       "26282                                 TOIHyderabad           toi\n",
       "26365                              AntoinetteforNM           toi\n",
       "26994                            SierraClubToiyabe           toi\n",
       "27845                                  GoaTimesTOI           toi\n",
       "29662                                    TOIMumbai           toi\n",
       "29842                              OanaToiuUSRPLUS           toi\n",
       "30760                               oktatoihalozat           toi\n",
       "31814                           AntoinetteEssaCBS6           toi\n",
       "34859                                     ktoindia           toi\n",
       "36853                                     TOIDelhi           toi\n",
       "38365                              TETOinIndonesia           toi\n",
       "38718                                     NautoInc           toi\n",
       "43372                                   TOILucknow           toi\n",
       "44605                                       TOIBLR           toi\n",
       "45301                        sorrentoitalianmarket           toi\n",
       "46691                            yetobadatoinghain           toi\n",
       "48147                                TOINaviMumbai           toi\n",
       "48236                                   TorontoIWW           toi\n",
       "49221                                      TOIPune           toi\n",
       "55007                               volvoautoindia           toi\n",
       "57500                                    boitoi.in           toi\n",
       "58339                                   toicricket           toi\n",
       "61367                                   TOIGurgaon           toi\n",
       "62201                                 CryptoIQPage           toi\n",
       "62343                                   TOIStudent           toi\n",
       "63616                            HyderabadTimesTOI           toi\n",
       "64791              helsinginsosiaalijaterveystoimi           toi\n",
       "65577                            AhmedabadTimesTOI           toi\n",
       "67811                                    ArtNotOil           toi\n",
       "69192                        Saigontrongtraitimtoi           toi\n",
       "69256                                 inrestoindia           toi\n",
       "69530                                 AUTOiCARE.in           toi\n",
       "71667  indigenousnationsunitedtoimpeachdonaldtrump           toi\n",
       "72047                              toitoporcodazzi           toi\n",
       "73879                           witnesstoinnocence           toi\n",
       "73896                       AmericanTortoiseRescue           toi\n",
       "74137                        StoicSolutionsPodcast           toi\n",
       "74495                                timeslife.toi           toi\n",
       "75013                      CoconutOilandAlzheimers           toi\n",
       "75869                        LetsFightDiabetes.TOI           toi\n",
       "76562                            allaboutoilandgas           toi"
      ]
     },
     "execution_count": 18,
     "metadata": {},
     "output_type": "execute_result"
    }
   ],
   "source": [
    "check_handle.loc[check_handle['is_newshshort']=='toi']"
   ]
  },
  {
   "cell_type": "code",
   "execution_count": 19,
   "metadata": {},
   "outputs": [
    {
     "name": "stdout",
     "output_type": "stream",
     "text": [
      "67632\n"
     ]
    }
   ],
   "source": [
    "valid_handles = check_handle.loc[check_handle['is_newshshort']==0]['handle'].tolist()\n",
    "print(len(valid_handles))"
   ]
  },
  {
   "cell_type": "code",
   "execution_count": 20,
   "metadata": {},
   "outputs": [],
   "source": [
    "tframe = fulltdata[['screen_name','party','text']]\n",
    "fframe = full_fdata.loc[full_fdata['handle'].isin(valid_handles)][['handle','message']]\n",
    "\n",
    "tframe = tframe.rename(columns={'screen_name':'handle', 'text':'message'})\n",
    "fframe['party'] = 'facebook_group'\n",
    "\n",
    "tframe['handle'] = tframe['handle'].apply(lambda x: x + \"_twitter\")\n",
    "fframe['handle'] = fframe['handle'].apply(lambda x: x + \"_facebook\")\n"
   ]
  },
  {
   "cell_type": "code",
   "execution_count": 21,
   "metadata": {},
   "outputs": [],
   "source": [
    "frame = pd.concat([tframe, fframe])"
   ]
  },
  {
   "cell_type": "code",
   "execution_count": 22,
   "metadata": {},
   "outputs": [
    {
     "data": {
      "text/html": [
       "<div>\n",
       "<style scoped>\n",
       "    .dataframe tbody tr th:only-of-type {\n",
       "        vertical-align: middle;\n",
       "    }\n",
       "\n",
       "    .dataframe tbody tr th {\n",
       "        vertical-align: top;\n",
       "    }\n",
       "\n",
       "    .dataframe thead th {\n",
       "        text-align: right;\n",
       "    }\n",
       "</style>\n",
       "<table border=\"1\" class=\"dataframe\">\n",
       "  <thead>\n",
       "    <tr style=\"text-align: right;\">\n",
       "      <th></th>\n",
       "      <th>handle</th>\n",
       "      <th>party</th>\n",
       "      <th>message</th>\n",
       "    </tr>\n",
       "  </thead>\n",
       "  <tbody>\n",
       "    <tr>\n",
       "      <th>100</th>\n",
       "      <td>Karan4BJP_twitter</td>\n",
       "      <td>BJP</td>\n",
       "      <td>@DivyaGuptabjp @vdsharmabjp @vaibhavpawarmp सभ...</td>\n",
       "    </tr>\n",
       "    <tr>\n",
       "      <th>104</th>\n",
       "      <td>Karan4BJP_twitter</td>\n",
       "      <td>BJP</td>\n",
       "      <td>@JPNadda @ombirlakota आपके follow back की प्रत...</td>\n",
       "    </tr>\n",
       "    <tr>\n",
       "      <th>105</th>\n",
       "      <td>Karan4BJP_twitter</td>\n",
       "      <td>BJP</td>\n",
       "      <td>How's it's ⁉️😅\\nकैसी रही मित्रों..... https://...</td>\n",
       "    </tr>\n",
       "    <tr>\n",
       "      <th>106</th>\n",
       "      <td>Karan4BJP_twitter</td>\n",
       "      <td>BJP</td>\n",
       "      <td>@Twitter Tonight you're eating followers in yo...</td>\n",
       "    </tr>\n",
       "    <tr>\n",
       "      <th>107</th>\n",
       "      <td>Karan4BJP_twitter</td>\n",
       "      <td>BJP</td>\n",
       "      <td>@SuhasBhagatBJP @TwitterIndia भाईसाहब सभी के उ...</td>\n",
       "    </tr>\n",
       "  </tbody>\n",
       "</table>\n",
       "</div>"
      ],
      "text/plain": [
       "                handle party  \\\n",
       "100  Karan4BJP_twitter   BJP   \n",
       "104  Karan4BJP_twitter   BJP   \n",
       "105  Karan4BJP_twitter   BJP   \n",
       "106  Karan4BJP_twitter   BJP   \n",
       "107  Karan4BJP_twitter   BJP   \n",
       "\n",
       "                                               message  \n",
       "100  @DivyaGuptabjp @vdsharmabjp @vaibhavpawarmp सभ...  \n",
       "104  @JPNadda @ombirlakota आपके follow back की प्रत...  \n",
       "105  How's it's ⁉️😅\\nकैसी रही मित्रों..... https://...  \n",
       "106  @Twitter Tonight you're eating followers in yo...  \n",
       "107  @SuhasBhagatBJP @TwitterIndia भाईसाहब सभी के उ...  "
      ]
     },
     "execution_count": 22,
     "metadata": {},
     "output_type": "execute_result"
    }
   ],
   "source": [
    "frame.head()"
   ]
  },
  {
   "cell_type": "code",
   "execution_count": 23,
   "metadata": {},
   "outputs": [],
   "source": [
    "emoji_pattern = re.compile(\"[\"\n",
    "        u\"\\U0001F600-\\U0001F64F\"  # emoticons\n",
    "        u\"\\U0001F300-\\U0001F5FF\"  # symbols & pictographs\n",
    "        u\"\\U0001F680-\\U0001F6FF\"  # transport & map symbols\n",
    "        u\"\\U0001F1E0-\\U0001F1FF\"  # flags (iOS)\n",
    "        u\"\\U0001F1F2-\\U0001F1F4\"  # Macau flag\n",
    "        u\"\\U0001F1E6-\\U0001F1FF\"  # flags\n",
    "        u\"\\U0001F600-\\U0001F64F\"\n",
    "        u\"\\U00002702-\\U000027B0\"\n",
    "        u\"\\U000024C2-\\U0001F251\"\n",
    "        u\"\\U0001f926-\\U0001f937\"\n",
    "        u\"\\U0001F1F2\"\n",
    "        u\"\\U0001F1F4\"\n",
    "        u\"\\U0001F620\"\n",
    "        u\"\\u200d\"\n",
    "        u\"\\u2640-\\u2642\"\n",
    "        \"]+\", flags=re.UNICODE)\n",
    "\n",
    "\n",
    "\n",
    "\n",
    "remove_urls = lambda x: re.sub(\"http(.+)?(\\W|$)\", ' ', x)\n",
    "remove_RT = lambda x: x.replace(\"RT \", \"\")\n",
    "remove_mentions = lambda x: re.sub(\"@\\S+\", '', x)\n",
    "remove_hashtags = lambda x: re.sub(\"#\\S+\", '', x)\n",
    "remove_digits = lambda x: re.sub(\"\\d+\", \"\", x)\n",
    "remove_punct = lambda x: re.sub(\"!|\\||\\%|\\.|\\-|\\/|:|…|,|\\?|।+|'|⁉|\\*|‘|’|\\\"|\\(|\\)+\", \"\", x)\n",
    "remove_emojis = lambda x: emoji_pattern.sub(\"\", x)\n",
    "normalize_spaces = lambda x: re.sub(\"[\\n\\r\\t ]+\", ' ', x)\n"
   ]
  },
  {
   "cell_type": "code",
   "execution_count": 24,
   "metadata": {},
   "outputs": [],
   "source": [
    "remove_noise = lambda x:normalize_spaces(\n",
    "                                remove_emojis(\n",
    "                                    remove_punct(\n",
    "                                        remove_digits(\n",
    "                                            remove_hashtags(\n",
    "                                                remove_mentions(\n",
    "                                                    remove_punct(\n",
    "                                                        remove_urls(x.lower()))))))))\n"
   ]
  },
  {
   "cell_type": "code",
   "execution_count": 25,
   "metadata": {},
   "outputs": [],
   "source": [
    "frame['clean_text'] = frame['message'].parallel_apply(lambda x: remove_noise(x) if len(x) >15 else '0')"
   ]
  },
  {
   "cell_type": "code",
   "execution_count": 26,
   "metadata": {},
   "outputs": [
    {
     "data": {
      "text/html": [
       "<div>\n",
       "<style scoped>\n",
       "    .dataframe tbody tr th:only-of-type {\n",
       "        vertical-align: middle;\n",
       "    }\n",
       "\n",
       "    .dataframe tbody tr th {\n",
       "        vertical-align: top;\n",
       "    }\n",
       "\n",
       "    .dataframe thead th {\n",
       "        text-align: right;\n",
       "    }\n",
       "</style>\n",
       "<table border=\"1\" class=\"dataframe\">\n",
       "  <thead>\n",
       "    <tr style=\"text-align: right;\">\n",
       "      <th></th>\n",
       "      <th>handle</th>\n",
       "      <th>party</th>\n",
       "      <th>message</th>\n",
       "      <th>clean_text</th>\n",
       "    </tr>\n",
       "  </thead>\n",
       "  <tbody>\n",
       "    <tr>\n",
       "      <th>2263838</th>\n",
       "      <td>kislay_official_twitter</td>\n",
       "      <td>BJP</td>\n",
       "      <td>झारखंड के नवनियुक्त राज्यपाल आदरणीय श्री रमेश ...</td>\n",
       "      <td>झारखंड के नवनियुक्त राज्यपाल आदरणीय श्री रमेश ...</td>\n",
       "    </tr>\n",
       "    <tr>\n",
       "      <th>10585600</th>\n",
       "      <td>SandeepkumarINC_twitter</td>\n",
       "      <td>INC</td>\n",
       "      <td>अ.भ. कांग्रेस कमेटी के राष्ट्रीय महासचिव व गोव...</td>\n",
       "      <td>अभ कांग्रेस कमेटी के राष्ट्रीय महासचिव व गोवा ...</td>\n",
       "    </tr>\n",
       "    <tr>\n",
       "      <th>14024942</th>\n",
       "      <td>AnilChopraINC_twitter</td>\n",
       "      <td>INC</td>\n",
       "      <td>सभी प्रदेशवासियों को सूर्य उपासना व लोक आस्था ...</td>\n",
       "      <td>सभी प्रदेशवासियों को सूर्य उपासना व लोक आस्था ...</td>\n",
       "    </tr>\n",
       "    <tr>\n",
       "      <th>12597098</th>\n",
       "      <td>Chittillappilly_twitter</td>\n",
       "      <td>INC</td>\n",
       "      <td>#BeautyOfIndia\\n#India https://t.co/RPMINUPfbX</td>\n",
       "      <td></td>\n",
       "    </tr>\n",
       "    <tr>\n",
       "      <th>1962542</th>\n",
       "      <td>ashu_k7_twitter</td>\n",
       "      <td>BJP</td>\n",
       "      <td>@karanjohar I never knew you have the power to...</td>\n",
       "      <td>i never knew you have the power to bless or c...</td>\n",
       "    </tr>\n",
       "  </tbody>\n",
       "</table>\n",
       "</div>"
      ],
      "text/plain": [
       "                           handle party  \\\n",
       "2263838   kislay_official_twitter   BJP   \n",
       "10585600  SandeepkumarINC_twitter   INC   \n",
       "14024942    AnilChopraINC_twitter   INC   \n",
       "12597098  Chittillappilly_twitter   INC   \n",
       "1962542           ashu_k7_twitter   BJP   \n",
       "\n",
       "                                                    message  \\\n",
       "2263838   झारखंड के नवनियुक्त राज्यपाल आदरणीय श्री रमेश ...   \n",
       "10585600  अ.भ. कांग्रेस कमेटी के राष्ट्रीय महासचिव व गोव...   \n",
       "14024942  सभी प्रदेशवासियों को सूर्य उपासना व लोक आस्था ...   \n",
       "12597098     #BeautyOfIndia\\n#India https://t.co/RPMINUPfbX   \n",
       "1962542   @karanjohar I never knew you have the power to...   \n",
       "\n",
       "                                                 clean_text  \n",
       "2263838   झारखंड के नवनियुक्त राज्यपाल आदरणीय श्री रमेश ...  \n",
       "10585600  अभ कांग्रेस कमेटी के राष्ट्रीय महासचिव व गोवा ...  \n",
       "14024942  सभी प्रदेशवासियों को सूर्य उपासना व लोक आस्था ...  \n",
       "12597098                                                     \n",
       "1962542    i never knew you have the power to bless or c...  "
      ]
     },
     "execution_count": 26,
     "metadata": {},
     "output_type": "execute_result"
    }
   ],
   "source": [
    "frame.sample(5)"
   ]
  },
  {
   "cell_type": "code",
   "execution_count": 27,
   "metadata": {},
   "outputs": [
    {
     "name": "stdout",
     "output_type": "stream",
     "text": [
      "8314017\n",
      "8265844\n"
     ]
    }
   ],
   "source": [
    "print(len(frame))\n",
    "frame = frame.loc[frame['clean_text']!='0']\n",
    "print(len(frame))"
   ]
  },
  {
   "cell_type": "code",
   "execution_count": 28,
   "metadata": {},
   "outputs": [],
   "source": [
    "frame.to_csv(\"/data/shruti/ONR/small_data/Fb_twitter_joinedtext_nonews.csv\")"
   ]
  },
  {
   "cell_type": "code",
   "execution_count": 29,
   "metadata": {},
   "outputs": [],
   "source": [
    "frame['textlen'] = frame['clean_text'].parallel_apply(lambda x: len(x.split(\" \")))"
   ]
  },
  {
   "cell_type": "code",
   "execution_count": 30,
   "metadata": {},
   "outputs": [
    {
     "data": {
      "text/plain": [
       "<AxesSubplot:>"
      ]
     },
     "execution_count": 30,
     "metadata": {},
     "output_type": "execute_result"
    },
    {
     "data": {
      "image/png": "[encoded data removed]",
      "text/plain": [
       "<Figure size 432x288 with 1 Axes>"
      ]
     },
     "metadata": {
      "needs_background": "light"
     },
     "output_type": "display_data"
    }
   ],
   "source": [
    "frame['textlen'].plot()"
   ]
  },
  {
   "cell_type": "code",
   "execution_count": 31,
   "metadata": {},
   "outputs": [
    {
     "data": {
      "text/plain": [
       "5899027"
      ]
     },
     "execution_count": 31,
     "metadata": {},
     "output_type": "execute_result"
    }
   ],
   "source": [
    "frame = frame.loc[frame['textlen']>9]\n",
    "len(frame)"
   ]
  },
  {
   "cell_type": "code",
   "execution_count": 32,
   "metadata": {},
   "outputs": [
    {
     "data": {
      "text/html": [
       "<div>\n",
       "<style scoped>\n",
       "    .dataframe tbody tr th:only-of-type {\n",
       "        vertical-align: middle;\n",
       "    }\n",
       "\n",
       "    .dataframe tbody tr th {\n",
       "        vertical-align: top;\n",
       "    }\n",
       "\n",
       "    .dataframe thead th {\n",
       "        text-align: right;\n",
       "    }\n",
       "</style>\n",
       "<table border=\"1\" class=\"dataframe\">\n",
       "  <thead>\n",
       "    <tr style=\"text-align: right;\">\n",
       "      <th></th>\n",
       "      <th>handle</th>\n",
       "      <th>party</th>\n",
       "      <th>message</th>\n",
       "      <th>clean_text</th>\n",
       "      <th>textlen</th>\n",
       "    </tr>\n",
       "  </thead>\n",
       "  <tbody>\n",
       "    <tr>\n",
       "      <th>7255031</th>\n",
       "      <td>Advrsrajeev_twitter</td>\n",
       "      <td>BJP</td>\n",
       "      <td>Hon'ble PM @narendramodi Ji visited Gurudwara ...</td>\n",
       "      <td>honble pm ji visited gurudwara sis ganj sahib ...</td>\n",
       "      <td>24</td>\n",
       "    </tr>\n",
       "    <tr>\n",
       "      <th>2323333</th>\n",
       "      <td>kishanreddybjp_twitter</td>\n",
       "      <td>BJP</td>\n",
       "      <td>Nothing to worry.\\nHave spoken to the local ad...</td>\n",
       "      <td>nothing to worry have spoken to the local admi...</td>\n",
       "      <td>33</td>\n",
       "    </tr>\n",
       "    <tr>\n",
       "      <th>7487</th>\n",
       "      <td>htlucknow_facebook</td>\n",
       "      <td>facebook_group</td>\n",
       "      <td>The Congress is looking to make a comeback in ...</td>\n",
       "      <td>the congress is looking to make a comeback in ...</td>\n",
       "      <td>16</td>\n",
       "    </tr>\n",
       "    <tr>\n",
       "      <th>7641718</th>\n",
       "      <td>ManishMib_twitter</td>\n",
       "      <td>INC</td>\n",
       "      <td>@IYC रोटी का निवाला तोड़ते हुए इतना ध्यान \\nजर...</td>\n",
       "      <td>रोटी का निवाला तोड़ते हुए इतना ध्यान जरूर कर ...</td>\n",
       "      <td>24</td>\n",
       "    </tr>\n",
       "    <tr>\n",
       "      <th>15212459</th>\n",
       "      <td>Rajeevbhartiyaindia_facebook</td>\n",
       "      <td>facebook_group</td>\n",
       "      <td>राहुल गाँधी/काँग्रेस की तरफ़ से इसपर कुछ टिप्पण...</td>\n",
       "      <td>राहुल गाँधीकाँग्रेस की तरफ़ से इसपर कुछ टिप्पणी...</td>\n",
       "      <td>53</td>\n",
       "    </tr>\n",
       "  </tbody>\n",
       "</table>\n",
       "</div>"
      ],
      "text/plain": [
       "                                handle           party  \\\n",
       "7255031            Advrsrajeev_twitter             BJP   \n",
       "2323333         kishanreddybjp_twitter             BJP   \n",
       "7487                htlucknow_facebook  facebook_group   \n",
       "7641718              ManishMib_twitter             INC   \n",
       "15212459  Rajeevbhartiyaindia_facebook  facebook_group   \n",
       "\n",
       "                                                    message  \\\n",
       "7255031   Hon'ble PM @narendramodi Ji visited Gurudwara ...   \n",
       "2323333   Nothing to worry.\\nHave spoken to the local ad...   \n",
       "7487      The Congress is looking to make a comeback in ...   \n",
       "7641718   @IYC रोटी का निवाला तोड़ते हुए इतना ध्यान \\nजर...   \n",
       "15212459  राहुल गाँधी/काँग्रेस की तरफ़ से इसपर कुछ टिप्पण...   \n",
       "\n",
       "                                                 clean_text  textlen  \n",
       "7255031   honble pm ji visited gurudwara sis ganj sahib ...       24  \n",
       "2323333   nothing to worry have spoken to the local admi...       33  \n",
       "7487      the congress is looking to make a comeback in ...       16  \n",
       "7641718    रोटी का निवाला तोड़ते हुए इतना ध्यान जरूर कर ...       24  \n",
       "15212459  राहुल गाँधीकाँग्रेस की तरफ़ से इसपर कुछ टिप्पणी...       53  "
      ]
     },
     "execution_count": 32,
     "metadata": {},
     "output_type": "execute_result"
    }
   ],
   "source": [
    "frame.sample(5)"
   ]
  },
  {
   "cell_type": "code",
   "execution_count": 51,
   "metadata": {},
   "outputs": [
    {
     "data": {
      "text/plain": [
       "<AxesSubplot:>"
      ]
     },
     "execution_count": 51,
     "metadata": {},
     "output_type": "execute_result"
    },
    {
     "data": {
      "image/png": "[encoded data removed]",
      "text/plain": [
       "<Figure size 432x288 with 1 Axes>"
      ]
     },
     "metadata": {
      "needs_background": "light"
     },
     "output_type": "display_data"
    }
   ],
   "source": [
    "n_contrib = frame.groupby('handle').size().reset_index()\n",
    "n_contrib[0].plot()"
   ]
  },
  {
   "cell_type": "code",
   "execution_count": 33,
   "metadata": {},
   "outputs": [],
   "source": [
    "frame.to_csv(\"/data/shruti/ONR/small_data/Fb_twitter_joinedtext_nonews_morethan10words.csv\")"
   ]
  },
  {
   "cell_type": "code",
   "execution_count": 52,
   "metadata": {},
   "outputs": [
    {
     "data": {
      "text/plain": [
       "<AxesSubplot:ylabel='Frequency'>"
      ]
     },
     "execution_count": 52,
     "metadata": {},
     "output_type": "execute_result"
    },
    {
     "data": {
      "image/png": "[encoded data removed]",
      "text/plain": [
       "<Figure size 432x288 with 1 Axes>"
      ]
     },
     "metadata": {
      "needs_background": "light"
     },
     "output_type": "display_data"
    }
   ],
   "source": [
    "n_contrib[0].plot(kind='hist', bins=100)"
   ]
  },
  {
   "cell_type": "code",
   "execution_count": 54,
   "metadata": {},
   "outputs": [
    {
     "data": {
      "text/html": [
       "<div>\n",
       "<style scoped>\n",
       "    .dataframe tbody tr th:only-of-type {\n",
       "        vertical-align: middle;\n",
       "    }\n",
       "\n",
       "    .dataframe tbody tr th {\n",
       "        vertical-align: top;\n",
       "    }\n",
       "\n",
       "    .dataframe thead th {\n",
       "        text-align: right;\n",
       "    }\n",
       "</style>\n",
       "<table border=\"1\" class=\"dataframe\">\n",
       "  <thead>\n",
       "    <tr style=\"text-align: right;\">\n",
       "      <th></th>\n",
       "      <th>handle</th>\n",
       "      <th>0</th>\n",
       "    </tr>\n",
       "  </thead>\n",
       "  <tbody>\n",
       "    <tr>\n",
       "      <th>12152</th>\n",
       "      <td>GloriousUP_facebook</td>\n",
       "      <td>11161</td>\n",
       "    </tr>\n",
       "    <tr>\n",
       "      <th>33726</th>\n",
       "      <td>VoiceOfIn_facebook</td>\n",
       "      <td>11167</td>\n",
       "    </tr>\n",
       "    <tr>\n",
       "      <th>57413</th>\n",
       "      <td>samajwadicyclepage_facebook</td>\n",
       "      <td>11170</td>\n",
       "    </tr>\n",
       "    <tr>\n",
       "      <th>10905</th>\n",
       "      <td>FanofINC_facebook</td>\n",
       "      <td>11173</td>\n",
       "    </tr>\n",
       "    <tr>\n",
       "      <th>46716</th>\n",
       "      <td>indiacom_facebook</td>\n",
       "      <td>11562</td>\n",
       "    </tr>\n",
       "    <tr>\n",
       "      <th>13868</th>\n",
       "      <td>IETamil_facebook</td>\n",
       "      <td>11570</td>\n",
       "    </tr>\n",
       "    <tr>\n",
       "      <th>37952</th>\n",
       "      <td>banglahuntofficial_facebook</td>\n",
       "      <td>11665</td>\n",
       "    </tr>\n",
       "    <tr>\n",
       "      <th>51297</th>\n",
       "      <td>mint.live_facebook</td>\n",
       "      <td>11737</td>\n",
       "    </tr>\n",
       "    <tr>\n",
       "      <th>19859</th>\n",
       "      <td>MirrorNow_facebook</td>\n",
       "      <td>12960</td>\n",
       "    </tr>\n",
       "    <tr>\n",
       "      <th>49753</th>\n",
       "      <td>livelawindia_facebook</td>\n",
       "      <td>13505</td>\n",
       "    </tr>\n",
       "    <tr>\n",
       "      <th>47502</th>\n",
       "      <td>janjwar_facebook</td>\n",
       "      <td>13585</td>\n",
       "    </tr>\n",
       "    <tr>\n",
       "      <th>55689</th>\n",
       "      <td>quinthindi_facebook</td>\n",
       "      <td>13944</td>\n",
       "    </tr>\n",
       "    <tr>\n",
       "      <th>37950</th>\n",
       "      <td>banglahunt_facebook</td>\n",
       "      <td>14170</td>\n",
       "    </tr>\n",
       "    <tr>\n",
       "      <th>41954</th>\n",
       "      <td>divaentertainmentworld_facebook</td>\n",
       "      <td>14404</td>\n",
       "    </tr>\n",
       "    <tr>\n",
       "      <th>33428</th>\n",
       "      <td>VijayKarnataka_facebook</td>\n",
       "      <td>14912</td>\n",
       "    </tr>\n",
       "    <tr>\n",
       "      <th>37639</th>\n",
       "      <td>avan4today_facebook</td>\n",
       "      <td>15146</td>\n",
       "    </tr>\n",
       "    <tr>\n",
       "      <th>35092</th>\n",
       "      <td>ZeeMPCG_facebook</td>\n",
       "      <td>15459</td>\n",
       "    </tr>\n",
       "    <tr>\n",
       "      <th>14645</th>\n",
       "      <td>IndiacomHindi_facebook</td>\n",
       "      <td>15482</td>\n",
       "    </tr>\n",
       "    <tr>\n",
       "      <th>13418</th>\n",
       "      <td>HindustanSmart_facebook</td>\n",
       "      <td>15563</td>\n",
       "    </tr>\n",
       "    <tr>\n",
       "      <th>57428</th>\n",
       "      <td>sambadofficial_facebook</td>\n",
       "      <td>15749</td>\n",
       "    </tr>\n",
       "    <tr>\n",
       "      <th>27547</th>\n",
       "      <td>SamayamTamil_facebook</td>\n",
       "      <td>15830</td>\n",
       "    </tr>\n",
       "    <tr>\n",
       "      <th>63556</th>\n",
       "      <td>washingtonpost_facebook</td>\n",
       "      <td>15944</td>\n",
       "    </tr>\n",
       "    <tr>\n",
       "      <th>61185</th>\n",
       "      <td>thenatlinterest_facebook</td>\n",
       "      <td>16342</td>\n",
       "    </tr>\n",
       "    <tr>\n",
       "      <th>26353</th>\n",
       "      <td>Reuters_facebook</td>\n",
       "      <td>16504</td>\n",
       "    </tr>\n",
       "    <tr>\n",
       "      <th>35423</th>\n",
       "      <td>abpsanjha_facebook</td>\n",
       "      <td>16710</td>\n",
       "    </tr>\n",
       "    <tr>\n",
       "      <th>49334</th>\n",
       "      <td>latestly_facebook</td>\n",
       "      <td>16745</td>\n",
       "    </tr>\n",
       "    <tr>\n",
       "      <th>35084</th>\n",
       "      <td>Zee24Taas_facebook</td>\n",
       "      <td>16813</td>\n",
       "    </tr>\n",
       "    <tr>\n",
       "      <th>12841</th>\n",
       "      <td>HTcity_facebook</td>\n",
       "      <td>17360</td>\n",
       "    </tr>\n",
       "    <tr>\n",
       "      <th>45881</th>\n",
       "      <td>htlifeandstyle_facebook</td>\n",
       "      <td>18162</td>\n",
       "    </tr>\n",
       "    <tr>\n",
       "      <th>64646</th>\n",
       "      <td>zee24kalak.in_facebook</td>\n",
       "      <td>18467</td>\n",
       "    </tr>\n",
       "    <tr>\n",
       "      <th>55139</th>\n",
       "      <td>prameyaodia_facebook</td>\n",
       "      <td>18485</td>\n",
       "    </tr>\n",
       "    <tr>\n",
       "      <th>35096</th>\n",
       "      <td>ZeeUPUK_facebook</td>\n",
       "      <td>19112</td>\n",
       "    </tr>\n",
       "    <tr>\n",
       "      <th>55120</th>\n",
       "      <td>prajavani.net_facebook</td>\n",
       "      <td>21730</td>\n",
       "    </tr>\n",
       "    <tr>\n",
       "      <th>35417</th>\n",
       "      <td>abpananda_facebook</td>\n",
       "      <td>21791</td>\n",
       "    </tr>\n",
       "    <tr>\n",
       "      <th>35418</th>\n",
       "      <td>abpasmita_facebook</td>\n",
       "      <td>23557</td>\n",
       "    </tr>\n",
       "    <tr>\n",
       "      <th>31588</th>\n",
       "      <td>TheTribuneChd_facebook</td>\n",
       "      <td>23933</td>\n",
       "    </tr>\n",
       "    <tr>\n",
       "      <th>57427</th>\n",
       "      <td>samayammalayalam_facebook</td>\n",
       "      <td>25358</td>\n",
       "    </tr>\n",
       "    <tr>\n",
       "      <th>55690</th>\n",
       "      <td>quintillion_facebook</td>\n",
       "      <td>25629</td>\n",
       "    </tr>\n",
       "    <tr>\n",
       "      <th>45465</th>\n",
       "      <td>herosofpulwama_facebook</td>\n",
       "      <td>25699</td>\n",
       "    </tr>\n",
       "    <tr>\n",
       "      <th>35421</th>\n",
       "      <td>abpmajha_facebook</td>\n",
       "      <td>25715</td>\n",
       "    </tr>\n",
       "    <tr>\n",
       "      <th>23929</th>\n",
       "      <td>Pkesarionline_facebook</td>\n",
       "      <td>30122</td>\n",
       "    </tr>\n",
       "    <tr>\n",
       "      <th>35836</th>\n",
       "      <td>agkfire_facebook</td>\n",
       "      <td>30651</td>\n",
       "    </tr>\n",
       "    <tr>\n",
       "      <th>18621</th>\n",
       "      <td>MahaDeshaa_facebook</td>\n",
       "      <td>31883</td>\n",
       "    </tr>\n",
       "    <tr>\n",
       "      <th>17911</th>\n",
       "      <td>LoksattaLive_facebook</td>\n",
       "      <td>34835</td>\n",
       "    </tr>\n",
       "    <tr>\n",
       "      <th>54894</th>\n",
       "      <td>policenama_facebook</td>\n",
       "      <td>35933</td>\n",
       "    </tr>\n",
       "    <tr>\n",
       "      <th>41686</th>\n",
       "      <td>devdiscourse_facebook</td>\n",
       "      <td>39053</td>\n",
       "    </tr>\n",
       "    <tr>\n",
       "      <th>54217</th>\n",
       "      <td>parcelbazar_facebook</td>\n",
       "      <td>41874</td>\n",
       "    </tr>\n",
       "    <tr>\n",
       "      <th>21183</th>\n",
       "      <td>NaiDunia_facebook</td>\n",
       "      <td>45925</td>\n",
       "    </tr>\n",
       "    <tr>\n",
       "      <th>39196</th>\n",
       "      <td>bsindia_facebook</td>\n",
       "      <td>47000</td>\n",
       "    </tr>\n",
       "    <tr>\n",
       "      <th>31845</th>\n",
       "      <td>Timesnow_facebook</td>\n",
       "      <td>50359</td>\n",
       "    </tr>\n",
       "  </tbody>\n",
       "</table>\n",
       "</div>"
      ],
      "text/plain": [
       "                                handle      0\n",
       "12152              GloriousUP_facebook  11161\n",
       "33726               VoiceOfIn_facebook  11167\n",
       "57413      samajwadicyclepage_facebook  11170\n",
       "10905                FanofINC_facebook  11173\n",
       "46716                indiacom_facebook  11562\n",
       "13868                 IETamil_facebook  11570\n",
       "37952      banglahuntofficial_facebook  11665\n",
       "51297               mint.live_facebook  11737\n",
       "19859               MirrorNow_facebook  12960\n",
       "49753            livelawindia_facebook  13505\n",
       "47502                 janjwar_facebook  13585\n",
       "55689              quinthindi_facebook  13944\n",
       "37950              banglahunt_facebook  14170\n",
       "41954  divaentertainmentworld_facebook  14404\n",
       "33428          VijayKarnataka_facebook  14912\n",
       "37639              avan4today_facebook  15146\n",
       "35092                 ZeeMPCG_facebook  15459\n",
       "14645           IndiacomHindi_facebook  15482\n",
       "13418          HindustanSmart_facebook  15563\n",
       "57428          sambadofficial_facebook  15749\n",
       "27547            SamayamTamil_facebook  15830\n",
       "63556          washingtonpost_facebook  15944\n",
       "61185         thenatlinterest_facebook  16342\n",
       "26353                 Reuters_facebook  16504\n",
       "35423               abpsanjha_facebook  16710\n",
       "49334                latestly_facebook  16745\n",
       "35084               Zee24Taas_facebook  16813\n",
       "12841                  HTcity_facebook  17360\n",
       "45881          htlifeandstyle_facebook  18162\n",
       "64646           zee24kalak.in_facebook  18467\n",
       "55139             prameyaodia_facebook  18485\n",
       "35096                 ZeeUPUK_facebook  19112\n",
       "55120           prajavani.net_facebook  21730\n",
       "35417               abpananda_facebook  21791\n",
       "35418               abpasmita_facebook  23557\n",
       "31588           TheTribuneChd_facebook  23933\n",
       "57427        samayammalayalam_facebook  25358\n",
       "55690             quintillion_facebook  25629\n",
       "45465          herosofpulwama_facebook  25699\n",
       "35421                abpmajha_facebook  25715\n",
       "23929           Pkesarionline_facebook  30122\n",
       "35836                 agkfire_facebook  30651\n",
       "18621              MahaDeshaa_facebook  31883\n",
       "17911            LoksattaLive_facebook  34835\n",
       "54894              policenama_facebook  35933\n",
       "41686            devdiscourse_facebook  39053\n",
       "54217             parcelbazar_facebook  41874\n",
       "21183                NaiDunia_facebook  45925\n",
       "39196                 bsindia_facebook  47000\n",
       "31845                Timesnow_facebook  50359"
      ]
     },
     "execution_count": 54,
     "metadata": {},
     "output_type": "execute_result"
    }
   ],
   "source": [
    "n_contrib.sort_values(by=0).tail(50)"
   ]
  },
  {
   "cell_type": "code",
   "execution_count": 55,
   "metadata": {},
   "outputs": [
    {
     "name": "stdout",
     "output_type": "stream",
     "text": [
      "18690\n"
     ]
    }
   ],
   "source": [
    "valid_handles = n_contrib.loc[(n_contrib[0]>4)&(n_contrib[0]<15000)]['handle'].tolist()\n",
    "print(len(valid_handles))"
   ]
  },
  {
   "cell_type": "code",
   "execution_count": 56,
   "metadata": {},
   "outputs": [
    {
     "data": {
      "text/plain": [
       "4962991"
      ]
     },
     "execution_count": 56,
     "metadata": {},
     "output_type": "execute_result"
    }
   ],
   "source": [
    "frame = frame.loc[frame['handle'].isin(valid_handles)]\n",
    "len(frame)"
   ]
  },
  {
   "cell_type": "code",
   "execution_count": 58,
   "metadata": {},
   "outputs": [
    {
     "data": {
      "text/html": [
       "<div>\n",
       "<style scoped>\n",
       "    .dataframe tbody tr th:only-of-type {\n",
       "        vertical-align: middle;\n",
       "    }\n",
       "\n",
       "    .dataframe tbody tr th {\n",
       "        vertical-align: top;\n",
       "    }\n",
       "\n",
       "    .dataframe thead th {\n",
       "        text-align: right;\n",
       "    }\n",
       "</style>\n",
       "<table border=\"1\" class=\"dataframe\">\n",
       "  <thead>\n",
       "    <tr style=\"text-align: right;\">\n",
       "      <th></th>\n",
       "      <th>handle</th>\n",
       "      <th>party</th>\n",
       "      <th>message</th>\n",
       "      <th>clean_text</th>\n",
       "      <th>textlen</th>\n",
       "    </tr>\n",
       "  </thead>\n",
       "  <tbody>\n",
       "    <tr>\n",
       "      <th>1448984</th>\n",
       "      <td>abvpodisha_twitter</td>\n",
       "      <td>BJP</td>\n",
       "      <td>Because God could not be everywhere, he made s...</td>\n",
       "      <td>because god could not be everywhere he made su...</td>\n",
       "      <td>38</td>\n",
       "    </tr>\n",
       "    <tr>\n",
       "      <th>2975182</th>\n",
       "      <td>TIME8English_facebook</td>\n",
       "      <td>facebook_group</td>\n",
       "      <td>এদিন দুদিন কৈ বছৰত ২২ হাজাৰ বিঘা চৰকাৰী ভূমি দ...</td>\n",
       "      <td>এদিন দুদিন কৈ বছৰত হাজাৰ বিঘা চৰকাৰী ভূমি দখল ...</td>\n",
       "      <td>12</td>\n",
       "    </tr>\n",
       "    <tr>\n",
       "      <th>2357358</th>\n",
       "      <td>ShivpalSingYadav_facebook</td>\n",
       "      <td>facebook_group</td>\n",
       "      <td>मथुरा: यमुना एक्सप्रेसवे पर विमान की आपातकालीन...</td>\n",
       "      <td>मथुरा यमुना एक्सप्रेसवे पर विमान की आपातकालीन ...</td>\n",
       "      <td>11</td>\n",
       "    </tr>\n",
       "    <tr>\n",
       "      <th>5097177</th>\n",
       "      <td>SushilModi_twitter</td>\n",
       "      <td>BJP</td>\n",
       "      <td>1/3-.....यानी भारत से करीब एक महीने पहले टीकाक...</td>\n",
       "      <td>यानी भारत से करीब एक महीने पहले टीकाकरण अभियान...</td>\n",
       "      <td>24</td>\n",
       "    </tr>\n",
       "    <tr>\n",
       "      <th>11341508</th>\n",
       "      <td>SantoshSkamble5_twitter</td>\n",
       "      <td>INC</td>\n",
       "      <td>प्रधानमंत्री ने पिछले तीन वर्षों में तीन बार 1...</td>\n",
       "      <td>प्रधानमंत्री ने पिछले तीन वर्षों में तीन बार ल...</td>\n",
       "      <td>51</td>\n",
       "    </tr>\n",
       "  </tbody>\n",
       "</table>\n",
       "</div>"
      ],
      "text/plain": [
       "                             handle           party  \\\n",
       "1448984          abvpodisha_twitter             BJP   \n",
       "2975182       TIME8English_facebook  facebook_group   \n",
       "2357358   ShivpalSingYadav_facebook  facebook_group   \n",
       "5097177          SushilModi_twitter             BJP   \n",
       "11341508    SantoshSkamble5_twitter             INC   \n",
       "\n",
       "                                                    message  \\\n",
       "1448984   Because God could not be everywhere, he made s...   \n",
       "2975182   এদিন দুদিন কৈ বছৰত ২২ হাজাৰ বিঘা চৰকাৰী ভূমি দ...   \n",
       "2357358   मथुरा: यमुना एक्सप्रेसवे पर विमान की आपातकालीन...   \n",
       "5097177   1/3-.....यानी भारत से करीब एक महीने पहले टीकाक...   \n",
       "11341508  प्रधानमंत्री ने पिछले तीन वर्षों में तीन बार 1...   \n",
       "\n",
       "                                                 clean_text  textlen  \n",
       "1448984   because god could not be everywhere he made su...       38  \n",
       "2975182   এদিন দুদিন কৈ বছৰত হাজাৰ বিঘা চৰকাৰী ভূমি দখল ...       12  \n",
       "2357358   मथुरा यमुना एक्सप्रेसवे पर विमान की आपातकालीन ...       11  \n",
       "5097177   यानी भारत से करीब एक महीने पहले टीकाकरण अभियान...       24  \n",
       "11341508  प्रधानमंत्री ने पिछले तीन वर्षों में तीन बार ल...       51  "
      ]
     },
     "execution_count": 58,
     "metadata": {},
     "output_type": "execute_result"
    }
   ],
   "source": [
    "frame.sample(5)"
   ]
  },
  {
   "cell_type": "code",
   "execution_count": 59,
   "metadata": {},
   "outputs": [
    {
     "data": {
      "text/plain": [
       "['आपके', 'follow', 'back', 'की', 'प्रतीक्षा', 'है', 'भाजपा', 'कार्यकर्ता']"
      ]
     },
     "execution_count": 59,
     "metadata": {},
     "output_type": "execute_result"
    }
   ],
   "source": [
    "corpus = frame['clean_text'].tolist()\n",
    "splitcorpus = [c.strip().split(\" \") for c in corpus]\n",
    "splitcorpus[0]"
   ]
  },
  {
   "cell_type": "code",
   "execution_count": 60,
   "metadata": {},
   "outputs": [],
   "source": [
    "phrases = Phrases(splitcorpus, min_count=10, threshold=0.1)\n",
    "tokes = [phrases[t] for t in splitcorpus]"
   ]
  },
  {
   "cell_type": "code",
   "execution_count": 64,
   "metadata": {
    "scrolled": true
   },
   "outputs": [
    {
     "data": {
      "text/plain": [
       "['इंदौर_पुलिस',\n",
       " 'ने',\n",
       " 'मोमिन',\n",
       " 'नामक',\n",
       " 'ऐसे',\n",
       " 'बांग्लादेशी',\n",
       " 'को_गिरफ्तार',\n",
       " 'किया_है',\n",
       " 'जिसने',\n",
       " 'से_ज्यादा',\n",
       " 'लड़कियों_को',\n",
       " 'सेक्स_रैकेट',\n",
       " 'धकेल_उनके',\n",
       " 'जीवन_को',\n",
       " 'तबाह_किया',\n",
       " 'मोमिन',\n",
       " 'ने_शादी',\n",
       " 'की',\n",
       " 'साथ_ही',\n",
       " 'गर्लफ्रेंड',\n",
       " 'भी_बनाई',\n",
       " 'इसी',\n",
       " 'संक्रमण_को',\n",
       " 'देश_से',\n",
       " 'बाहर',\n",
       " 'फेंकने_के',\n",
       " 'लिए',\n",
       " 'की_जरूरत',\n",
       " 'है']"
      ]
     },
     "execution_count": 64,
     "metadata": {},
     "output_type": "execute_result"
    }
   ],
   "source": [
    "tokes[22]"
   ]
  },
  {
   "cell_type": "code",
   "execution_count": 65,
   "metadata": {},
   "outputs": [
    {
     "data": {
      "text/plain": [
       "496.2991"
      ]
     },
     "execution_count": 65,
     "metadata": {},
     "output_type": "execute_result"
    }
   ],
   "source": [
    "4962991*0.0001"
   ]
  },
  {
   "cell_type": "code",
   "execution_count": 66,
   "metadata": {},
   "outputs": [],
   "source": [
    "from sklearn.feature_extraction.text import CountVectorizer\n",
    "\n",
    "def dummy(doc):\n",
    "    return doc\n",
    "\n",
    "cv = CountVectorizer(tokenizer=dummy, preprocessor=dummy,max_df=0.2, min_df=0.000005)  "
   ]
  },
  {
   "cell_type": "code",
   "execution_count": 67,
   "metadata": {},
   "outputs": [
    {
     "name": "stderr",
     "output_type": "stream",
     "text": [
      "/home/phadke/.local/lib/python3.8/site-packages/sklearn/feature_extraction/text.py:516: UserWarning: The parameter 'token_pattern' will not be used since 'tokenizer' is not None'\n",
      "  warnings.warn(\n"
     ]
    }
   ],
   "source": [
    "X = cv.fit(tokes)"
   ]
  },
  {
   "cell_type": "code",
   "execution_count": 69,
   "metadata": {},
   "outputs": [],
   "source": [
    "X = cv.fit_transform(tokes)"
   ]
  },
  {
   "cell_type": "code",
   "execution_count": 70,
   "metadata": {},
   "outputs": [
    {
     "data": {
      "text/plain": [
       "(4962991, 429412)"
      ]
     },
     "execution_count": 70,
     "metadata": {},
     "output_type": "execute_result"
    }
   ],
   "source": [
    "X.shape"
   ]
  },
  {
   "cell_type": "code",
   "execution_count": 71,
   "metadata": {},
   "outputs": [],
   "source": [
    "from sklearn.decomposition import PCA\n",
    "import matplotlib.pyplot as plt"
   ]
  },
  {
   "cell_type": "code",
   "execution_count": 72,
   "metadata": {},
   "outputs": [],
   "source": [
    "pca = PCA(n_components=200)"
   ]
  },
  {
   "cell_type": "code",
   "execution_count": 74,
   "metadata": {},
   "outputs": [
    {
     "ename": "MemoryError",
     "evalue": "Unable to allocate 15.5 TiB for an array with shape (4962991, 429412) and data type int64",
     "output_type": "error",
     "traceback": [
      "\u001b[0;31m---------------------------------------------------------------------------\u001b[0m",
      "\u001b[0;31mMemoryError\u001b[0m                               Traceback (most recent call last)",
      "\u001b[0;32m<ipython-input-74-7892c76a8756>\u001b[0m in \u001b[0;36m<module>\u001b[0;34m\u001b[0m\n\u001b[0;32m----> 1\u001b[0;31m \u001b[0mY\u001b[0m \u001b[0;34m=\u001b[0m\u001b[0mX\u001b[0m\u001b[0;34m.\u001b[0m\u001b[0mtoarray\u001b[0m\u001b[0;34m(\u001b[0m\u001b[0;34m)\u001b[0m\u001b[0;34m\u001b[0m\u001b[0;34m\u001b[0m\u001b[0m\n\u001b[0m",
      "\u001b[0;32m~/.local/lib/python3.8/site-packages/scipy/sparse/compressed.py\u001b[0m in \u001b[0;36mtoarray\u001b[0;34m(self, order, out)\u001b[0m\n\u001b[1;32m   1037\u001b[0m         \u001b[0;32mif\u001b[0m \u001b[0mout\u001b[0m \u001b[0;32mis\u001b[0m \u001b[0;32mNone\u001b[0m \u001b[0;32mand\u001b[0m \u001b[0morder\u001b[0m \u001b[0;32mis\u001b[0m \u001b[0;32mNone\u001b[0m\u001b[0;34m:\u001b[0m\u001b[0;34m\u001b[0m\u001b[0;34m\u001b[0m\u001b[0m\n\u001b[1;32m   1038\u001b[0m             \u001b[0morder\u001b[0m \u001b[0;34m=\u001b[0m \u001b[0mself\u001b[0m\u001b[0;34m.\u001b[0m\u001b[0m_swap\u001b[0m\u001b[0;34m(\u001b[0m\u001b[0;34m'cf'\u001b[0m\u001b[0;34m)\u001b[0m\u001b[0;34m[\u001b[0m\u001b[0;36m0\u001b[0m\u001b[0;34m]\u001b[0m\u001b[0;34m\u001b[0m\u001b[0;34m\u001b[0m\u001b[0m\n\u001b[0;32m-> 1039\u001b[0;31m         \u001b[0mout\u001b[0m \u001b[0;34m=\u001b[0m \u001b[0mself\u001b[0m\u001b[0;34m.\u001b[0m\u001b[0m_process_toarray_args\u001b[0m\u001b[0;34m(\u001b[0m\u001b[0morder\u001b[0m\u001b[0;34m,\u001b[0m \u001b[0mout\u001b[0m\u001b[0;34m)\u001b[0m\u001b[0;34m\u001b[0m\u001b[0;34m\u001b[0m\u001b[0m\n\u001b[0m\u001b[1;32m   1040\u001b[0m         \u001b[0;32mif\u001b[0m \u001b[0;32mnot\u001b[0m \u001b[0;34m(\u001b[0m\u001b[0mout\u001b[0m\u001b[0;34m.\u001b[0m\u001b[0mflags\u001b[0m\u001b[0;34m.\u001b[0m\u001b[0mc_contiguous\u001b[0m \u001b[0;32mor\u001b[0m \u001b[0mout\u001b[0m\u001b[0;34m.\u001b[0m\u001b[0mflags\u001b[0m\u001b[0;34m.\u001b[0m\u001b[0mf_contiguous\u001b[0m\u001b[0;34m)\u001b[0m\u001b[0;34m:\u001b[0m\u001b[0;34m\u001b[0m\u001b[0;34m\u001b[0m\u001b[0m\n\u001b[1;32m   1041\u001b[0m             \u001b[0;32mraise\u001b[0m \u001b[0mValueError\u001b[0m\u001b[0;34m(\u001b[0m\u001b[0;34m'Output array must be C or F contiguous'\u001b[0m\u001b[0;34m)\u001b[0m\u001b[0;34m\u001b[0m\u001b[0;34m\u001b[0m\u001b[0m\n",
      "\u001b[0;32m~/.local/lib/python3.8/site-packages/scipy/sparse/base.py\u001b[0m in \u001b[0;36m_process_toarray_args\u001b[0;34m(self, order, out)\u001b[0m\n\u001b[1;32m   1200\u001b[0m             \u001b[0;32mreturn\u001b[0m \u001b[0mout\u001b[0m\u001b[0;34m\u001b[0m\u001b[0;34m\u001b[0m\u001b[0m\n\u001b[1;32m   1201\u001b[0m         \u001b[0;32melse\u001b[0m\u001b[0;34m:\u001b[0m\u001b[0;34m\u001b[0m\u001b[0;34m\u001b[0m\u001b[0m\n\u001b[0;32m-> 1202\u001b[0;31m             \u001b[0;32mreturn\u001b[0m \u001b[0mnp\u001b[0m\u001b[0;34m.\u001b[0m\u001b[0mzeros\u001b[0m\u001b[0;34m(\u001b[0m\u001b[0mself\u001b[0m\u001b[0;34m.\u001b[0m\u001b[0mshape\u001b[0m\u001b[0;34m,\u001b[0m \u001b[0mdtype\u001b[0m\u001b[0;34m=\u001b[0m\u001b[0mself\u001b[0m\u001b[0;34m.\u001b[0m\u001b[0mdtype\u001b[0m\u001b[0;34m,\u001b[0m \u001b[0morder\u001b[0m\u001b[0;34m=\u001b[0m\u001b[0morder\u001b[0m\u001b[0;34m)\u001b[0m\u001b[0;34m\u001b[0m\u001b[0;34m\u001b[0m\u001b[0m\n\u001b[0m\u001b[1;32m   1203\u001b[0m \u001b[0;34m\u001b[0m\u001b[0m\n\u001b[1;32m   1204\u001b[0m \u001b[0;34m\u001b[0m\u001b[0m\n",
      "\u001b[0;31mMemoryError\u001b[0m: Unable to allocate 15.5 TiB for an array with shape (4962991, 429412) and data type int64"
     ]
    }
   ],
   "source": [
    "Y =X.toarray()"
   ]
  },
  {
   "cell_type": "code",
   "execution_count": 73,
   "metadata": {},
   "outputs": [
    {
     "ename": "TypeError",
     "evalue": "PCA does not support sparse input. See TruncatedSVD for a possible alternative.",
     "output_type": "error",
     "traceback": [
      "\u001b[0;31m---------------------------------------------------------------------------\u001b[0m",
      "\u001b[0;31mTypeError\u001b[0m                                 Traceback (most recent call last)",
      "\u001b[0;32m<ipython-input-73-be9fd04367a6>\u001b[0m in \u001b[0;36m<module>\u001b[0;34m\u001b[0m\n\u001b[0;32m----> 1\u001b[0;31m \u001b[0mpMat\u001b[0m \u001b[0;34m=\u001b[0m \u001b[0mpca\u001b[0m\u001b[0;34m.\u001b[0m\u001b[0mfit_transform\u001b[0m\u001b[0;34m(\u001b[0m\u001b[0mX\u001b[0m\u001b[0;34m)\u001b[0m\u001b[0;34m\u001b[0m\u001b[0;34m\u001b[0m\u001b[0m\n\u001b[0m",
      "\u001b[0;32m~/.local/lib/python3.8/site-packages/sklearn/decomposition/_pca.py\u001b[0m in \u001b[0;36mfit_transform\u001b[0;34m(self, X, y)\u001b[0m\n\u001b[1;32m    405\u001b[0m         \u001b[0mC\u001b[0m\u001b[0;34m-\u001b[0m\u001b[0mordered\u001b[0m \u001b[0marray\u001b[0m\u001b[0;34m,\u001b[0m \u001b[0muse\u001b[0m \u001b[0;34m'np.ascontiguousarray'\u001b[0m\u001b[0;34m.\u001b[0m\u001b[0;34m\u001b[0m\u001b[0;34m\u001b[0m\u001b[0m\n\u001b[1;32m    406\u001b[0m         \"\"\"\n\u001b[0;32m--> 407\u001b[0;31m         \u001b[0mU\u001b[0m\u001b[0;34m,\u001b[0m \u001b[0mS\u001b[0m\u001b[0;34m,\u001b[0m \u001b[0mVt\u001b[0m \u001b[0;34m=\u001b[0m \u001b[0mself\u001b[0m\u001b[0;34m.\u001b[0m\u001b[0m_fit\u001b[0m\u001b[0;34m(\u001b[0m\u001b[0mX\u001b[0m\u001b[0;34m)\u001b[0m\u001b[0;34m\u001b[0m\u001b[0;34m\u001b[0m\u001b[0m\n\u001b[0m\u001b[1;32m    408\u001b[0m         \u001b[0mU\u001b[0m \u001b[0;34m=\u001b[0m \u001b[0mU\u001b[0m\u001b[0;34m[\u001b[0m\u001b[0;34m:\u001b[0m\u001b[0;34m,\u001b[0m \u001b[0;34m:\u001b[0m \u001b[0mself\u001b[0m\u001b[0;34m.\u001b[0m\u001b[0mn_components_\u001b[0m\u001b[0;34m]\u001b[0m\u001b[0;34m\u001b[0m\u001b[0;34m\u001b[0m\u001b[0m\n\u001b[1;32m    409\u001b[0m \u001b[0;34m\u001b[0m\u001b[0m\n",
      "\u001b[0;32m~/.local/lib/python3.8/site-packages/sklearn/decomposition/_pca.py\u001b[0m in \u001b[0;36m_fit\u001b[0;34m(self, X)\u001b[0m\n\u001b[1;32m    423\u001b[0m         \u001b[0;31m# This is more informative than the generic one raised by check_array.\u001b[0m\u001b[0;34m\u001b[0m\u001b[0;34m\u001b[0m\u001b[0;34m\u001b[0m\u001b[0m\n\u001b[1;32m    424\u001b[0m         \u001b[0;32mif\u001b[0m \u001b[0missparse\u001b[0m\u001b[0;34m(\u001b[0m\u001b[0mX\u001b[0m\u001b[0;34m)\u001b[0m\u001b[0;34m:\u001b[0m\u001b[0;34m\u001b[0m\u001b[0;34m\u001b[0m\u001b[0m\n\u001b[0;32m--> 425\u001b[0;31m             raise TypeError(\n\u001b[0m\u001b[1;32m    426\u001b[0m                 \u001b[0;34m\"PCA does not support sparse input. See \"\u001b[0m\u001b[0;34m\u001b[0m\u001b[0;34m\u001b[0m\u001b[0m\n\u001b[1;32m    427\u001b[0m                 \u001b[0;34m\"TruncatedSVD for a possible alternative.\"\u001b[0m\u001b[0;34m\u001b[0m\u001b[0;34m\u001b[0m\u001b[0m\n",
      "\u001b[0;31mTypeError\u001b[0m: PCA does not support sparse input. See TruncatedSVD for a possible alternative."
     ]
    }
   ],
   "source": [
    "pMat = pca.fit_transform(X)"
   ]
  },
  {
   "cell_type": "code",
   "execution_count": null,
   "metadata": {},
   "outputs": [],
   "source": []
  }
 ],
 "metadata": {
  "kernelspec": {
   "display_name": "Python 3",
   "language": "python",
   "name": "python3"
  },
  "language_info": {
   "codemirror_mode": {
    "name": "ipython",
    "version": 3
   },
   "file_extension": ".py",
   "mimetype": "text/x-python",
   "name": "python",
   "nbconvert_exporter": "python",
   "pygments_lexer": "ipython3",
   "version": "3.8.10"
  }
 },
 "nbformat": 4,
 "nbformat_minor": 4
}
