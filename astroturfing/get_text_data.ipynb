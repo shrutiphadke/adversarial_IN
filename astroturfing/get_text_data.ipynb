{
 "cells": [
  {
   "cell_type": "code",
   "execution_count": 1,
   "metadata": {},
   "outputs": [
    {
     "name": "stdout",
     "output_type": "stream",
     "text": [
      "INFO: Pandarallel will run on 128 workers.\n",
      "INFO: Pandarallel will use Memory file system to transfer data between the main process and workers.\n"
     ]
    }
   ],
   "source": [
    "import glob\n",
    "import json\n",
    "from random import sample\n",
    "import sklearn\n",
    "import re\n",
    "import string\n",
    "import warnings\n",
    "from bs4 import BeautifulSoup\n",
    "import gensim\n",
    "from gensim.models.phrases import Phrases\n",
    "import gensim.corpora as corpora\n",
    "from gensim.utils import simple_preprocess\n",
    "from gensim.models import CoherenceModel\n",
    "from analysis_func.text_preproc import preproc_text\n",
    "from analysis_func.topic_preproc import prepare_corp\n",
    "from analysis_func.topic_model import topicmodel\n",
    "from analysis_func.saveload_topicmodels import save_modelanddata, load_modelanddata\n",
    "import datetime\n",
    "import os\n",
    "import time\n",
    "import sys\n",
    "import pandas as pd\n",
    "import numpy as np\n",
    "from collections import defaultdict, Counter\n",
    "\n",
    "from pandarallel import pandarallel\n",
    "pandarallel.initialize()\n"
   ]
  },
  {
   "cell_type": "code",
   "execution_count": 2,
   "metadata": {},
   "outputs": [
    {
     "name": "stdout",
     "output_type": "stream",
     "text": [
      "getting data\n"
     ]
    }
   ],
   "source": [
    "print(\"getting data\")\n",
    "# get random samples from each party of similar sizes\n",
    "datafiles = glob.glob(\"/data/shruti/ONR/big_data/Twitter/*.csv\")\n",
    "plist = ['_BJP.csv', '_INC.csv', '_AAP.csv']\n",
    "pcount = defaultdict(list)\n",
    "for d in datafiles:\n",
    "    for p in plist:\n",
    "        if p in d:\n",
    "            pcount[p].append(d)\n",
    "                \n",
    "final_files = pcount\n",
    "#final_files = defaultdict(list)\n",
    "# for p in pcount:\n",
    "#     try:\n",
    "#         final_files[p] = sample(pcount[p], 1000)\n",
    "#     except:\n",
    "#         final_files[p] = sample(pcount[p], 430)\n",
    "    \n",
    "    \n",
    "#read randomly sampled data into a dataframe\n",
    "rowlist = []\n",
    "for p in final_files.keys():\n",
    "    party = p.replace(\"_\", \"\").replace(\".csv\", \"\")\n",
    "    for d in final_files[p]:\n",
    "        with open(d, \"r\") as jsonfile:\n",
    "            for line in jsonfile:\n",
    "                job= json.loads(line)\n",
    "                if \"text\" in job:\n",
    "                    text = job['text']\n",
    "                else:\n",
    "                    text = None\n",
    "                if \"screen_name\" in job:\n",
    "                    sn = job['screen_name']\n",
    "                else:\n",
    "                    sn = None\n",
    "                    \n",
    "                if \"lang\" in job:\n",
    "                    language = job['lang']\n",
    "                else:\n",
    "                    language = None\n",
    "                    \n",
    "                row = [sn, text, party, language]\n",
    "                rowlist.append(row)\n",
    "\n",
    "                \n",
    "frame = pd.DataFrame(rowlist, columns=['screen_name','text','party', 'language'])\n",
    "frame = frame.dropna(subset=['text'])"
   ]
  },
  {
   "cell_type": "code",
   "execution_count": 3,
   "metadata": {},
   "outputs": [
    {
     "data": {
      "text/html": [
       "<div>\n",
       "<style scoped>\n",
       "    .dataframe tbody tr th:only-of-type {\n",
       "        vertical-align: middle;\n",
       "    }\n",
       "\n",
       "    .dataframe tbody tr th {\n",
       "        vertical-align: top;\n",
       "    }\n",
       "\n",
       "    .dataframe thead th {\n",
       "        text-align: right;\n",
       "    }\n",
       "</style>\n",
       "<table border=\"1\" class=\"dataframe\">\n",
       "  <thead>\n",
       "    <tr style=\"text-align: right;\">\n",
       "      <th></th>\n",
       "      <th>screen_name</th>\n",
       "      <th>text</th>\n",
       "      <th>party</th>\n",
       "      <th>language</th>\n",
       "    </tr>\n",
       "  </thead>\n",
       "  <tbody>\n",
       "    <tr>\n",
       "      <th>0</th>\n",
       "      <td>None</td>\n",
       "      <td>RT @BJP4MP: भाजपा प्रदेश अध्यक्ष श्री @vdsharm...</td>\n",
       "      <td>BJP</td>\n",
       "      <td>hi</td>\n",
       "    </tr>\n",
       "    <tr>\n",
       "      <th>1</th>\n",
       "      <td>None</td>\n",
       "      <td>जय श्री महाँकाल 🙏🚩 https://t.co/1EbAMWv902</td>\n",
       "      <td>BJP</td>\n",
       "      <td>ne</td>\n",
       "    </tr>\n",
       "    <tr>\n",
       "      <th>2</th>\n",
       "      <td>None</td>\n",
       "      <td>RT @vaibhavpawarmp: बिल्कुल सही, इसीलिए बाबर द...</td>\n",
       "      <td>BJP</td>\n",
       "      <td>hi</td>\n",
       "    </tr>\n",
       "    <tr>\n",
       "      <th>3</th>\n",
       "      <td>None</td>\n",
       "      <td>RT @narendramodi: Добро пожаловать, г-н презид...</td>\n",
       "      <td>BJP</td>\n",
       "      <td>cs</td>\n",
       "    </tr>\n",
       "    <tr>\n",
       "      <th>4</th>\n",
       "      <td>None</td>\n",
       "      <td>RT @vaibhavpawarmp: भारतीय जनता युवा मोर्चा मध...</td>\n",
       "      <td>BJP</td>\n",
       "      <td>hi</td>\n",
       "    </tr>\n",
       "  </tbody>\n",
       "</table>\n",
       "</div>"
      ],
      "text/plain": [
       "  screen_name                                               text party  \\\n",
       "0        None  RT @BJP4MP: भाजपा प्रदेश अध्यक्ष श्री @vdsharm...   BJP   \n",
       "1        None         जय श्री महाँकाल 🙏🚩 https://t.co/1EbAMWv902   BJP   \n",
       "2        None  RT @vaibhavpawarmp: बिल्कुल सही, इसीलिए बाबर द...   BJP   \n",
       "3        None  RT @narendramodi: Добро пожаловать, г-н презид...   BJP   \n",
       "4        None  RT @vaibhavpawarmp: भारतीय जनता युवा मोर्चा मध...   BJP   \n",
       "\n",
       "  language  \n",
       "0       hi  \n",
       "1       ne  \n",
       "2       hi  \n",
       "3       cs  \n",
       "4       hi  "
      ]
     },
     "execution_count": 3,
     "metadata": {},
     "output_type": "execute_result"
    }
   ],
   "source": [
    "frame.head()"
   ]
  },
  {
   "cell_type": "code",
   "execution_count": 4,
   "metadata": {},
   "outputs": [
    {
     "data": {
      "text/plain": [
       "15100730"
      ]
     },
     "execution_count": 4,
     "metadata": {},
     "output_type": "execute_result"
    }
   ],
   "source": [
    "len(frame)"
   ]
  },
  {
   "cell_type": "code",
   "execution_count": 5,
   "metadata": {},
   "outputs": [],
   "source": [
    "frame.to_csv(\"/data/shruti/ONR/small_data/Twitter_text/all_text.csv\")"
   ]
  },
  {
   "cell_type": "code",
   "execution_count": 7,
   "metadata": {},
   "outputs": [],
   "source": [
    "frame = frame.dropna(subset=['text'])"
   ]
  },
  {
   "cell_type": "code",
   "execution_count": 8,
   "metadata": {},
   "outputs": [
    {
     "data": {
      "text/plain": [
       "15100730"
      ]
     },
     "execution_count": 8,
     "metadata": {},
     "output_type": "execute_result"
    }
   ],
   "source": [
    "len(frame)"
   ]
  },
  {
   "cell_type": "code",
   "execution_count": 12,
   "metadata": {},
   "outputs": [],
   "source": [
    "def remove_retweets(text):\n",
    "    if \"RT \" in text:\n",
    "    #if text.startswith(\"RT \"):\n",
    "        return 1"
   ]
  },
  {
   "cell_type": "code",
   "execution_count": 15,
   "metadata": {},
   "outputs": [],
   "source": [
    "frame['is_retweet'] = frame['text'].parallel_apply(lambda x: remove_retweets(x))"
   ]
  },
  {
   "cell_type": "code",
   "execution_count": 16,
   "metadata": {},
   "outputs": [
    {
     "data": {
      "text/html": [
       "<div>\n",
       "<style scoped>\n",
       "    .dataframe tbody tr th:only-of-type {\n",
       "        vertical-align: middle;\n",
       "    }\n",
       "\n",
       "    .dataframe tbody tr th {\n",
       "        vertical-align: top;\n",
       "    }\n",
       "\n",
       "    .dataframe thead th {\n",
       "        text-align: right;\n",
       "    }\n",
       "</style>\n",
       "<table border=\"1\" class=\"dataframe\">\n",
       "  <thead>\n",
       "    <tr style=\"text-align: right;\">\n",
       "      <th></th>\n",
       "      <th>screen_name</th>\n",
       "      <th>text</th>\n",
       "      <th>party</th>\n",
       "      <th>language</th>\n",
       "      <th>is_retweet</th>\n",
       "    </tr>\n",
       "  </thead>\n",
       "  <tbody>\n",
       "    <tr>\n",
       "      <th>0</th>\n",
       "      <td>None</td>\n",
       "      <td>RT @BJP4MP: भाजपा प्रदेश अध्यक्ष श्री @vdsharm...</td>\n",
       "      <td>BJP</td>\n",
       "      <td>hi</td>\n",
       "      <td>1.0</td>\n",
       "    </tr>\n",
       "    <tr>\n",
       "      <th>1</th>\n",
       "      <td>None</td>\n",
       "      <td>जय श्री महाँकाल 🙏🚩 https://t.co/1EbAMWv902</td>\n",
       "      <td>BJP</td>\n",
       "      <td>ne</td>\n",
       "      <td>NaN</td>\n",
       "    </tr>\n",
       "    <tr>\n",
       "      <th>2</th>\n",
       "      <td>None</td>\n",
       "      <td>RT @vaibhavpawarmp: बिल्कुल सही, इसीलिए बाबर द...</td>\n",
       "      <td>BJP</td>\n",
       "      <td>hi</td>\n",
       "      <td>1.0</td>\n",
       "    </tr>\n",
       "    <tr>\n",
       "      <th>3</th>\n",
       "      <td>None</td>\n",
       "      <td>RT @narendramodi: Добро пожаловать, г-н презид...</td>\n",
       "      <td>BJP</td>\n",
       "      <td>cs</td>\n",
       "      <td>1.0</td>\n",
       "    </tr>\n",
       "    <tr>\n",
       "      <th>4</th>\n",
       "      <td>None</td>\n",
       "      <td>RT @vaibhavpawarmp: भारतीय जनता युवा मोर्चा मध...</td>\n",
       "      <td>BJP</td>\n",
       "      <td>hi</td>\n",
       "      <td>1.0</td>\n",
       "    </tr>\n",
       "  </tbody>\n",
       "</table>\n",
       "</div>"
      ],
      "text/plain": [
       "  screen_name                                               text party  \\\n",
       "0        None  RT @BJP4MP: भाजपा प्रदेश अध्यक्ष श्री @vdsharm...   BJP   \n",
       "1        None         जय श्री महाँकाल 🙏🚩 https://t.co/1EbAMWv902   BJP   \n",
       "2        None  RT @vaibhavpawarmp: बिल्कुल सही, इसीलिए बाबर द...   BJP   \n",
       "3        None  RT @narendramodi: Добро пожаловать, г-н презид...   BJP   \n",
       "4        None  RT @vaibhavpawarmp: भारतीय जनता युवा मोर्चा मध...   BJP   \n",
       "\n",
       "  language  is_retweet  \n",
       "0       hi         1.0  \n",
       "1       ne         NaN  \n",
       "2       hi         1.0  \n",
       "3       cs         1.0  \n",
       "4       hi         1.0  "
      ]
     },
     "execution_count": 16,
     "metadata": {},
     "output_type": "execute_result"
    }
   ],
   "source": [
    "frame.head()"
   ]
  },
  {
   "cell_type": "code",
   "execution_count": 17,
   "metadata": {},
   "outputs": [
    {
     "data": {
      "text/plain": [
       "8913413"
      ]
     },
     "execution_count": 17,
     "metadata": {},
     "output_type": "execute_result"
    }
   ],
   "source": [
    "data = frame.dropna(subset=['is_retweet'])\n",
    "len(data)"
   ]
  },
  {
   "cell_type": "code",
   "execution_count": 18,
   "metadata": {},
   "outputs": [
    {
     "data": {
      "text/plain": [
       "3822026"
      ]
     },
     "execution_count": 18,
     "metadata": {},
     "output_type": "execute_result"
    }
   ],
   "source": [
    "len(data.drop_duplicates(subset=['text']))"
   ]
  },
  {
   "cell_type": "code",
   "execution_count": 19,
   "metadata": {},
   "outputs": [
    {
     "data": {
      "text/plain": [
       "5091387"
      ]
     },
     "execution_count": 19,
     "metadata": {},
     "output_type": "execute_result"
    }
   ],
   "source": [
    "8913413 - 3822026"
   ]
  },
  {
   "cell_type": "code",
   "execution_count": 25,
   "metadata": {},
   "outputs": [],
   "source": [
    "unique_texts = list(set(data['text'].tolist()))"
   ]
  },
  {
   "cell_type": "code",
   "execution_count": 26,
   "metadata": {},
   "outputs": [
    {
     "data": {
      "text/plain": [
       "3822026"
      ]
     },
     "execution_count": 26,
     "metadata": {},
     "output_type": "execute_result"
    }
   ],
   "source": [
    "len(unique_texts)"
   ]
  },
  {
   "cell_type": "code",
   "execution_count": 27,
   "metadata": {},
   "outputs": [],
   "source": [
    "def assign_unique_group(text):\n",
    "    uid = unique_texts.index(text)\n",
    "    return uid"
   ]
  },
  {
   "cell_type": "code",
   "execution_count": null,
   "metadata": {},
   "outputs": [],
   "source": [
    "data['text_id'] = data['text'].parallel_apply(lambda x: assign_unique_group(x))"
   ]
  },
  {
   "cell_type": "code",
   "execution_count": null,
   "metadata": {},
   "outputs": [],
   "source": [
    "data.to_csv(\"/data/shruti/ONR/small_data/Twitter_text/non_retweet_duplicate_text.csv\")"
   ]
  },
  {
   "cell_type": "code",
   "execution_count": null,
   "metadata": {},
   "outputs": [],
   "source": []
  }
 ],
 "metadata": {
  "kernelspec": {
   "display_name": "Python 3",
   "language": "python",
   "name": "python3"
  },
  "language_info": {
   "codemirror_mode": {
    "name": "ipython",
    "version": 3
   },
   "file_extension": ".py",
   "mimetype": "text/x-python",
   "name": "python",
   "nbconvert_exporter": "python",
   "pygments_lexer": "ipython3",
   "version": "3.8.10"
  }
 },
 "nbformat": 4,
 "nbformat_minor": 4
}
