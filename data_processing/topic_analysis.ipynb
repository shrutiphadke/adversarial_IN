{
 "cells": [
  {
   "cell_type": "code",
   "execution_count": 1,
   "metadata": {},
   "outputs": [],
   "source": [
    "import pandas as pd\n",
    "import numpy as np\n",
    "from collections import defaultdict, Counter\n",
    "import glob\n",
    "import json\n",
    "from random import sample\n",
    "import sklearn\n",
    "import gensim.corpora as corpora\n",
    "from gensim.utils import simple_preprocess\n",
    "from gensim.models import CoherenceModel\n",
    "import gensim"
   ]
  },
  {
   "cell_type": "code",
   "execution_count": 2,
   "metadata": {},
   "outputs": [
    {
     "name": "stdout",
     "output_type": "stream",
     "text": [
      "INFO: Pandarallel will run on 128 workers.\n",
      "INFO: Pandarallel will use Memory file system to transfer data between the main process and workers.\n"
     ]
    }
   ],
   "source": [
    "import pandas as pd\n",
    "import numpy as np\n",
    "from collections import defaultdict, Counter\n",
    "import glob\n",
    "import json\n",
    "from random import sample\n",
    "import sklearn\n",
    "\n",
    "from pandarallel import pandarallel\n",
    "pandarallel.initialize()\n",
    "\n",
    "datafiles = glob.glob(\"/home/phadke/ONR/ONR/big_data/Twitter/*.csv\")"
   ]
  },
  {
   "cell_type": "code",
   "execution_count": 3,
   "metadata": {},
   "outputs": [],
   "source": [
    "plist = ['_BJP.csv', '_INC.csv', '_AAP.csv']\n",
    "pcount = defaultdict(list)\n",
    "for d in datafiles:\n",
    "    for p in plist:\n",
    "        if p in d:\n",
    "            pcount[p].append(d)"
   ]
  },
  {
   "cell_type": "code",
   "execution_count": 4,
   "metadata": {},
   "outputs": [
    {
     "name": "stdout",
     "output_type": "stream",
     "text": [
      "_INC.csv 3006\n",
      "_AAP.csv 430\n",
      "_BJP.csv 3255\n"
     ]
    }
   ],
   "source": [
    "for p in pcount.keys():\n",
    "    print(p, len(pcount[p]))"
   ]
  },
  {
   "cell_type": "code",
   "execution_count": 5,
   "metadata": {},
   "outputs": [],
   "source": [
    "final_files = defaultdict(list)\n",
    "for p in pcount:\n",
    "    try:\n",
    "        final_files[p] = sample(pcount[p], 1000)\n",
    "    except:\n",
    "        final_files[p] = sample(pcount[p], 430)"
   ]
  },
  {
   "cell_type": "code",
   "execution_count": 6,
   "metadata": {},
   "outputs": [
    {
     "name": "stdout",
     "output_type": "stream",
     "text": [
      "_INC.csv 1000\n",
      "_AAP.csv 430\n",
      "_BJP.csv 1000\n"
     ]
    }
   ],
   "source": [
    "for p in final_files.keys():\n",
    "    print(p, len(final_files[p]))"
   ]
  },
  {
   "cell_type": "markdown",
   "metadata": {},
   "source": [
    "## read randomly sampled data"
   ]
  },
  {
   "cell_type": "code",
   "execution_count": 7,
   "metadata": {},
   "outputs": [],
   "source": [
    "rowlist = []\n",
    "for p in final_files.keys():\n",
    "    party = p.replace(\"_\", \"\").replace(\".csv\", \"\")\n",
    "    for d in final_files[p]:\n",
    "        with open(d, \"r\") as jsonfile:\n",
    "            for line in jsonfile:\n",
    "                job= json.loads(line)\n",
    "                if \"text\" in job:\n",
    "                    text = job['text']\n",
    "                else:\n",
    "                    text = None\n",
    "                if \"screen_name\" in job:\n",
    "                    sn = job['screen_name']\n",
    "                else:\n",
    "                    sn = None\n",
    "                    \n",
    "                if \"lang\" in job:\n",
    "                    language = job['lang']\n",
    "                else:\n",
    "                    language = None\n",
    "                    \n",
    "                row = [sn, text, party, language]\n",
    "                rowlist.append(row)\n"
   ]
  },
  {
   "cell_type": "code",
   "execution_count": 8,
   "metadata": {},
   "outputs": [],
   "source": [
    "frame = pd.DataFrame(rowlist, columns=['screen_name','text','party', 'language'])"
   ]
  },
  {
   "cell_type": "code",
   "execution_count": 9,
   "metadata": {},
   "outputs": [],
   "source": [
    "frame = frame.dropna(subset=['text'])"
   ]
  },
  {
   "cell_type": "code",
   "execution_count": 10,
   "metadata": {},
   "outputs": [
    {
     "data": {
      "text/html": [
       "<div>\n",
       "<style scoped>\n",
       "    .dataframe tbody tr th:only-of-type {\n",
       "        vertical-align: middle;\n",
       "    }\n",
       "\n",
       "    .dataframe tbody tr th {\n",
       "        vertical-align: top;\n",
       "    }\n",
       "\n",
       "    .dataframe thead th {\n",
       "        text-align: right;\n",
       "    }\n",
       "</style>\n",
       "<table border=\"1\" class=\"dataframe\">\n",
       "  <thead>\n",
       "    <tr style=\"text-align: right;\">\n",
       "      <th></th>\n",
       "      <th>screen_name</th>\n",
       "      <th>text</th>\n",
       "      <th>party</th>\n",
       "      <th>language</th>\n",
       "    </tr>\n",
       "  </thead>\n",
       "  <tbody>\n",
       "    <tr>\n",
       "      <th>0</th>\n",
       "      <td>None</td>\n",
       "      <td>RT @INCIndia: The North East region has been f...</td>\n",
       "      <td>INC</td>\n",
       "      <td>en</td>\n",
       "    </tr>\n",
       "    <tr>\n",
       "      <th>1</th>\n",
       "      <td>None</td>\n",
       "      <td>RT @INCIndia: किसी देश की राजधानी कानून की दृष...</td>\n",
       "      <td>INC</td>\n",
       "      <td>hi</td>\n",
       "    </tr>\n",
       "    <tr>\n",
       "      <th>2</th>\n",
       "      <td>None</td>\n",
       "      <td>अमित शाह जी आपकी सरकार ने देश से गरीबी हटाई नह...</td>\n",
       "      <td>INC</td>\n",
       "      <td>hi</td>\n",
       "    </tr>\n",
       "    <tr>\n",
       "      <th>3</th>\n",
       "      <td>None</td>\n",
       "      <td>कांग्रेसजनों ने मेरे नेतृत्व मे जनता को @INCIn...</td>\n",
       "      <td>INC</td>\n",
       "      <td>hi</td>\n",
       "    </tr>\n",
       "    <tr>\n",
       "      <th>4</th>\n",
       "      <td>None</td>\n",
       "      <td>जमालपुर चौराहा बड़ी मस्जिद से शुरू हुई कांग्रे...</td>\n",
       "      <td>INC</td>\n",
       "      <td>hi</td>\n",
       "    </tr>\n",
       "  </tbody>\n",
       "</table>\n",
       "</div>"
      ],
      "text/plain": [
       "  screen_name                                               text party  \\\n",
       "0        None  RT @INCIndia: The North East region has been f...   INC   \n",
       "1        None  RT @INCIndia: किसी देश की राजधानी कानून की दृष...   INC   \n",
       "2        None  अमित शाह जी आपकी सरकार ने देश से गरीबी हटाई नह...   INC   \n",
       "3        None  कांग्रेसजनों ने मेरे नेतृत्व मे जनता को @INCIn...   INC   \n",
       "4        None  जमालपुर चौराहा बड़ी मस्जिद से शुरू हुई कांग्रे...   INC   \n",
       "\n",
       "  language  \n",
       "0       en  \n",
       "1       hi  \n",
       "2       hi  \n",
       "3       hi  \n",
       "4       hi  "
      ]
     },
     "execution_count": 10,
     "metadata": {},
     "output_type": "execute_result"
    }
   ],
   "source": [
    "frame.head()"
   ]
  },
  {
   "cell_type": "code",
   "execution_count": 11,
   "metadata": {},
   "outputs": [],
   "source": [
    "def startwithRT(text):\n",
    "    if text.startswith(\"RT \"):\n",
    "        return 1\n",
    "    \n",
    "frame['is_RT'] = frame['text'].parallel_apply(lambda x: startwithRT(x))"
   ]
  },
  {
   "cell_type": "code",
   "execution_count": 12,
   "metadata": {},
   "outputs": [
    {
     "name": "stdout",
     "output_type": "stream",
     "text": [
      "3118590\n",
      "1240508\n"
     ]
    }
   ],
   "source": [
    "print(len(frame))\n",
    "print(len(frame.loc[frame['is_RT']!=1]))"
   ]
  },
  {
   "cell_type": "code",
   "execution_count": 13,
   "metadata": {},
   "outputs": [
    {
     "data": {
      "text/html": [
       "<div>\n",
       "<style scoped>\n",
       "    .dataframe tbody tr th:only-of-type {\n",
       "        vertical-align: middle;\n",
       "    }\n",
       "\n",
       "    .dataframe tbody tr th {\n",
       "        vertical-align: top;\n",
       "    }\n",
       "\n",
       "    .dataframe thead th {\n",
       "        text-align: right;\n",
       "    }\n",
       "</style>\n",
       "<table border=\"1\" class=\"dataframe\">\n",
       "  <thead>\n",
       "    <tr style=\"text-align: right;\">\n",
       "      <th></th>\n",
       "      <th>screen_name</th>\n",
       "      <th>text</th>\n",
       "      <th>party</th>\n",
       "      <th>language</th>\n",
       "      <th>is_RT</th>\n",
       "    </tr>\n",
       "  </thead>\n",
       "  <tbody>\n",
       "    <tr>\n",
       "      <th>2</th>\n",
       "      <td>None</td>\n",
       "      <td>अमित शाह जी आपकी सरकार ने देश से गरीबी हटाई नह...</td>\n",
       "      <td>INC</td>\n",
       "      <td>hi</td>\n",
       "      <td>NaN</td>\n",
       "    </tr>\n",
       "    <tr>\n",
       "      <th>3</th>\n",
       "      <td>None</td>\n",
       "      <td>कांग्रेसजनों ने मेरे नेतृत्व मे जनता को @INCIn...</td>\n",
       "      <td>INC</td>\n",
       "      <td>hi</td>\n",
       "      <td>NaN</td>\n",
       "    </tr>\n",
       "    <tr>\n",
       "      <th>4</th>\n",
       "      <td>None</td>\n",
       "      <td>जमालपुर चौराहा बड़ी मस्जिद से शुरू हुई कांग्रे...</td>\n",
       "      <td>INC</td>\n",
       "      <td>hi</td>\n",
       "      <td>NaN</td>\n",
       "    </tr>\n",
       "    <tr>\n",
       "      <th>5</th>\n",
       "      <td>None</td>\n",
       "      <td>ग्राम जवां सिकंदरपुर की पूर्व ब्लॉक प्रमुख रेन...</td>\n",
       "      <td>INC</td>\n",
       "      <td>hi</td>\n",
       "      <td>NaN</td>\n",
       "    </tr>\n",
       "    <tr>\n",
       "      <th>6</th>\n",
       "      <td>None</td>\n",
       "      <td>कांग्रेस की राष्ट्रीय महासचिव @priyankagandhi ...</td>\n",
       "      <td>INC</td>\n",
       "      <td>hi</td>\n",
       "      <td>NaN</td>\n",
       "    </tr>\n",
       "  </tbody>\n",
       "</table>\n",
       "</div>"
      ],
      "text/plain": [
       "  screen_name                                               text party  \\\n",
       "2        None  अमित शाह जी आपकी सरकार ने देश से गरीबी हटाई नह...   INC   \n",
       "3        None  कांग्रेसजनों ने मेरे नेतृत्व मे जनता को @INCIn...   INC   \n",
       "4        None  जमालपुर चौराहा बड़ी मस्जिद से शुरू हुई कांग्रे...   INC   \n",
       "5        None  ग्राम जवां सिकंदरपुर की पूर्व ब्लॉक प्रमुख रेन...   INC   \n",
       "6        None  कांग्रेस की राष्ट्रीय महासचिव @priyankagandhi ...   INC   \n",
       "\n",
       "  language  is_RT  \n",
       "2       hi    NaN  \n",
       "3       hi    NaN  \n",
       "4       hi    NaN  \n",
       "5       hi    NaN  \n",
       "6       hi    NaN  "
      ]
     },
     "execution_count": 13,
     "metadata": {},
     "output_type": "execute_result"
    }
   ],
   "source": [
    "subframe = frame.loc[frame['is_RT']!=1]\n",
    "subframe.head()"
   ]
  },
  {
   "cell_type": "code",
   "execution_count": 14,
   "metadata": {},
   "outputs": [],
   "source": [
    "from analysis_func.text_preproc import preproc_text\n"
   ]
  },
  {
   "cell_type": "code",
   "execution_count": 15,
   "metadata": {},
   "outputs": [
    {
     "name": "stdout",
     "output_type": "stream",
     "text": [
      "cleaning data\n"
     ]
    },
    {
     "name": "stderr",
     "output_type": "stream",
     "text": [
      "<ipython-input-15-23f846663776>:3: SettingWithCopyWarning: \n",
      "A value is trying to be set on a copy of a slice from a DataFrame.\n",
      "Try using .loc[row_indexer,col_indexer] = value instead\n",
      "\n",
      "See the caveats in the documentation: https://pandas.pydata.org/pandas-docs/stable/user_guide/indexing.html#returning-a-view-versus-a-copy\n",
      "  subframe['clean_text'] = subframe['text'].parallel_apply(lambda x: preproc_text(x))\n"
     ]
    }
   ],
   "source": [
    "print(\"cleaning data\")\n",
    "#text preproessing - filter engligh, hindi, marathi stop words, remove puncts, hash, mentions, urls, weird spaces etc.\n",
    "subframe['clean_text'] = subframe['text'].parallel_apply(lambda x: preproc_text(x))"
   ]
  },
  {
   "cell_type": "code",
   "execution_count": 16,
   "metadata": {},
   "outputs": [
    {
     "data": {
      "text/html": [
       "<div>\n",
       "<style scoped>\n",
       "    .dataframe tbody tr th:only-of-type {\n",
       "        vertical-align: middle;\n",
       "    }\n",
       "\n",
       "    .dataframe tbody tr th {\n",
       "        vertical-align: top;\n",
       "    }\n",
       "\n",
       "    .dataframe thead th {\n",
       "        text-align: right;\n",
       "    }\n",
       "</style>\n",
       "<table border=\"1\" class=\"dataframe\">\n",
       "  <thead>\n",
       "    <tr style=\"text-align: right;\">\n",
       "      <th></th>\n",
       "      <th>screen_name</th>\n",
       "      <th>text</th>\n",
       "      <th>party</th>\n",
       "      <th>language</th>\n",
       "      <th>is_RT</th>\n",
       "      <th>clean_text</th>\n",
       "    </tr>\n",
       "  </thead>\n",
       "  <tbody>\n",
       "    <tr>\n",
       "      <th>706889</th>\n",
       "      <td>6868tarkeshwar</td>\n",
       "      <td>https://t.co/MUYr9t8Y6v</td>\n",
       "      <td>INC</td>\n",
       "      <td>und</td>\n",
       "      <td>NaN</td>\n",
       "      <td></td>\n",
       "    </tr>\n",
       "    <tr>\n",
       "      <th>2740216</th>\n",
       "      <td>vdsharmabjp</td>\n",
       "      <td>सभी देशवासियों को रूप चतुर्दशी 'छोटी दीपावली' ...</td>\n",
       "      <td>BJP</td>\n",
       "      <td>hi</td>\n",
       "      <td>NaN</td>\n",
       "      <td>देशवासियों रूप चतुर्दशी छोटी दीपावली</td>\n",
       "    </tr>\n",
       "    <tr>\n",
       "      <th>2203508</th>\n",
       "      <td>sumeetbhasin</td>\n",
       "      <td>@narendramodi Thanks to your visionary leaders...</td>\n",
       "      <td>BJP</td>\n",
       "      <td>en</td>\n",
       "      <td>NaN</td>\n",
       "      <td>visionary leadership encouragement sahib god b...</td>\n",
       "    </tr>\n",
       "    <tr>\n",
       "      <th>1882447</th>\n",
       "      <td>OPSharmaBJP</td>\n",
       "      <td>भारत माँ की रक्षा करते हुए बलिदान हुए सैनिकों ...</td>\n",
       "      <td>BJP</td>\n",
       "      <td>hi</td>\n",
       "      <td>NaN</td>\n",
       "      <td>माँ रक्षा बलिदान सैनिकों अवसर श्रद्धांजलि अर्प...</td>\n",
       "    </tr>\n",
       "    <tr>\n",
       "      <th>1836465</th>\n",
       "      <td>None</td>\n",
       "      <td>पूर्वोत्तर का विकास, वहां की शान्ति और राजनीति...</td>\n",
       "      <td>BJP</td>\n",
       "      <td>hi</td>\n",
       "      <td>NaN</td>\n",
       "      <td>पूर्वोत्तर विकास शान्ति राजनीतिक स्थिरता हमारी...</td>\n",
       "    </tr>\n",
       "  </tbody>\n",
       "</table>\n",
       "</div>"
      ],
      "text/plain": [
       "            screen_name                                               text  \\\n",
       "706889   6868tarkeshwar                            https://t.co/MUYr9t8Y6v   \n",
       "2740216     vdsharmabjp  सभी देशवासियों को रूप चतुर्दशी 'छोटी दीपावली' ...   \n",
       "2203508    sumeetbhasin  @narendramodi Thanks to your visionary leaders...   \n",
       "1882447     OPSharmaBJP  भारत माँ की रक्षा करते हुए बलिदान हुए सैनिकों ...   \n",
       "1836465            None  पूर्वोत्तर का विकास, वहां की शान्ति और राजनीति...   \n",
       "\n",
       "        party language  is_RT  \\\n",
       "706889    INC      und    NaN   \n",
       "2740216   BJP       hi    NaN   \n",
       "2203508   BJP       en    NaN   \n",
       "1882447   BJP       hi    NaN   \n",
       "1836465   BJP       hi    NaN   \n",
       "\n",
       "                                                clean_text  \n",
       "706889                                                      \n",
       "2740216               देशवासियों रूप चतुर्दशी छोटी दीपावली  \n",
       "2203508  visionary leadership encouragement sahib god b...  \n",
       "1882447  माँ रक्षा बलिदान सैनिकों अवसर श्रद्धांजलि अर्प...  \n",
       "1836465  पूर्वोत्तर विकास शान्ति राजनीतिक स्थिरता हमारी...  "
      ]
     },
     "execution_count": 16,
     "metadata": {},
     "output_type": "execute_result"
    }
   ],
   "source": [
    "subframe.sample(5)"
   ]
  },
  {
   "cell_type": "code",
   "execution_count": 17,
   "metadata": {},
   "outputs": [],
   "source": [
    "# keep text only in hi, mr and en for now\n",
    "keep_lang = ['en','hi','mr']\n",
    "lang_frame = subframe.loc[subframe['language'].isin(keep_lang)]\n"
   ]
  },
  {
   "cell_type": "code",
   "execution_count": 18,
   "metadata": {},
   "outputs": [],
   "source": [
    "# check_tokens = ['and', 'की', 'में']\n",
    "# def checkforwords(text):\n",
    "#     for c in check_tokens:\n",
    "#         if c in text:\n",
    "#             return 1\n",
    "    "
   ]
  },
  {
   "cell_type": "code",
   "execution_count": 19,
   "metadata": {},
   "outputs": [],
   "source": [
    "# lang_frame['is_trashy'] = lang_frame.parallel_apply(lambda x: checkforwords(x))\n",
    "# lang_frame.loc[lang_frame['is_trashy']==1].sample(5)"
   ]
  },
  {
   "cell_type": "code",
   "execution_count": null,
   "metadata": {},
   "outputs": [],
   "source": []
  },
  {
   "cell_type": "code",
   "execution_count": 20,
   "metadata": {},
   "outputs": [],
   "source": [
    "import gensim\n",
    "from gensim.models.phrases import Phrases\n",
    "import gensim.corpora as corpora\n",
    "from gensim.utils import simple_preprocess\n",
    "from gensim.models import CoherenceModel\n"
   ]
  },
  {
   "cell_type": "code",
   "execution_count": 21,
   "metadata": {},
   "outputs": [
    {
     "name": "stdout",
     "output_type": "stream",
     "text": [
      "prepping corpus for topicmodel\n"
     ]
    }
   ],
   "source": [
    "print(\"prepping corpus for topicmodel\")\n",
    "# prepare data for topic modeling\n",
    "corp = lang_frame['clean_text'].tolist()\n",
    "parties = lang_frame['party'].tolist()\n",
    "corp_tokens = [c.split() for c in corp]\n",
    "phrases = Phrases(corp_tokens, min_count=5, threshold=0.1)\n",
    "tokes = [phrases[t] for t in corp_tokens]\n"
   ]
  },
  {
   "cell_type": "code",
   "execution_count": 22,
   "metadata": {},
   "outputs": [],
   "source": [
    "BJP_data = []\n",
    "INC_data = []\n",
    "AAP_data = []\n",
    "\n",
    "for i in range(len(tokes)):\n",
    "    if parties[i]=='BJP':\n",
    "        BJP_data.append(tokes[i])\n",
    "    if parties[i]=='INC':\n",
    "        INC_data.append(tokes[i])\n",
    "    if parties[i]=='AAP':\n",
    "        AAP_data.append(tokes[i])\n"
   ]
  },
  {
   "cell_type": "code",
   "execution_count": 23,
   "metadata": {},
   "outputs": [
    {
     "data": {
      "text/plain": [
       "['honor',\n",
       " 'youve',\n",
       " 'invited',\n",
       " 'deliver_keynote',\n",
       " 'inaugural',\n",
       " 'sydney_dialogue']"
      ]
     },
     "execution_count": 23,
     "metadata": {},
     "output_type": "execute_result"
    }
   ],
   "source": [
    "BJP_data[89]"
   ]
  },
  {
   "cell_type": "markdown",
   "metadata": {},
   "source": [
    "## phrasing based on languages"
   ]
  },
  {
   "cell_type": "markdown",
   "metadata": {},
   "source": [
    "## BJP topic modeling"
   ]
  },
  {
   "cell_type": "code",
   "execution_count": 24,
   "metadata": {},
   "outputs": [],
   "source": [
    "import gensim.corpora as corpora\n",
    "from gensim.utils import simple_preprocess\n",
    "from gensim.models import CoherenceModel\n",
    "from analysis_func.text_preproc import preproc_text\n",
    "from analysis_func.topic_preproc import prepare_corp\n",
    "from analysis_func.topic_model import topicmodel\n",
    "from analysis_func.saveload_topicmodels import save_modelanddata, load_modelanddata\n"
   ]
  },
  {
   "cell_type": "code",
   "execution_count": 25,
   "metadata": {},
   "outputs": [
    {
     "name": "stdout",
     "output_type": "stream",
     "text": [
      "CPU times: user 5min 26s, sys: 6min 52s, total: 12min 19s\n",
      "Wall time: 11min 22s\n"
     ]
    }
   ],
   "source": [
    "%%time\n",
    "BJP_id2word, BJP_corpus = prepare_corp(BJP_data)\n",
    "BJP_model = topicmodel(5, BJP_corpus, BJP_id2word)"
   ]
  },
  {
   "cell_type": "code",
   "execution_count": 26,
   "metadata": {},
   "outputs": [
    {
     "name": "stdout",
     "output_type": "stream",
     "text": [
      "[(0,\n",
      "  '0.006*\"राम\" + 0.003*\"श्रद्धांजलि\" + 0.002*\"झारखण्ड\" + 0.002*\"namo_app\" + '\n",
      "  '0.002*\"दिवस\" + 0.002*\"रहें\" + 0.001*\"उपस्थित\" + 0.001*\"युवा_मोर्चा\" + '\n",
      "  '0.001*\"महादेव\" + 0.001*\"पीएम\"'),\n",
      " (1,\n",
      "  '0.004*\"आभार\" + 0.002*\"शुभकामनाएँ\" + 0.002*\"app\" + 0.002*\"ॐ_शांति\" + '\n",
      "  '0.002*\"शत_शत\" + 0.002*\"namo_app\" + 0.001*\"checked\" + 0.001*\"अभिनंदन\" + '\n",
      "  '0.001*\"स्वयंसेवक_संघ\" + 0.001*\"भोलेनाथ\"'),\n",
      " (2,\n",
      "  '0.011*\"धन्यवाद\" + 0.002*\"आपकी_शुभकामनाओं\" + 0.001*\"साहब\" + 0.001*\"राजस्थान\" '\n",
      "  '+ 0.001*\"शुभकामनाओं_धन्यवाद\" + 0.001*\"चाहिए\" + 0.001*\"होगा\" + 0.001*\"कभी\" + '\n",
      "  '0.001*\"सब\" + 0.001*\"लोग\"'),\n",
      " (3,\n",
      "  '0.002*\"sir\" + 0.001*\"namo_app\" + 0.001*\"wishes\" + 0.001*\"om_shanti\" + '\n",
      "  '0.001*\"life\" + 0.001*\"()\" + 0.001*\"bengal\" + 0.001*\"दिवस\" + 0.001*\"team\" + '\n",
      "  '0.001*\"सादर_प्रणाम\"'),\n",
      " (4,\n",
      "  '0.002*\"कामना\" + 0.002*\"उत्तम_स्वास्थ्य\" + 0.002*\"namo_app\" + 0.002*\"पीएम\" + '\n",
      "  '0.002*\"ईश्वर_आपके\" + 0.002*\"ईश्वर_प्रार्थना\" + 0.002*\"प्रदान\" + '\n",
      "  '0.002*\"स्वास्थ्य_दीर्घायु\" + 0.002*\"आपके_उत्तम\" + 0.002*\"हूं\"')]\n"
     ]
    }
   ],
   "source": [
    "from pprint import pprint\n",
    "pprint(BJP_model.print_topics())\n",
    "doc_lda = BJP_model[BJP_corpus]"
   ]
  }
 ],
 "metadata": {
  "kernelspec": {
   "display_name": "Python 3",
   "language": "python",
   "name": "python3"
  },
  "language_info": {
   "codemirror_mode": {
    "name": "ipython",
    "version": 3
   },
   "file_extension": ".py",
   "mimetype": "text/x-python",
   "name": "python",
   "nbconvert_exporter": "python",
   "pygments_lexer": "ipython3",
   "version": "3.8.10"
  }
 },
 "nbformat": 4,
 "nbformat_minor": 4
}
