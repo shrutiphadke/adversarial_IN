{
 "cells": [
  {
   "cell_type": "code",
   "execution_count": 1,
   "metadata": {},
   "outputs": [],
   "source": [
    "import numpy as np\n",
    "import pandas as pd\n",
    "import requests\n",
    "import os\n",
    "import json\n",
    "import pandas as pd\n",
    "import time\n",
    "import glob\n",
    "\n",
    "sample_data = pd.read_csv(\"/home/phadke/ONR/ONR/data_collection/sample_data_Jan_17.csv\", header=0)\n"
   ]
  },
  {
   "cell_type": "code",
   "execution_count": 2,
   "metadata": {},
   "outputs": [
    {
     "data": {
      "text/html": [
       "<div>\n",
       "<style scoped>\n",
       "    .dataframe tbody tr th:only-of-type {\n",
       "        vertical-align: middle;\n",
       "    }\n",
       "\n",
       "    .dataframe tbody tr th {\n",
       "        vertical-align: top;\n",
       "    }\n",
       "\n",
       "    .dataframe thead th {\n",
       "        text-align: right;\n",
       "    }\n",
       "</style>\n",
       "<table border=\"1\" class=\"dataframe\">\n",
       "  <thead>\n",
       "    <tr style=\"text-align: right;\">\n",
       "      <th></th>\n",
       "      <th>Unnamed: 0</th>\n",
       "      <th>Unnamed: 0.1</th>\n",
       "      <th>domain</th>\n",
       "      <th>id</th>\n",
       "      <th>id_str</th>\n",
       "      <th>party</th>\n",
       "      <th>screen_name</th>\n",
       "      <th>state</th>\n",
       "    </tr>\n",
       "  </thead>\n",
       "  <tbody>\n",
       "    <tr>\n",
       "      <th>0</th>\n",
       "      <td>9580</td>\n",
       "      <td>9580</td>\n",
       "      <td>1.0</td>\n",
       "      <td>2858243286</td>\n",
       "      <td>2858243286</td>\n",
       "      <td>BJP</td>\n",
       "      <td>rkdugar04</td>\n",
       "      <td>Delhi</td>\n",
       "    </tr>\n",
       "    <tr>\n",
       "      <th>1</th>\n",
       "      <td>11357</td>\n",
       "      <td>11357</td>\n",
       "      <td>1.0</td>\n",
       "      <td>826082996943851520</td>\n",
       "      <td>826082996943851520</td>\n",
       "      <td>BJP</td>\n",
       "      <td>b_biddyut</td>\n",
       "      <td>Assam</td>\n",
       "    </tr>\n",
       "    <tr>\n",
       "      <th>2</th>\n",
       "      <td>61</td>\n",
       "      <td>61</td>\n",
       "      <td>1.0</td>\n",
       "      <td>947016857768169472</td>\n",
       "      <td>947016857768169472</td>\n",
       "      <td>BJP</td>\n",
       "      <td>wasimkh47913671</td>\n",
       "      <td>Maharashtra</td>\n",
       "    </tr>\n",
       "    <tr>\n",
       "      <th>3</th>\n",
       "      <td>8515</td>\n",
       "      <td>8515</td>\n",
       "      <td>1.0</td>\n",
       "      <td>2262967596</td>\n",
       "      <td>2262967596</td>\n",
       "      <td>BJP</td>\n",
       "      <td>sanjudwg</td>\n",
       "      <td>West Bengal</td>\n",
       "    </tr>\n",
       "    <tr>\n",
       "      <th>4</th>\n",
       "      <td>32491</td>\n",
       "      <td>32491</td>\n",
       "      <td>NaN</td>\n",
       "      <td>1176799649899982849</td>\n",
       "      <td>1176799649899982848</td>\n",
       "      <td>BJP</td>\n",
       "      <td>Pankajt91543058</td>\n",
       "      <td>To Be Added</td>\n",
       "    </tr>\n",
       "  </tbody>\n",
       "</table>\n",
       "</div>"
      ],
      "text/plain": [
       "   Unnamed: 0  Unnamed: 0.1  domain                   id               id_str  \\\n",
       "0        9580          9580     1.0           2858243286           2858243286   \n",
       "1       11357         11357     1.0   826082996943851520   826082996943851520   \n",
       "2          61            61     1.0   947016857768169472   947016857768169472   \n",
       "3        8515          8515     1.0           2262967596           2262967596   \n",
       "4       32491         32491     NaN  1176799649899982849  1176799649899982848   \n",
       "\n",
       "  party      screen_name        state  \n",
       "0   BJP        rkdugar04        Delhi  \n",
       "1   BJP        b_biddyut        Assam  \n",
       "2   BJP  wasimkh47913671  Maharashtra  \n",
       "3   BJP         sanjudwg  West Bengal  \n",
       "4   BJP  Pankajt91543058  To Be Added  "
      ]
     },
     "execution_count": 2,
     "metadata": {},
     "output_type": "execute_result"
    }
   ],
   "source": [
    "sample_data.head()"
   ]
  },
  {
   "cell_type": "code",
   "execution_count": 3,
   "metadata": {},
   "outputs": [],
   "source": [
    "valid_files = []\n",
    "for idx, row in sample_data.iterrows():\n",
    "    cid = str(row['id_str'])\n",
    "    screen_name=row['screen_name']\n",
    "    party=row['party']\n",
    "    state=row['state']\n",
    "    \n",
    "    fname = \"/home/phadke/ONR/ONR/big_data/Twitter/\" + cid+\"_\"+screen_name+\"_\"+party+\".csv\"\n",
    "    valid_files.append(fname)\n"
   ]
  },
  {
   "cell_type": "code",
   "execution_count": 4,
   "metadata": {},
   "outputs": [
    {
     "name": "stdout",
     "output_type": "stream",
     "text": [
      "4000\n"
     ]
    }
   ],
   "source": [
    "print(len(valid_files))"
   ]
  },
  {
   "cell_type": "code",
   "execution_count": null,
   "metadata": {},
   "outputs": [
    {
     "name": "stdout",
     "output_type": "stream",
     "text": [
      "0\n",
      "100\n",
      "200\n",
      "300\n",
      "400\n",
      "500\n",
      "600\n",
      "700\n",
      "800\n",
      "900\n",
      "1000\n",
      "1100\n",
      "1200\n",
      "1300\n",
      "1400\n",
      "1500\n",
      "1600\n",
      "1700\n",
      "1800\n",
      "1900\n",
      "2000\n",
      "2100\n",
      "2200\n",
      "2300\n",
      "2400\n",
      "2500\n",
      "2600\n",
      "2700\n",
      "2800\n",
      "2900\n",
      "3000\n",
      "3100\n",
      "3200\n",
      "3300\n",
      "3400\n",
      "3500\n",
      "3600\n"
     ]
    }
   ],
   "source": [
    "linkframe = pd.DataFrame(columns=['party','link', 'author'])\n",
    "counter=0\n",
    "for d in valid_files:\n",
    "    if counter%100==0:\n",
    "        print(counter)\n",
    "    counter+=1\n",
    "    try:\n",
    "        splitfilename = d.replace(\".csv\", \"\").split(\"_\")\n",
    "        party = splitfilename[len(splitfilename)-1]\n",
    "        author = splitfilename[len(splitfilename)-2]\n",
    "        with open(d, \"r\") as jsonfile:\n",
    "\n",
    "            for line in jsonfile:\n",
    "                job= json.loads(line)\n",
    "                if \"entities\" in job.keys():\n",
    "                    if \"urls\" in job[\"entities\"]:\n",
    "                        for u in job[\"entities\"][\"urls\"]:\n",
    "                            if \"expanded_url\" in u:\n",
    "                                linkframe = linkframe.append({\"party\":party, \"link\":u[\"expanded_url\"], \"author\":author}, ignore_index=True)\n",
    "                                \n",
    "    except:\n",
    "        fakevar = 0\n"
   ]
  },
  {
   "cell_type": "code",
   "execution_count": null,
   "metadata": {},
   "outputs": [],
   "source": [
    "linkframe.head()"
   ]
  },
  {
   "cell_type": "code",
   "execution_count": null,
   "metadata": {},
   "outputs": [],
   "source": [
    "#print(linkframe.head())\n",
    "\n",
    "linkframe.to_csv(\"/home/phadke/ONR/ONR/lite_data/jan21_nonfiltered_extracted_urls.csv\")\n",
    "## extract domains\n",
    "\n",
    "def get_domain(link):\n",
    "    try:\n",
    "        res = get_tld(link, as_object=True)\n",
    "        return res.fld\n",
    "    except:\n",
    "        fakevar=1\n",
    "\n",
    "\n",
    "linkframe['domain'] = linkframe['link'].parallel_apply(lambda x: get_domain(x))\n",
    "\n"
   ]
  },
  {
   "cell_type": "code",
   "execution_count": null,
   "metadata": {},
   "outputs": [],
   "source": [
    "#print(linkframe.head())\n",
    "\n",
    "common_domains = ['twitter.com', 'facebook.com', 'google.com', 'm.tech', 'm.sc', 'b.tech', 'page.link', 'youtu.be', 'bit.ly', 'instagram.com','youtube.com']\n",
    "\n",
    "filtered_link = linkframe.loc[~linkframe['domain'].isin(common_domains)]\n",
    "\n",
    "filtered_link.to_csv(\"/home/phadke/ONR/ONR/lite_data/jan21_filtered_extracted_urls.csv\")\n",
    "\n",
    "agg_filtered = filtered_link.groupby(['author','domain']).size().reset_index().rename(columns={0:\"count\"})\n",
    "\n",
    "print(agg_filtered.head())\n",
    "\n",
    "agg_filtered.to_csv(\"/home/phadke/ONR/ONR/lite_data/jan21_extracted_domains.csv\")"
   ]
  },
  {
   "cell_type": "code",
   "execution_count": null,
   "metadata": {},
   "outputs": [],
   "source": [
    "agg_filtered.sample(5)"
   ]
  },
  {
   "cell_type": "code",
   "execution_count": null,
   "metadata": {},
   "outputs": [],
   "source": [
    "len(agg_filtered)"
   ]
  },
  {
   "cell_type": "code",
   "execution_count": null,
   "metadata": {},
   "outputs": [],
   "source": []
  }
 ],
 "metadata": {
  "kernelspec": {
   "display_name": "Python 3",
   "language": "python",
   "name": "python3"
  },
  "language_info": {
   "codemirror_mode": {
    "name": "ipython",
    "version": 3
   },
   "file_extension": ".py",
   "mimetype": "text/x-python",
   "name": "python",
   "nbconvert_exporter": "python",
   "pygments_lexer": "ipython3",
   "version": "3.8.10"
  }
 },
 "nbformat": 4,
 "nbformat_minor": 4
}
