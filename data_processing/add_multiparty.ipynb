{
 "cells": [
  {
   "cell_type": "code",
   "execution_count": 1,
   "metadata": {},
   "outputs": [
    {
     "name": "stdout",
     "output_type": "stream",
     "text": [
      "INFO: Pandarallel will run on 128 workers.\n",
      "INFO: Pandarallel will use Memory file system to transfer data between the main process and workers.\n"
     ]
    },
    {
     "data": {
      "text/plain": [
       "'/home/phadke/ONR/ONR/big_data/Twitter/4636722562_Thakur_deepak_s_INC.csv'"
      ]
     },
     "execution_count": 1,
     "metadata": {},
     "output_type": "execute_result"
    }
   ],
   "source": [
    "import pandas as pd\n",
    "import glob\n",
    "import numpy as np\n",
    "import json\n",
    "from tld import get_tld\n",
    "from pandarallel import pandarallel\n",
    "pandarallel.initialize()\n",
    "\n",
    "datafiles = glob.glob(\"/home/phadke/ONR/ONR/big_data/Twitter/*.csv\")\n",
    "\n",
    "linkframe = pd.DataFrame(columns=['party','link', 'author'])\n",
    "\n",
    "counter = 0\n",
    "\n",
    "datafiles[0]"
   ]
  },
  {
   "cell_type": "code",
   "execution_count": 2,
   "metadata": {},
   "outputs": [],
   "source": [
    "multiparty = ['_AAP.csv']\n",
    "valid_files = []\n",
    "\n",
    "for d in datafiles:\n",
    "    for m in multiparty:\n",
    "        if m in d:\n",
    "            valid_files.append(d)\n",
    "            "
   ]
  },
  {
   "cell_type": "code",
   "execution_count": 3,
   "metadata": {},
   "outputs": [
    {
     "name": "stdout",
     "output_type": "stream",
     "text": [
      "6691\n",
      "430\n"
     ]
    }
   ],
   "source": [
    "print(len(datafiles))\n",
    "print(len(valid_files))"
   ]
  },
  {
   "cell_type": "code",
   "execution_count": 4,
   "metadata": {},
   "outputs": [
    {
     "name": "stdout",
     "output_type": "stream",
     "text": [
      "0\n",
      "100\n",
      "200\n",
      "300\n",
      "400\n"
     ]
    }
   ],
   "source": [
    "for d in valid_files:\n",
    "    if counter%100==0:\n",
    "        print(counter)\n",
    "    counter+=1\n",
    "    splitfilename = d.replace(\".csv\", \"\").split(\"_\")\n",
    "    party = splitfilename[len(splitfilename)-1]\n",
    "    author = splitfilename[len(splitfilename)-2]\n",
    "    with open(d, \"r\") as jsonfile:\n",
    "\n",
    "        for line in jsonfile:\n",
    "            job= json.loads(line)\n",
    "            if \"entities\" in job.keys():\n",
    "                if \"urls\" in job[\"entities\"]:\n",
    "                    for u in job[\"entities\"][\"urls\"]:\n",
    "                        if \"expanded_url\" in u:\n",
    "                            linkframe = linkframe.append({\"party\":party, \"link\":u[\"expanded_url\"], \"author\":author}, ignore_index=True)\n"
   ]
  },
  {
   "cell_type": "code",
   "execution_count": 5,
   "metadata": {},
   "outputs": [
    {
     "data": {
      "text/html": [
       "<div>\n",
       "<style scoped>\n",
       "    .dataframe tbody tr th:only-of-type {\n",
       "        vertical-align: middle;\n",
       "    }\n",
       "\n",
       "    .dataframe tbody tr th {\n",
       "        vertical-align: top;\n",
       "    }\n",
       "\n",
       "    .dataframe thead th {\n",
       "        text-align: right;\n",
       "    }\n",
       "</style>\n",
       "<table border=\"1\" class=\"dataframe\">\n",
       "  <thead>\n",
       "    <tr style=\"text-align: right;\">\n",
       "      <th></th>\n",
       "      <th>party</th>\n",
       "      <th>link</th>\n",
       "      <th>author</th>\n",
       "    </tr>\n",
       "  </thead>\n",
       "  <tbody>\n",
       "    <tr>\n",
       "      <th>0</th>\n",
       "      <td>AAP</td>\n",
       "      <td>https://twitter.com/gill_buta/status/144960713...</td>\n",
       "      <td>buta</td>\n",
       "    </tr>\n",
       "    <tr>\n",
       "      <th>1</th>\n",
       "      <td>AAP</td>\n",
       "      <td>https://twitter.com/gill_buta/status/144354531...</td>\n",
       "      <td>buta</td>\n",
       "    </tr>\n",
       "    <tr>\n",
       "      <th>2</th>\n",
       "      <td>AAP</td>\n",
       "      <td>https://twitter.com/gill_buta/status/125759475...</td>\n",
       "      <td>buta</td>\n",
       "    </tr>\n",
       "    <tr>\n",
       "      <th>3</th>\n",
       "      <td>AAP</td>\n",
       "      <td>https://twitter.com/gill_buta/status/125697840...</td>\n",
       "      <td>buta</td>\n",
       "    </tr>\n",
       "    <tr>\n",
       "      <th>4</th>\n",
       "      <td>AAP</td>\n",
       "      <td>https://twitter.com/gill_buta/status/125614398...</td>\n",
       "      <td>buta</td>\n",
       "    </tr>\n",
       "  </tbody>\n",
       "</table>\n",
       "</div>"
      ],
      "text/plain": [
       "  party                                               link author\n",
       "0   AAP  https://twitter.com/gill_buta/status/144960713...   buta\n",
       "1   AAP  https://twitter.com/gill_buta/status/144354531...   buta\n",
       "2   AAP  https://twitter.com/gill_buta/status/125759475...   buta\n",
       "3   AAP  https://twitter.com/gill_buta/status/125697840...   buta\n",
       "4   AAP  https://twitter.com/gill_buta/status/125614398...   buta"
      ]
     },
     "execution_count": 5,
     "metadata": {},
     "output_type": "execute_result"
    }
   ],
   "source": [
    "linkframe.head()"
   ]
  },
  {
   "cell_type": "code",
   "execution_count": 6,
   "metadata": {},
   "outputs": [],
   "source": [
    "#print(linkframe.head())\n",
    "\n",
    "linkframe.to_csv(\"/home/phadke/ONR/ONR/lite_data/aap_dec15_nonfiltered_extracted_urls.csv\")\n",
    "## extract domains\n",
    "\n",
    "def get_domain(link):\n",
    "    try:\n",
    "        res = get_tld(link, as_object=True)\n",
    "        return res.fld\n",
    "    except:\n",
    "        fakevar=1\n",
    "\n",
    "\n",
    "linkframe['domain'] = linkframe['link'].parallel_apply(lambda x: get_domain(x))\n",
    "\n"
   ]
  },
  {
   "cell_type": "code",
   "execution_count": 7,
   "metadata": {},
   "outputs": [
    {
     "name": "stdout",
     "output_type": "stream",
     "text": [
      "  author             domain  count\n",
      "0                      1.si      1\n",
      "1            54.xn--h2brj9c      1\n",
      "2           5dariyanews.com      1\n",
      "3                 aajtak.in      8\n",
      "4         aamaadmiparty.org      1\n"
     ]
    }
   ],
   "source": [
    "#print(linkframe.head())\n",
    "\n",
    "common_domains = ['twitter.com', 'facebook.com', 'google.com', 'm.tech', 'm.sc', 'b.tech', 'page.link', 'youtu.be', 'bit.ly', 'instagram.com','youtube.com']\n",
    "\n",
    "filtered_link = linkframe.loc[~linkframe['domain'].isin(common_domains)]\n",
    "\n",
    "filtered_link.to_csv(\"/home/phadke/ONR/ONR/lite_data/aap_dec15_filtered_extracted_urls.csv\")\n",
    "\n",
    "agg_filtered = filtered_link.groupby(['author','domain']).size().reset_index().rename(columns={0:\"count\"})\n",
    "\n",
    "print(agg_filtered.head())\n",
    "\n",
    "agg_filtered.to_csv(\"/home/phadke/ONR/ONR/lite_data/aap_dec15_extracted_domains.csv\")"
   ]
  },
  {
   "cell_type": "code",
   "execution_count": 8,
   "metadata": {},
   "outputs": [
    {
     "data": {
      "text/html": [
       "<div>\n",
       "<style scoped>\n",
       "    .dataframe tbody tr th:only-of-type {\n",
       "        vertical-align: middle;\n",
       "    }\n",
       "\n",
       "    .dataframe tbody tr th {\n",
       "        vertical-align: top;\n",
       "    }\n",
       "\n",
       "    .dataframe thead th {\n",
       "        text-align: right;\n",
       "    }\n",
       "</style>\n",
       "<table border=\"1\" class=\"dataframe\">\n",
       "  <thead>\n",
       "    <tr style=\"text-align: right;\">\n",
       "      <th></th>\n",
       "      <th>author</th>\n",
       "      <th>domain</th>\n",
       "      <th>count</th>\n",
       "    </tr>\n",
       "  </thead>\n",
       "  <tbody>\n",
       "    <tr>\n",
       "      <th>3157</th>\n",
       "      <td>KuldeepKumarAAP</td>\n",
       "      <td>punjabkesari.in</td>\n",
       "      <td>1</td>\n",
       "    </tr>\n",
       "    <tr>\n",
       "      <th>2246</th>\n",
       "      <td>Aojhaaap</td>\n",
       "      <td>janchowk.com</td>\n",
       "      <td>1</td>\n",
       "    </tr>\n",
       "    <tr>\n",
       "      <th>2876</th>\n",
       "      <td>ElvinBaruah</td>\n",
       "      <td>newsijt.com</td>\n",
       "      <td>1</td>\n",
       "    </tr>\n",
       "    <tr>\n",
       "      <th>3331</th>\n",
       "      <td>Mishra</td>\n",
       "      <td>outlookindia.com</td>\n",
       "      <td>1</td>\n",
       "    </tr>\n",
       "    <tr>\n",
       "      <th>2785</th>\n",
       "      <td>DrKumarVishwas</td>\n",
       "      <td>hindustantimes.com</td>\n",
       "      <td>1</td>\n",
       "    </tr>\n",
       "  </tbody>\n",
       "</table>\n",
       "</div>"
      ],
      "text/plain": [
       "               author              domain  count\n",
       "3157  KuldeepKumarAAP     punjabkesari.in      1\n",
       "2246         Aojhaaap        janchowk.com      1\n",
       "2876      ElvinBaruah         newsijt.com      1\n",
       "3331           Mishra    outlookindia.com      1\n",
       "2785   DrKumarVishwas  hindustantimes.com      1"
      ]
     },
     "execution_count": 8,
     "metadata": {},
     "output_type": "execute_result"
    }
   ],
   "source": [
    "agg_filtered.sample(5)"
   ]
  },
  {
   "cell_type": "code",
   "execution_count": 9,
   "metadata": {},
   "outputs": [
    {
     "data": {
      "text/plain": [
       "6342"
      ]
     },
     "execution_count": 9,
     "metadata": {},
     "output_type": "execute_result"
    }
   ],
   "source": [
    "len(agg_filtered)"
   ]
  },
  {
   "cell_type": "code",
   "execution_count": null,
   "metadata": {},
   "outputs": [],
   "source": []
  }
 ],
 "metadata": {
  "kernelspec": {
   "display_name": "Python 3",
   "language": "python",
   "name": "python3"
  },
  "language_info": {
   "codemirror_mode": {
    "name": "ipython",
    "version": 3
   },
   "file_extension": ".py",
   "mimetype": "text/x-python",
   "name": "python",
   "nbconvert_exporter": "python",
   "pygments_lexer": "ipython3",
   "version": "3.8.10"
  }
 },
 "nbformat": 4,
 "nbformat_minor": 4
}
