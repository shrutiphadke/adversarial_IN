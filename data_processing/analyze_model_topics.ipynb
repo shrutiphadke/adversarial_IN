{
 "cells": [
  {
   "cell_type": "code",
   "execution_count": 1,
   "metadata": {},
   "outputs": [],
   "source": [
    "import pandas as pd\n",
    "import numpy as np\n",
    "from collections import defaultdict, Counter\n",
    "import glob\n",
    "import json\n",
    "from random import sample\n",
    "import sklearn\n",
    "import gensim.corpora as corpora\n",
    "from gensim.utils import simple_preprocess\n",
    "from gensim.models import CoherenceModel\n",
    "import gensim\n",
    "from analysis_func.saveload_topicmodels import load_modelanddata"
   ]
  },
  {
   "cell_type": "code",
   "execution_count": 10,
   "metadata": {},
   "outputs": [],
   "source": [
    "model, id2word, corpus = load_modelanddata(\"ldamodels/20220104_1035/\", \"AAP\")"
   ]
  },
  {
   "cell_type": "code",
   "execution_count": 11,
   "metadata": {},
   "outputs": [
    {
     "name": "stdout",
     "output_type": "stream",
     "text": [
      "[(0,\n",
      "  '0.001*\"चाहिए\" + 0.001*\"join\" + 0.001*\"होगा\" + 0.001*\"लोग\" + '\n",
      "  '0.001*\"karnataka\" + 0.001*\"आपको\" + 0.001*\"कैसे\" + 0.001*\"register\" + '\n",
      "  '0.001*\"केजरीवाल\" + 0.001*\"सब\"'),\n",
      " (1,\n",
      "  '0.006*\"bhai\" + 0.002*\"केजरीवाल\" + 0.002*\"conference\" + 0.001*\"उत्तराखंड\" + '\n",
      "  '0.001*\"details\" + 0.001*\"होगा\" + 0.001*\"पंजाब\" + 0.001*\"नगर_निगम\" + '\n",
      "  '0.001*\"addressing_press\" + 0.001*\"सब\"'),\n",
      " (2,\n",
      "  '0.003*\"sir\" + 0.002*\"punjab\" + 0.002*\"goa\" + 0.002*\"team\" + '\n",
      "  '0.001*\"बहुतबहुत_धन्यवाद\" + 0.001*\"hai\" + 0.001*\"hospital\" + 0.001*\"dont\" + '\n",
      "  '0.001*\"aam_aadmi\" + 0.001*\"centre\"'),\n",
      " (3,\n",
      "  '0.005*\"धन्यवाद\" + 0.002*\"केजरीवाल\" + 0.001*\"शुक्रिया\" + '\n",
      "  '0.001*\"अरविंद_केजरीवाल\" + 0.001*\"बिहार\" + 0.001*\"आपके\" + 0.001*\"मॉडल\" + '\n",
      "  '0.001*\"पास\" + 0.001*\"स्कूल\" + 0.001*\"सिर्फ\"'),\n",
      " (4,\n",
      "  '0.002*\"dialogue_register\" + 0.001*\"चाहिए\" + 0.001*\"केंद्र\" + '\n",
      "  '0.001*\"उत्तराखंड\" + 0.001*\"recovered_total\" + 0.001*\"वालों\" + 0.001*\"बिहार\" '\n",
      "  '+ 0.001*\"आभार\" + 0.001*\"आदित्यनाथ\" + 0.001*\"उत्तर\"')]\n"
     ]
    }
   ],
   "source": [
    "from pprint import pprint\n",
    "pprint(model.print_topics())"
   ]
  },
  {
   "cell_type": "code",
   "execution_count": 4,
   "metadata": {},
   "outputs": [
    {
     "data": {
      "text/plain": [
       "[(0, 1), (1, 1), (2, 1), (3, 1)]"
      ]
     },
     "execution_count": 4,
     "metadata": {},
     "output_type": "execute_result"
    }
   ],
   "source": [
    "corpus[0]"
   ]
  },
  {
   "cell_type": "code",
   "execution_count": 5,
   "metadata": {},
   "outputs": [
    {
     "data": {
      "text/plain": [
       "'nadda'"
      ]
     },
     "execution_count": 5,
     "metadata": {},
     "output_type": "execute_result"
    }
   ],
   "source": [
    "id2word[2]"
   ]
  },
  {
   "cell_type": "code",
   "execution_count": null,
   "metadata": {},
   "outputs": [],
   "source": []
  }
 ],
 "metadata": {
  "kernelspec": {
   "display_name": "Python 3",
   "language": "python",
   "name": "python3"
  },
  "language_info": {
   "codemirror_mode": {
    "name": "ipython",
    "version": 3
   },
   "file_extension": ".py",
   "mimetype": "text/x-python",
   "name": "python",
   "nbconvert_exporter": "python",
   "pygments_lexer": "ipython3",
   "version": "3.8.10"
  }
 },
 "nbformat": 4,
 "nbformat_minor": 4
}
