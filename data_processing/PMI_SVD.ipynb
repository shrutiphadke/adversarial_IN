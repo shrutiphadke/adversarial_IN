{
 "cells": [
  {
   "cell_type": "code",
   "execution_count": 1,
   "metadata": {},
   "outputs": [],
   "source": [
    "import pandas as pd\n",
    "import numpy as np\n",
    "import networkx as nx\n",
    "import matplotlib.pyplot as plt\n",
    "import os\n",
    "import pickle\n",
    "from collections import Counter, defaultdict\n",
    "from itertools import combinations\n",
    "\n",
    "import numpy as np\n",
    "import scipy as sp\n",
    "from tqdm import tqdm\n",
    "from scipy import sparse\n",
    "from scipy.sparse import linalg\n",
    "from sklearn.metrics.pairwise import cosine_similarity"
   ]
  },
  {
   "cell_type": "code",
   "execution_count": 2,
   "metadata": {},
   "outputs": [
    {
     "data": {
      "text/html": [
       "<div>\n",
       "<style scoped>\n",
       "    .dataframe tbody tr th:only-of-type {\n",
       "        vertical-align: middle;\n",
       "    }\n",
       "\n",
       "    .dataframe tbody tr th {\n",
       "        vertical-align: top;\n",
       "    }\n",
       "\n",
       "    .dataframe thead th {\n",
       "        text-align: right;\n",
       "    }\n",
       "</style>\n",
       "<table border=\"1\" class=\"dataframe\">\n",
       "  <thead>\n",
       "    <tr style=\"text-align: right;\">\n",
       "      <th></th>\n",
       "      <th>Unnamed: 0</th>\n",
       "      <th>domain</th>\n",
       "      <th>id</th>\n",
       "      <th>id_str</th>\n",
       "      <th>party</th>\n",
       "      <th>screen_name</th>\n",
       "      <th>state</th>\n",
       "    </tr>\n",
       "  </thead>\n",
       "  <tbody>\n",
       "    <tr>\n",
       "      <th>0</th>\n",
       "      <td>0</td>\n",
       "      <td>1.0</td>\n",
       "      <td>784325894559059968</td>\n",
       "      <td>784325894559059968</td>\n",
       "      <td>To Be Added</td>\n",
       "      <td>Sanjay_Meshack</td>\n",
       "      <td>To Be Added</td>\n",
       "    </tr>\n",
       "    <tr>\n",
       "      <th>1</th>\n",
       "      <td>1</td>\n",
       "      <td>1.0</td>\n",
       "      <td>741171197342187521</td>\n",
       "      <td>741171197342187520</td>\n",
       "      <td>BJP</td>\n",
       "      <td>BJP4AnN</td>\n",
       "      <td>Andaman and Nicobar Islands</td>\n",
       "    </tr>\n",
       "    <tr>\n",
       "      <th>2</th>\n",
       "      <td>2</td>\n",
       "      <td>1.0</td>\n",
       "      <td>1283244990274002949</td>\n",
       "      <td>1283244990274002944</td>\n",
       "      <td>INC</td>\n",
       "      <td>NSubramanian1</td>\n",
       "      <td>To Be Added</td>\n",
       "    </tr>\n",
       "    <tr>\n",
       "      <th>3</th>\n",
       "      <td>3</td>\n",
       "      <td>1.0</td>\n",
       "      <td>935363557050298368</td>\n",
       "      <td>935363557050298368</td>\n",
       "      <td>INC</td>\n",
       "      <td>SatishYepuri</td>\n",
       "      <td>Andhra Pradesh</td>\n",
       "    </tr>\n",
       "    <tr>\n",
       "      <th>4</th>\n",
       "      <td>4</td>\n",
       "      <td>1.0</td>\n",
       "      <td>112384119</td>\n",
       "      <td>112384119</td>\n",
       "      <td>BJP</td>\n",
       "      <td>praveenkubjp</td>\n",
       "      <td>Bihar</td>\n",
       "    </tr>\n",
       "  </tbody>\n",
       "</table>\n",
       "</div>"
      ],
      "text/plain": [
       "   Unnamed: 0  domain                   id               id_str        party  \\\n",
       "0           0     1.0   784325894559059968   784325894559059968  To Be Added   \n",
       "1           1     1.0   741171197342187521   741171197342187520          BJP   \n",
       "2           2     1.0  1283244990274002949  1283244990274002944          INC   \n",
       "3           3     1.0   935363557050298368   935363557050298368          INC   \n",
       "4           4     1.0            112384119            112384119          BJP   \n",
       "\n",
       "      screen_name                        state  \n",
       "0  Sanjay_Meshack                  To Be Added  \n",
       "1         BJP4AnN  Andaman and Nicobar Islands  \n",
       "2   NSubramanian1                  To Be Added  \n",
       "3    SatishYepuri               Andhra Pradesh  \n",
       "4    praveenkubjp                        Bihar  "
      ]
     },
     "execution_count": 2,
     "metadata": {},
     "output_type": "execute_result"
    }
   ],
   "source": [
    "# keep hindi and english\n",
    "fulldata = pd.read_csv(\"../lite_data/india_July_21.csv\", header=0)\n",
    "fulldata.head()"
   ]
  },
  {
   "cell_type": "code",
   "execution_count": 3,
   "metadata": {},
   "outputs": [
    {
     "data": {
      "text/html": [
       "<div>\n",
       "<style scoped>\n",
       "    .dataframe tbody tr th:only-of-type {\n",
       "        vertical-align: middle;\n",
       "    }\n",
       "\n",
       "    .dataframe tbody tr th {\n",
       "        vertical-align: top;\n",
       "    }\n",
       "\n",
       "    .dataframe thead th {\n",
       "        text-align: right;\n",
       "    }\n",
       "</style>\n",
       "<table border=\"1\" class=\"dataframe\">\n",
       "  <thead>\n",
       "    <tr style=\"text-align: right;\">\n",
       "      <th></th>\n",
       "      <th>Unnamed: 0</th>\n",
       "      <th>domain</th>\n",
       "      <th>id</th>\n",
       "      <th>id_str</th>\n",
       "      <th>party</th>\n",
       "      <th>screen_name</th>\n",
       "      <th>state</th>\n",
       "    </tr>\n",
       "  </thead>\n",
       "  <tbody>\n",
       "    <tr>\n",
       "      <th>13656</th>\n",
       "      <td>13656</td>\n",
       "      <td>1.0</td>\n",
       "      <td>826514822900559877</td>\n",
       "      <td>826514822900559872</td>\n",
       "      <td>JKNC</td>\n",
       "      <td>altaf_kaloo</td>\n",
       "      <td>Jammu and Kashmir</td>\n",
       "    </tr>\n",
       "    <tr>\n",
       "      <th>6705</th>\n",
       "      <td>6705</td>\n",
       "      <td>1.0</td>\n",
       "      <td>1079351778468978688</td>\n",
       "      <td>1079351778468978688</td>\n",
       "      <td>BJP</td>\n",
       "      <td>AtulRai62538613</td>\n",
       "      <td>Uttar Pradesh</td>\n",
       "    </tr>\n",
       "    <tr>\n",
       "      <th>15110</th>\n",
       "      <td>15110</td>\n",
       "      <td>1.0</td>\n",
       "      <td>402711970</td>\n",
       "      <td>402711970</td>\n",
       "      <td>INC</td>\n",
       "      <td>kuriyedathu</td>\n",
       "      <td>Kerala</td>\n",
       "    </tr>\n",
       "    <tr>\n",
       "      <th>10299</th>\n",
       "      <td>10299</td>\n",
       "      <td>1.0</td>\n",
       "      <td>1026161689740369920</td>\n",
       "      <td>1026161689740369920</td>\n",
       "      <td>To Be Added</td>\n",
       "      <td>TSelja</td>\n",
       "      <td>Delhi</td>\n",
       "    </tr>\n",
       "    <tr>\n",
       "      <th>6661</th>\n",
       "      <td>6661</td>\n",
       "      <td>1.0</td>\n",
       "      <td>740057367522332672</td>\n",
       "      <td>740057367522332672</td>\n",
       "      <td>BJP</td>\n",
       "      <td>Rohittripathibj</td>\n",
       "      <td>Uttar Pradesh</td>\n",
       "    </tr>\n",
       "  </tbody>\n",
       "</table>\n",
       "</div>"
      ],
      "text/plain": [
       "       Unnamed: 0  domain                   id               id_str  \\\n",
       "13656       13656     1.0   826514822900559877   826514822900559872   \n",
       "6705         6705     1.0  1079351778468978688  1079351778468978688   \n",
       "15110       15110     1.0            402711970            402711970   \n",
       "10299       10299     1.0  1026161689740369920  1026161689740369920   \n",
       "6661         6661     1.0   740057367522332672   740057367522332672   \n",
       "\n",
       "             party      screen_name              state  \n",
       "13656         JKNC      altaf_kaloo  Jammu and Kashmir  \n",
       "6705           BJP  AtulRai62538613      Uttar Pradesh  \n",
       "15110          INC      kuriyedathu             Kerala  \n",
       "10299  To Be Added           TSelja              Delhi  \n",
       "6661           BJP  Rohittripathibj      Uttar Pradesh  "
      ]
     },
     "execution_count": 3,
     "metadata": {},
     "output_type": "execute_result"
    }
   ],
   "source": [
    "fulldata.sample(5)"
   ]
  },
  {
   "cell_type": "code",
   "execution_count": 4,
   "metadata": {},
   "outputs": [
    {
     "data": {
      "text/plain": [
       "array(['To Be Added', 'Andaman and Nicobar Islands', 'Andhra Pradesh',\n",
       "       'Bihar', 'Maharashtra', 'Tamil Nadu', 'Manipur', 'Meghalaya',\n",
       "       'Gujarat', 'Mizoram', 'Nagaland', 'Odisha', 'Overseas',\n",
       "       'Puducherry', 'Chhattisgarh', 'Madhya Pradesh', 'Punjab',\n",
       "       'Rajasthan', 'Delhi', 'Uttar Pradesh', 'Arunachal Pradesh',\n",
       "       'Karnataka', 'Haryana', 'Uttarakhand', 'Telangana',\n",
       "       'Himachal Pradesh', 'West Bengal', 'Tripura', 'Chandigarh',\n",
       "       'Dadra and Nagar Haveli', 'Sikkim', 'Jammu and Kashmir',\n",
       "       'Daman and Diu', 'Goa', 'Ladakh', 'Assam', 'Lakshadweep',\n",
       "       'Jharkhand', 'Kerala'], dtype=object)"
      ]
     },
     "execution_count": 4,
     "metadata": {},
     "output_type": "execute_result"
    }
   ],
   "source": [
    "fulldata.state.unique()"
   ]
  },
  {
   "cell_type": "code",
   "execution_count": null,
   "metadata": {},
   "outputs": [],
   "source": []
  },
  {
   "cell_type": "code",
   "execution_count": 5,
   "metadata": {},
   "outputs": [],
   "source": [
    "svd_embedding_size = 20"
   ]
  },
  {
   "cell_type": "code",
   "execution_count": 6,
   "metadata": {},
   "outputs": [
    {
     "data": {
      "text/html": [
       "<div>\n",
       "<style scoped>\n",
       "    .dataframe tbody tr th:only-of-type {\n",
       "        vertical-align: middle;\n",
       "    }\n",
       "\n",
       "    .dataframe tbody tr th {\n",
       "        vertical-align: top;\n",
       "    }\n",
       "\n",
       "    .dataframe thead th {\n",
       "        text-align: right;\n",
       "    }\n",
       "</style>\n",
       "<table border=\"1\" class=\"dataframe\">\n",
       "  <thead>\n",
       "    <tr style=\"text-align: right;\">\n",
       "      <th></th>\n",
       "      <th>Unnamed: 0</th>\n",
       "      <th>author</th>\n",
       "      <th>domain</th>\n",
       "      <th>count</th>\n",
       "    </tr>\n",
       "  </thead>\n",
       "  <tbody>\n",
       "    <tr>\n",
       "      <th>0</th>\n",
       "      <td>0</td>\n",
       "      <td>NaN</td>\n",
       "      <td>1.si</td>\n",
       "      <td>1</td>\n",
       "    </tr>\n",
       "    <tr>\n",
       "      <th>1</th>\n",
       "      <td>1</td>\n",
       "      <td>NaN</td>\n",
       "      <td>1950.today</td>\n",
       "      <td>1</td>\n",
       "    </tr>\n",
       "    <tr>\n",
       "      <th>2</th>\n",
       "      <td>2</td>\n",
       "      <td>NaN</td>\n",
       "      <td>4lakhdenahoga.com</td>\n",
       "      <td>2</td>\n",
       "    </tr>\n",
       "    <tr>\n",
       "      <th>3</th>\n",
       "      <td>3</td>\n",
       "      <td>NaN</td>\n",
       "      <td>54.xn--h2brj9c</td>\n",
       "      <td>1</td>\n",
       "    </tr>\n",
       "    <tr>\n",
       "      <th>4</th>\n",
       "      <td>4</td>\n",
       "      <td>NaN</td>\n",
       "      <td>5dariyanews.com</td>\n",
       "      <td>1</td>\n",
       "    </tr>\n",
       "  </tbody>\n",
       "</table>\n",
       "</div>"
      ],
      "text/plain": [
       "   Unnamed: 0 author             domain  count\n",
       "0           0    NaN               1.si      1\n",
       "1           1    NaN         1950.today      1\n",
       "2           2    NaN  4lakhdenahoga.com      2\n",
       "3           3    NaN     54.xn--h2brj9c      1\n",
       "4           4    NaN    5dariyanews.com      1"
      ]
     },
     "execution_count": 6,
     "metadata": {},
     "output_type": "execute_result"
    }
   ],
   "source": [
    "data = pd.read_csv(\"../lite_data/jan15_extracted_domains.csv\", header=0)\n",
    "data.head()"
   ]
  },
  {
   "cell_type": "code",
   "execution_count": null,
   "metadata": {},
   "outputs": [],
   "source": [
    "data1 = pd.read_csv(\"../lite_data/jan21_extracted_domains.csv\", header=0)\n",
    "data1.head()"
   ]
  },
  {
   "cell_type": "code",
   "execution_count": null,
   "metadata": {},
   "outputs": [],
   "source": [
    "data = pd.concat([data, data1])\n",
    "data = data.dropna(subset=['author'])"
   ]
  },
  {
   "cell_type": "code",
   "execution_count": null,
   "metadata": {},
   "outputs": [],
   "source": [
    "news_domains = pd.read_csv(\"../lite_data/domaintitles_annotated_no_international.csv\", header=0)\n",
    "news_domains.head()"
   ]
  },
  {
   "cell_type": "code",
   "execution_count": null,
   "metadata": {},
   "outputs": [],
   "source": [
    "newslist = news_domains.loc[news_domains['international']=='domestic']['domain'].tolist()"
   ]
  },
  {
   "cell_type": "code",
   "execution_count": null,
   "metadata": {},
   "outputs": [],
   "source": [
    "print(newslist)"
   ]
  },
  {
   "cell_type": "code",
   "execution_count": null,
   "metadata": {},
   "outputs": [],
   "source": [
    "data = data.dropna(subset=['author'])\n",
    "data = data.loc[data['domain'].isin(newslist)]"
   ]
  },
  {
   "cell_type": "code",
   "execution_count": null,
   "metadata": {},
   "outputs": [],
   "source": [
    "len(data)"
   ]
  },
  {
   "cell_type": "code",
   "execution_count": null,
   "metadata": {},
   "outputs": [],
   "source": [
    "data.head()"
   ]
  },
  {
   "cell_type": "code",
   "execution_count": null,
   "metadata": {},
   "outputs": [],
   "source": [
    "authornames = list(set(data['author'].tolist()))\n",
    "authornames = sorted(authornames)\n",
    "print(authornames[:20])"
   ]
  },
  {
   "cell_type": "code",
   "execution_count": null,
   "metadata": {},
   "outputs": [],
   "source": [
    "decimal_authors = []\n",
    "for a in authornames:\n",
    "    if a.isdecimal():\n",
    "        decimal_authors.append(a)\n",
    "        \n",
    "print(decimal_authors)"
   ]
  },
  {
   "cell_type": "code",
   "execution_count": null,
   "metadata": {},
   "outputs": [],
   "source": [
    "data = data.loc[~data['author'].isin(decimal_authors)]"
   ]
  },
  {
   "cell_type": "code",
   "execution_count": null,
   "metadata": {},
   "outputs": [],
   "source": [
    "author_totals = data.groupby('author').size().reset_index().rename(columns={0:'authorcontrib'})"
   ]
  },
  {
   "cell_type": "code",
   "execution_count": null,
   "metadata": {},
   "outputs": [],
   "source": [
    "author2contrib = author_totals.set_index('author').to_dict()['authorcontrib']"
   ]
  },
  {
   "cell_type": "code",
   "execution_count": null,
   "metadata": {},
   "outputs": [],
   "source": [
    "data = data.groupby(['author','domain']).size().reset_index().rename(columns={0:'domaincontrib'})"
   ]
  },
  {
   "cell_type": "code",
   "execution_count": null,
   "metadata": {},
   "outputs": [],
   "source": [
    "data.head()"
   ]
  },
  {
   "cell_type": "code",
   "execution_count": null,
   "metadata": {},
   "outputs": [],
   "source": [
    "data['domain_prop'] = data.apply(lambda row: float(row['domaincontrib'])/float(author2contrib[row['author']]), axis=1)"
   ]
  },
  {
   "cell_type": "code",
   "execution_count": null,
   "metadata": {},
   "outputs": [],
   "source": [
    "data.head()"
   ]
  },
  {
   "cell_type": "code",
   "execution_count": null,
   "metadata": {},
   "outputs": [],
   "source": [
    "formatted_data = pd.pivot_table(data, values='domaincontrib', index='domain', columns='author').reset_index()\n",
    "formatted_data.head()"
   ]
  },
  {
   "cell_type": "code",
   "execution_count": null,
   "metadata": {},
   "outputs": [],
   "source": [
    "formatted_data = formatted_data.fillna(0.0)"
   ]
  },
  {
   "cell_type": "code",
   "execution_count": null,
   "metadata": {},
   "outputs": [],
   "source": [
    "formatted_data.head()"
   ]
  },
  {
   "cell_type": "code",
   "execution_count": null,
   "metadata": {},
   "outputs": [],
   "source": [
    "authorlist = list(formatted_data)[1:]"
   ]
  },
  {
   "cell_type": "code",
   "execution_count": null,
   "metadata": {},
   "outputs": [],
   "source": [
    "countMat = formatted_data[authorlist].values\n",
    "countMat.shape"
   ]
  },
  {
   "cell_type": "code",
   "execution_count": null,
   "metadata": {},
   "outputs": [],
   "source": [
    "perauthor = data.groupby('author')['domain'].apply(list).reset_index()\n",
    "perauthor.head()"
   ]
  },
  {
   "cell_type": "code",
   "execution_count": null,
   "metadata": {},
   "outputs": [],
   "source": [
    "perauthor['domain'] = perauthor['domain'].apply(lambda x: list(set(x)))\n",
    "perauthor.head()"
   ]
  },
  {
   "cell_type": "code",
   "execution_count": null,
   "metadata": {},
   "outputs": [],
   "source": [
    "domainIndex = formatted_data['domain'].tolist()"
   ]
  },
  {
   "cell_type": "code",
   "execution_count": null,
   "metadata": {},
   "outputs": [],
   "source": [
    "countMat = np.zeros((len(domainIndex), len(domainIndex)), dtype=np.float)"
   ]
  },
  {
   "cell_type": "code",
   "execution_count": null,
   "metadata": {},
   "outputs": [],
   "source": [
    "countMat.shape"
   ]
  },
  {
   "cell_type": "code",
   "execution_count": null,
   "metadata": {},
   "outputs": [],
   "source": [
    "for idx, row in perauthor.iterrows():\n",
    "    domainlist = row['domain']\n",
    "    if len(domainlist)>1:\n",
    "        for i in range(len(domainlist)-1):\n",
    "            i_index = domainIndex.index(domainlist[i])\n",
    "            countMat[i_index, i_index]+=1\n",
    "            for j in range(i+1, len(domainlist)):\n",
    "                i_index = domainIndex.index(domainlist[i])\n",
    "                j_index = domainIndex.index(domainlist[j])\n",
    "                countMat[i_index, j_index]+=1\n",
    "                countMat[j_index, i_index]+=1\n",
    "        countMat[j_index, j_index]+=1\n",
    "                "
   ]
  },
  {
   "cell_type": "code",
   "execution_count": null,
   "metadata": {},
   "outputs": [],
   "source": [
    "countMat"
   ]
  },
  {
   "cell_type": "code",
   "execution_count": null,
   "metadata": {},
   "outputs": [],
   "source": [
    "def get_pmi_matrix(count_matrix, alpha=0.50, positive_only=False):\n",
    "    # for standard PPMI\n",
    "    DD = count_matrix.sum()\n",
    "    sum_over_contexts = np.array(count_matrix.sum(axis=1)).flatten()\n",
    "    sum_over_words = np.array(count_matrix.sum(axis=0)).flatten()\n",
    "\n",
    "    # for context distribution smoothing (cds)\n",
    "    sum_over_words_alpha = sum_over_words ** alpha\n",
    "    Pc_alpha_denom = np.sum(sum_over_words_alpha)\n",
    "\n",
    "    row_indxs = []\n",
    "    col_indxs = []\n",
    "    pmi_dat_values = []  # pointwise mutual information\n",
    "\n",
    "    for idxs in tqdm(\n",
    "            zip(*count_matrix.nonzero()),\n",
    "            total=count_matrix.nnz,\n",
    "            desc='building ppmi matrix row,col,dat'\n",
    "    ):\n",
    "        (tok_word_indx, tok_context_indx) = idxs\n",
    "        pound_wc = count_matrix[tok_word_indx, tok_context_indx]\n",
    "        pound_w = sum_over_contexts[tok_word_indx]\n",
    "        pound_c_alpha = sum_over_words_alpha[tok_context_indx]\n",
    "\n",
    "        Pwc = pound_wc / DD\n",
    "        Pw = pound_w / DD\n",
    "        Pc_alpha = pound_c_alpha / Pc_alpha_denom\n",
    "\n",
    "        pmi = np.log2(Pwc / (Pw * Pc_alpha))\n",
    "        if positive_only:\n",
    "            pmi = max(pmi, 0)\n",
    "        # if not np.isfinite(pmi):\n",
    "        #     pmi = 0\n",
    "\n",
    "        row_indxs.append(tok_word_indx)\n",
    "        col_indxs.append(tok_context_indx)\n",
    "        pmi_dat_values.append(pmi)\n",
    "\n",
    "    print('building ppmi matrix')\n",
    "    return sparse.csr_matrix((pmi_dat_values, (row_indxs, col_indxs)))"
   ]
  },
  {
   "cell_type": "code",
   "execution_count": null,
   "metadata": {},
   "outputs": [],
   "source": [
    "PMImat = get_pmi_matrix(sparse.csr_matrix(countMat))"
   ]
  },
  {
   "cell_type": "code",
   "execution_count": null,
   "metadata": {},
   "outputs": [],
   "source": [
    "def get_svd_matrix(pmi_matrix, embedding_size=200,\n",
    "                   svd_diag_exponent=0.5):\n",
    "    uu, ss, vv = linalg.svds(pmi_matrix, embedding_size)\n",
    "\n",
    "    print('ppmi size: {}'.format(pmi_matrix.shape))\n",
    "    print('embedding size: {}'.format(embedding_size))\n",
    "    print('uu.shape: {}'.format(uu.shape))\n",
    "    print('ss.shape: {}'.format(ss.shape))\n",
    "    print('vv.shape: {}'.format(vv.shape))\n",
    "\n",
    "    svd_word_vecs = uu.dot(np.diag(ss ** svd_diag_exponent))\n",
    "    print(svd_word_vecs.shape)\n",
    "    return svd_word_vecs"
   ]
  },
  {
   "cell_type": "code",
   "execution_count": null,
   "metadata": {},
   "outputs": [],
   "source": [
    "svdMat = get_svd_matrix(PMImat, embedding_size=svd_embedding_size)"
   ]
  },
  {
   "cell_type": "code",
   "execution_count": null,
   "metadata": {},
   "outputs": [],
   "source": [
    "svdMat.shape"
   ]
  },
  {
   "cell_type": "code",
   "execution_count": null,
   "metadata": {},
   "outputs": [],
   "source": [
    "domain_embeddings = pd.DataFrame()\n",
    "domain_embeddings['domain'] = domainIndex\n",
    "for i in range(svd_embedding_size):\n",
    "    domain_embeddings[i] = svdMat[:,i]"
   ]
  },
  {
   "cell_type": "code",
   "execution_count": null,
   "metadata": {},
   "outputs": [],
   "source": [
    "domain_embeddings.head()"
   ]
  },
  {
   "cell_type": "code",
   "execution_count": null,
   "metadata": {},
   "outputs": [],
   "source": [
    "#domain_embeddings.to_csv(\"../big_data/domain_pmi_svd.csv\")"
   ]
  },
  {
   "cell_type": "markdown",
   "metadata": {},
   "source": [
    "## do Kmeans"
   ]
  },
  {
   "cell_type": "code",
   "execution_count": null,
   "metadata": {},
   "outputs": [],
   "source": [
    "from sklearn.cluster import KMeans\n",
    "from sklearn.metrics import silhouette_samples, silhouette_score\n",
    "\n",
    "import matplotlib.pyplot as plt\n",
    "import matplotlib.cm as cm\n",
    "import numpy as np"
   ]
  },
  {
   "cell_type": "code",
   "execution_count": null,
   "metadata": {},
   "outputs": [],
   "source": [
    "X = svdMat\n",
    "N_OPTIONS = [2,3,4,5,6,7,8,9,10, 11, 12, 13, 14, 15, 16, 17, 18, 19, 20]"
   ]
  },
  {
   "cell_type": "code",
   "execution_count": null,
   "metadata": {},
   "outputs": [],
   "source": [
    "sils = []\n",
    "for n_clusters in N_OPTIONS:\n",
    "    clusterer = KMeans(n_clusters=n_clusters, random_state=10)\n",
    "    cluster_labels = clusterer.fit_predict(X)\n",
    "    silhouette_avg = silhouette_score(X, cluster_labels)\n",
    "    print(\"For n_clusters =\",n_clusters,\"The average silhouette_score is :\",silhouette_avg,)\n",
    "    sils.append(silhouette_avg)\n"
   ]
  },
  {
   "cell_type": "code",
   "execution_count": null,
   "metadata": {},
   "outputs": [],
   "source": [
    "plt.plot(range(2, 21), sils)"
   ]
  },
  {
   "cell_type": "code",
   "execution_count": null,
   "metadata": {},
   "outputs": [],
   "source": [
    "clusterer = KMeans(n_clusters=10, random_state=15)\n",
    "y_hat = clusterer.fit_predict(X)\n",
    "domain_embeddings['labels'] = y_hat"
   ]
  },
  {
   "cell_type": "code",
   "execution_count": null,
   "metadata": {},
   "outputs": [],
   "source": [
    "domain_embeddings.head()"
   ]
  },
  {
   "cell_type": "markdown",
   "metadata": {},
   "source": [
    "## TSN-E viz"
   ]
  },
  {
   "cell_type": "code",
   "execution_count": null,
   "metadata": {},
   "outputs": [],
   "source": [
    "import numpy as np\n",
    "from sklearn.manifold import TSNE\n",
    "\n",
    "X_embedded = TSNE(n_components=2, learning_rate='auto',\n",
    "                  init='random').fit_transform(X)\n",
    "X_embedded.shape\n"
   ]
  },
  {
   "cell_type": "code",
   "execution_count": null,
   "metadata": {},
   "outputs": [],
   "source": [
    "domain_embeddings['x'] = X_embedded[:,0]\n",
    "domain_embeddings['y'] = X_embedded[:,1]"
   ]
  },
  {
   "cell_type": "code",
   "execution_count": null,
   "metadata": {},
   "outputs": [],
   "source": [
    "domain_embeddings.head()"
   ]
  },
  {
   "cell_type": "code",
   "execution_count": null,
   "metadata": {},
   "outputs": [],
   "source": [
    "import seaborn as sns"
   ]
  },
  {
   "cell_type": "code",
   "execution_count": null,
   "metadata": {},
   "outputs": [],
   "source": [
    "plt.figure(figsize=(7,5))\n",
    "sns.scatterplot(x='x', y='y', hue='labels', data=domain_embeddings)"
   ]
  },
  {
   "cell_type": "code",
   "execution_count": null,
   "metadata": {},
   "outputs": [],
   "source": [
    "from bokeh.models import HoverTool, LabelSet\n",
    "from bokeh.plotting import figure, show, ColumnDataSource, output_file\n",
    "from bokeh.models import Legend\n",
    "from bokeh.models import CategoricalColorMapper\n",
    "#CategoricalColorMapper(palette=[\"red\", \"blue\"], factors=[\"foo\", \"bar\"])\n",
    "from bokeh.transform import factor_cmap\n",
    "\n",
    "\n",
    "domain_embeddings['str_label'] = domain_embeddings['labels'].apply(lambda x: str(x))\n",
    "\n",
    "# from bokeh.models import ColumnDataSource, Range1d, LabelSet, Label\n",
    "# color_map = CategoricalColorMapper(palette=[0,1,2,3], factors=['#FF0000','#FF8000','#00FF00','#0080FF'])\n",
    "#color_map = {0:'#FF0000', 1:'#FF8000', 2:'#00FF00', 3:'#0080FF'}\n",
    "x = X_embedded[:,0]\n",
    "y = X_embedded[:,1]\n",
    "author_names = domainIndex\n",
    "\n",
    "# # Radius of each point corresponds to the number of documents attributed to that author.\n",
    "# scale = 0.1\n",
    "# author_sizes = cooccurrences.sum(axis=1).getA1()\n",
    "# radii = [np.log(size) * scale for size in author_sizes]\n",
    "\n",
    "source = ColumnDataSource(\n",
    "        data=dict(\n",
    "            x=x,\n",
    "            y=y,\n",
    "            author_names=author_names,\n",
    "#             author_sizes=author_sizes,\n",
    "            author_types=domain_embeddings['str_label'].tolist(),\n",
    "#             radii=radii,\n",
    "        )\n",
    "    )\n",
    "\n",
    "# Add author names and sizes to mouse-over info.\n",
    "hover = HoverTool(\n",
    "        tooltips=[\n",
    "        (\"author\", \"@author_names\"),\n",
    "        #(\"size\", \"@author_sizes\"),\n",
    "        (\"type\", \"@author_types\"),\n",
    "        ]\n",
    "    )\n",
    "\n",
    "index_cmap = factor_cmap(field_name='author_types',palette=['#FF0000','#FF8000','#00FF00','#0080FF'], \n",
    "                         factors=['0','1','2','3'])\n",
    "\n",
    "\n",
    "p = figure(tools=[hover, 'crosshair,pan,wheel_zoom,box_zoom,reset,save,lasso_select'], plot_width=500, plot_height=500)\n",
    "p.scatter('x', 'y', source=source,\n",
    "          #fill_color=index_cmap,size=10,\n",
    "          color=index_cmap, size=10,\n",
    "          fill_alpha=0.8, line_color=None)\n",
    "\n",
    "output_file(\"foo.html\")\n",
    "show(p)"
   ]
  },
  {
   "cell_type": "code",
   "execution_count": null,
   "metadata": {},
   "outputs": [],
   "source": [
    "domain_embeddings.loc[domain_embeddings['labels']==1].head(50)"
   ]
  },
  {
   "cell_type": "code",
   "execution_count": null,
   "metadata": {},
   "outputs": [],
   "source": []
  }
 ],
 "metadata": {
  "kernelspec": {
   "display_name": "Python 3",
   "language": "python",
   "name": "python3"
  },
  "language_info": {
   "codemirror_mode": {
    "name": "ipython",
    "version": 3
   },
   "file_extension": ".py",
   "mimetype": "text/x-python",
   "name": "python",
   "nbconvert_exporter": "python",
   "pygments_lexer": "ipython3",
   "version": "3.8.10"
  }
 },
 "nbformat": 4,
 "nbformat_minor": 4
}
