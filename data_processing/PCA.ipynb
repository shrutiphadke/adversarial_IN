{
 "cells": [
  {
   "cell_type": "code",
   "execution_count": 1,
   "metadata": {},
   "outputs": [],
   "source": [
    "import pandas as pd\n",
    "import numpy as np\n",
    "import networkx as nx\n",
    "import matplotlib.pyplot as plt"
   ]
  },
  {
   "cell_type": "code",
   "execution_count": 2,
   "metadata": {},
   "outputs": [
    {
     "data": {
      "text/html": [
       "<div>\n",
       "<style scoped>\n",
       "    .dataframe tbody tr th:only-of-type {\n",
       "        vertical-align: middle;\n",
       "    }\n",
       "\n",
       "    .dataframe tbody tr th {\n",
       "        vertical-align: top;\n",
       "    }\n",
       "\n",
       "    .dataframe thead th {\n",
       "        text-align: right;\n",
       "    }\n",
       "</style>\n",
       "<table border=\"1\" class=\"dataframe\">\n",
       "  <thead>\n",
       "    <tr style=\"text-align: right;\">\n",
       "      <th></th>\n",
       "      <th>Unnamed: 0</th>\n",
       "      <th>author</th>\n",
       "      <th>domain</th>\n",
       "      <th>count</th>\n",
       "    </tr>\n",
       "  </thead>\n",
       "  <tbody>\n",
       "    <tr>\n",
       "      <th>0</th>\n",
       "      <td>0</td>\n",
       "      <td>NaN</td>\n",
       "      <td>1950.today</td>\n",
       "      <td>1</td>\n",
       "    </tr>\n",
       "    <tr>\n",
       "      <th>1</th>\n",
       "      <td>1</td>\n",
       "      <td>NaN</td>\n",
       "      <td>4lakhdenahoga.com</td>\n",
       "      <td>2</td>\n",
       "    </tr>\n",
       "    <tr>\n",
       "      <th>2</th>\n",
       "      <td>2</td>\n",
       "      <td>NaN</td>\n",
       "      <td>aajtak.in</td>\n",
       "      <td>32</td>\n",
       "    </tr>\n",
       "    <tr>\n",
       "      <th>3</th>\n",
       "      <td>3</td>\n",
       "      <td>NaN</td>\n",
       "      <td>abc.net.au</td>\n",
       "      <td>1</td>\n",
       "    </tr>\n",
       "    <tr>\n",
       "      <th>4</th>\n",
       "      <td>4</td>\n",
       "      <td>NaN</td>\n",
       "      <td>abplive.com</td>\n",
       "      <td>20</td>\n",
       "    </tr>\n",
       "  </tbody>\n",
       "</table>\n",
       "</div>"
      ],
      "text/plain": [
       "   Unnamed: 0 author             domain  count\n",
       "0           0    NaN         1950.today      1\n",
       "1           1    NaN  4lakhdenahoga.com      2\n",
       "2           2    NaN          aajtak.in     32\n",
       "3           3    NaN         abc.net.au      1\n",
       "4           4    NaN        abplive.com     20"
      ]
     },
     "execution_count": 2,
     "metadata": {},
     "output_type": "execute_result"
    }
   ],
   "source": [
    "data = pd.read_csv(\"../lite_data/dec15_extracted_domains.csv\", header=0)\n",
    "data.head()"
   ]
  },
  {
   "cell_type": "code",
   "execution_count": 3,
   "metadata": {},
   "outputs": [
    {
     "data": {
      "text/html": [
       "<div>\n",
       "<style scoped>\n",
       "    .dataframe tbody tr th:only-of-type {\n",
       "        vertical-align: middle;\n",
       "    }\n",
       "\n",
       "    .dataframe tbody tr th {\n",
       "        vertical-align: top;\n",
       "    }\n",
       "\n",
       "    .dataframe thead th {\n",
       "        text-align: right;\n",
       "    }\n",
       "</style>\n",
       "<table border=\"1\" class=\"dataframe\">\n",
       "  <thead>\n",
       "    <tr style=\"text-align: right;\">\n",
       "      <th></th>\n",
       "      <th>Unnamed: 0</th>\n",
       "      <th>author</th>\n",
       "      <th>domain</th>\n",
       "      <th>count</th>\n",
       "    </tr>\n",
       "  </thead>\n",
       "  <tbody>\n",
       "    <tr>\n",
       "      <th>0</th>\n",
       "      <td>0</td>\n",
       "      <td>NaN</td>\n",
       "      <td>1.si</td>\n",
       "      <td>1</td>\n",
       "    </tr>\n",
       "    <tr>\n",
       "      <th>1</th>\n",
       "      <td>1</td>\n",
       "      <td>NaN</td>\n",
       "      <td>54.xn--h2brj9c</td>\n",
       "      <td>1</td>\n",
       "    </tr>\n",
       "    <tr>\n",
       "      <th>2</th>\n",
       "      <td>2</td>\n",
       "      <td>NaN</td>\n",
       "      <td>5dariyanews.com</td>\n",
       "      <td>1</td>\n",
       "    </tr>\n",
       "    <tr>\n",
       "      <th>3</th>\n",
       "      <td>3</td>\n",
       "      <td>NaN</td>\n",
       "      <td>aajtak.in</td>\n",
       "      <td>8</td>\n",
       "    </tr>\n",
       "    <tr>\n",
       "      <th>4</th>\n",
       "      <td>4</td>\n",
       "      <td>NaN</td>\n",
       "      <td>aamaadmiparty.org</td>\n",
       "      <td>1</td>\n",
       "    </tr>\n",
       "  </tbody>\n",
       "</table>\n",
       "</div>"
      ],
      "text/plain": [
       "   Unnamed: 0 author             domain  count\n",
       "0           0    NaN               1.si      1\n",
       "1           1    NaN     54.xn--h2brj9c      1\n",
       "2           2    NaN    5dariyanews.com      1\n",
       "3           3    NaN          aajtak.in      8\n",
       "4           4    NaN  aamaadmiparty.org      1"
      ]
     },
     "execution_count": 3,
     "metadata": {},
     "output_type": "execute_result"
    }
   ],
   "source": [
    "data2 = pd.read_csv(\"../lite_data/aap_dec15_extracted_domains.csv\", header=0)\n",
    "data2.head()"
   ]
  },
  {
   "cell_type": "code",
   "execution_count": 4,
   "metadata": {},
   "outputs": [],
   "source": [
    "data = pd.concat([data, data2])"
   ]
  },
  {
   "cell_type": "code",
   "execution_count": 5,
   "metadata": {},
   "outputs": [],
   "source": [
    "data = data.dropna(subset=['author'])"
   ]
  },
  {
   "cell_type": "markdown",
   "metadata": {},
   "source": [
    "## keep news only"
   ]
  },
  {
   "cell_type": "code",
   "execution_count": 6,
   "metadata": {},
   "outputs": [],
   "source": [
    "news_domains = pd.read_csv(\"../lite_data/domaintitles_annotated.csv\", header=0)\n",
    "news_domains.head()\n",
    "newslist = news_domains.loc[news_domains['is_news']==1]['domain'].tolist()"
   ]
  },
  {
   "cell_type": "code",
   "execution_count": 7,
   "metadata": {},
   "outputs": [],
   "source": [
    "data = data.loc[data['domain'].isin(newslist)]"
   ]
  },
  {
   "cell_type": "code",
   "execution_count": 8,
   "metadata": {},
   "outputs": [],
   "source": [
    "#map author and party handle\n",
    "import glob\n",
    "from collections import Counter, defaultdict\n",
    "\n",
    "datafiles = glob.glob(\"/home/phadke/ONR/ONR/big_data/Twitter/*.csv\")\n",
    "author2party = defaultdict()\n",
    "\n",
    "for d in datafiles:\n",
    "    splitfilename = d.replace(\".csv\", \"\").split(\"_\")\n",
    "    party = splitfilename[len(splitfilename)-1]\n",
    "    author = splitfilename[len(splitfilename)-2]\n",
    "    author2party[author] = party\n"
   ]
  },
  {
   "cell_type": "code",
   "execution_count": 9,
   "metadata": {},
   "outputs": [],
   "source": [
    "data['party'] = data['author'].apply(lambda x: author2party[x])"
   ]
  },
  {
   "cell_type": "code",
   "execution_count": 10,
   "metadata": {},
   "outputs": [
    {
     "name": "stdout",
     "output_type": "stream",
     "text": [
      "Counter({'BJP': 1964, 'INC': 1933, 'AAP': 315, 'DMK': 1})\n"
     ]
    }
   ],
   "source": [
    "print(Counter(data[['author','party']].drop_duplicates()['party'].tolist()))"
   ]
  },
  {
   "cell_type": "markdown",
   "metadata": {},
   "source": [
    "## domain labels"
   ]
  },
  {
   "cell_type": "code",
   "execution_count": 11,
   "metadata": {},
   "outputs": [
    {
     "data": {
      "text/html": [
       "<div>\n",
       "<style scoped>\n",
       "    .dataframe tbody tr th:only-of-type {\n",
       "        vertical-align: middle;\n",
       "    }\n",
       "\n",
       "    .dataframe tbody tr th {\n",
       "        vertical-align: top;\n",
       "    }\n",
       "\n",
       "    .dataframe thead th {\n",
       "        text-align: right;\n",
       "    }\n",
       "</style>\n",
       "<table border=\"1\" class=\"dataframe\">\n",
       "  <thead>\n",
       "    <tr style=\"text-align: right;\">\n",
       "      <th></th>\n",
       "      <th>UniqueID</th>\n",
       "      <th>Website_Name</th>\n",
       "      <th>Political_Leaning</th>\n",
       "      <th>Website_URL</th>\n",
       "      <th>Language</th>\n",
       "      <th>MobileSite</th>\n",
       "      <th>PrintMedia</th>\n",
       "      <th>TVMedia</th>\n",
       "      <th>OnlineMedia</th>\n",
       "      <th>FacebookReach</th>\n",
       "      <th>TwitterReach</th>\n",
       "      <th>InstagramReach</th>\n",
       "      <th>AlexaGlobalRank</th>\n",
       "      <th>AlexaIndiaRank</th>\n",
       "      <th>Parent_Company</th>\n",
       "      <th>Website_Registrar</th>\n",
       "      <th>Registered_On</th>\n",
       "      <th>Expires_On</th>\n",
       "      <th>TrafficContributingSubDomains</th>\n",
       "    </tr>\n",
       "  </thead>\n",
       "  <tbody>\n",
       "    <tr>\n",
       "      <th>0</th>\n",
       "      <td>1.0</td>\n",
       "      <td>Aaj Tak</td>\n",
       "      <td>RIGHT_TO_RIGHTCENTRE</td>\n",
       "      <td>aajtak.intoday.in</td>\n",
       "      <td>Hindi</td>\n",
       "      <td>m.aajtak.in</td>\n",
       "      <td>N</td>\n",
       "      <td>Y</td>\n",
       "      <td>Y</td>\n",
       "      <td>26.2M</td>\n",
       "      <td>9.8M</td>\n",
       "      <td>3.7M</td>\n",
       "      <td>607.7K</td>\n",
       "      <td>98.2K</td>\n",
       "      <td>Living Media Group (TV Today Network Limited)</td>\n",
       "      <td>MPS Infotecnics Limited</td>\n",
       "      <td>16/02/2005</td>\n",
       "      <td>16/02/2029</td>\n",
       "      <td>{'m.aajtak.in': '93.83%', 'OTHER': '6.17%'}</td>\n",
       "    </tr>\n",
       "    <tr>\n",
       "      <th>1</th>\n",
       "      <td>2.0</td>\n",
       "      <td>Dainik Jagran</td>\n",
       "      <td>RIGHT_TO_RIGHTCENTRE</td>\n",
       "      <td>jagran.com</td>\n",
       "      <td>Hindi</td>\n",
       "      <td>m.jagran.com</td>\n",
       "      <td>Y</td>\n",
       "      <td>N</td>\n",
       "      <td>Y</td>\n",
       "      <td>14.8M</td>\n",
       "      <td>1.1M</td>\n",
       "      <td>58.5K</td>\n",
       "      <td>1.7K</td>\n",
       "      <td>132</td>\n",
       "      <td>Jagran Prakashan Limited</td>\n",
       "      <td>Network Solutions, LLC</td>\n",
       "      <td>17/01/1997</td>\n",
       "      <td>18/01/2030</td>\n",
       "      <td>{'jagran.com': '70.51%', 'epaper.jagran.com': ...</td>\n",
       "    </tr>\n",
       "    <tr>\n",
       "      <th>2</th>\n",
       "      <td>3.0</td>\n",
       "      <td>RVCJ News</td>\n",
       "      <td>NaN</td>\n",
       "      <td>rvcj.com</td>\n",
       "      <td>English</td>\n",
       "      <td>N</td>\n",
       "      <td>N</td>\n",
       "      <td>N</td>\n",
       "      <td>Y</td>\n",
       "      <td>14.5M</td>\n",
       "      <td>193.0K</td>\n",
       "      <td>2.5M</td>\n",
       "      <td>26.9K</td>\n",
       "      <td>3.8K</td>\n",
       "      <td>RVCJ Digital Media Private Limited</td>\n",
       "      <td>NameCheap, Inc.</td>\n",
       "      <td>20/04/2007</td>\n",
       "      <td>20/04/2022</td>\n",
       "      <td>{'rvcj.com': '99.04%', 'OTHER': '0.97%'}</td>\n",
       "    </tr>\n",
       "    <tr>\n",
       "      <th>3</th>\n",
       "      <td>4.0</td>\n",
       "      <td>Dainik Bhaskar</td>\n",
       "      <td>RIGHT_TO_RIGHTCENTRE</td>\n",
       "      <td>bhaskar.com</td>\n",
       "      <td>Hindi</td>\n",
       "      <td>N</td>\n",
       "      <td>Y</td>\n",
       "      <td>N</td>\n",
       "      <td>Y</td>\n",
       "      <td>14.3M</td>\n",
       "      <td>1.0M</td>\n",
       "      <td>988.2K</td>\n",
       "      <td>1.3K</td>\n",
       "      <td>107</td>\n",
       "      <td>D B Corp Limited</td>\n",
       "      <td>PDR Ltd. d/b/a PublicDomainRegistry.com</td>\n",
       "      <td>17/04/1998</td>\n",
       "      <td>16/04/2029</td>\n",
       "      <td>{'bhaskar.com': '72.22%', 'epaper.bhaskar.com'...</td>\n",
       "    </tr>\n",
       "    <tr>\n",
       "      <th>4</th>\n",
       "      <td>5.0</td>\n",
       "      <td>Zee News</td>\n",
       "      <td>RIGHT_TO_RIGHTCENTRE</td>\n",
       "      <td>zeenews.india.com</td>\n",
       "      <td>English</td>\n",
       "      <td>N</td>\n",
       "      <td>N</td>\n",
       "      <td>Y</td>\n",
       "      <td>Y</td>\n",
       "      <td>11.4M</td>\n",
       "      <td>3.2M</td>\n",
       "      <td>1.8M</td>\n",
       "      <td>74.9K</td>\n",
       "      <td>7.6K</td>\n",
       "      <td>Essel Group</td>\n",
       "      <td>GoDaddy.com, LLC</td>\n",
       "      <td>13/08/1997</td>\n",
       "      <td>30/05/2027</td>\n",
       "      <td>{'cdn.zeenews.com': '53.01%', 'my.zeenews.com'...</td>\n",
       "    </tr>\n",
       "  </tbody>\n",
       "</table>\n",
       "</div>"
      ],
      "text/plain": [
       "   UniqueID    Website_Name     Political_Leaning        Website_URL Language  \\\n",
       "0       1.0         Aaj Tak  RIGHT_TO_RIGHTCENTRE  aajtak.intoday.in    Hindi   \n",
       "1       2.0   Dainik Jagran  RIGHT_TO_RIGHTCENTRE         jagran.com    Hindi   \n",
       "2       3.0       RVCJ News                   NaN           rvcj.com  English   \n",
       "3       4.0  Dainik Bhaskar  RIGHT_TO_RIGHTCENTRE        bhaskar.com    Hindi   \n",
       "4       5.0        Zee News  RIGHT_TO_RIGHTCENTRE  zeenews.india.com  English   \n",
       "\n",
       "     MobileSite PrintMedia TVMedia OnlineMedia FacebookReach TwitterReach  \\\n",
       "0   m.aajtak.in          N       Y           Y         26.2M         9.8M   \n",
       "1  m.jagran.com          Y       N           Y         14.8M         1.1M   \n",
       "2             N          N       N           Y         14.5M       193.0K   \n",
       "3             N          Y       N           Y         14.3M         1.0M   \n",
       "4             N          N       Y           Y         11.4M         3.2M   \n",
       "\n",
       "  InstagramReach AlexaGlobalRank AlexaIndiaRank  \\\n",
       "0           3.7M          607.7K          98.2K   \n",
       "1          58.5K            1.7K            132   \n",
       "2           2.5M           26.9K           3.8K   \n",
       "3         988.2K            1.3K            107   \n",
       "4           1.8M           74.9K           7.6K   \n",
       "\n",
       "                                  Parent_Company  \\\n",
       "0  Living Media Group (TV Today Network Limited)   \n",
       "1                       Jagran Prakashan Limited   \n",
       "2             RVCJ Digital Media Private Limited   \n",
       "3                               D B Corp Limited   \n",
       "4                                    Essel Group   \n",
       "\n",
       "                         Website_Registrar Registered_On  Expires_On  \\\n",
       "0                  MPS Infotecnics Limited    16/02/2005  16/02/2029   \n",
       "1                   Network Solutions, LLC    17/01/1997  18/01/2030   \n",
       "2                          NameCheap, Inc.    20/04/2007  20/04/2022   \n",
       "3  PDR Ltd. d/b/a PublicDomainRegistry.com    17/04/1998  16/04/2029   \n",
       "4                         GoDaddy.com, LLC    13/08/1997  30/05/2027   \n",
       "\n",
       "                       TrafficContributingSubDomains  \n",
       "0        {'m.aajtak.in': '93.83%', 'OTHER': '6.17%'}  \n",
       "1  {'jagran.com': '70.51%', 'epaper.jagran.com': ...  \n",
       "2           {'rvcj.com': '99.04%', 'OTHER': '0.97%'}  \n",
       "3  {'bhaskar.com': '72.22%', 'epaper.bhaskar.com'...  \n",
       "4  {'cdn.zeenews.com': '53.01%', 'my.zeenews.com'...  "
      ]
     },
     "execution_count": 11,
     "metadata": {},
     "output_type": "execute_result"
    }
   ],
   "source": [
    "domlabs = pd.read_csv(\"../lite_data/Website_List.csv\", header=0)\n",
    "domlabs.head()"
   ]
  },
  {
   "cell_type": "code",
   "execution_count": 12,
   "metadata": {},
   "outputs": [
    {
     "name": "stdout",
     "output_type": "stream",
     "text": [
      "Counter({'LEFT_TO_LEFTCENTRE': 39, 'RIGHT_TO_RIGHTCENTRE': 37, 'CENTRIST_AND_LEASTBIASED': 27, nan: 23})\n"
     ]
    }
   ],
   "source": [
    "print(Counter(domlabs['Political_Leaning'].tolist()))"
   ]
  },
  {
   "cell_type": "code",
   "execution_count": 13,
   "metadata": {},
   "outputs": [
    {
     "name": "stdout",
     "output_type": "stream",
     "text": [
      "<class 'dict'>\n"
     ]
    }
   ],
   "source": [
    "import ast\n",
    "for idx, row in domlabs.iterrows():\n",
    "    print(type(ast.literal_eval(row['TrafficContributingSubDomains'])))\n",
    "    break"
   ]
  },
  {
   "cell_type": "code",
   "execution_count": 14,
   "metadata": {},
   "outputs": [],
   "source": [
    "domlabs = domlabs.dropna(subset=['Political_Leaning'])\n",
    "dom2label = defaultdict()\n",
    "\n",
    "for idx, row in domlabs.iterrows():\n",
    "    leaning = row['Political_Leaning']\n",
    "    main_url = row['Website_URL']\n",
    "    dom2label[main_url] = leaning\n",
    "    traffic = ast.literal_eval(row['TrafficContributingSubDomains'])\n",
    "    if traffic:\n",
    "        for k in traffic.keys():\n",
    "            if k!= 'OTHER':\n",
    "                dom2label[k] = leaning"
   ]
  },
  {
   "cell_type": "markdown",
   "metadata": {},
   "source": [
    "## keep news only"
   ]
  },
  {
   "cell_type": "code",
   "execution_count": 15,
   "metadata": {},
   "outputs": [
    {
     "data": {
      "text/html": [
       "<div>\n",
       "<style scoped>\n",
       "    .dataframe tbody tr th:only-of-type {\n",
       "        vertical-align: middle;\n",
       "    }\n",
       "\n",
       "    .dataframe tbody tr th {\n",
       "        vertical-align: top;\n",
       "    }\n",
       "\n",
       "    .dataframe thead th {\n",
       "        text-align: right;\n",
       "    }\n",
       "</style>\n",
       "<table border=\"1\" class=\"dataframe\">\n",
       "  <thead>\n",
       "    <tr style=\"text-align: right;\">\n",
       "      <th></th>\n",
       "      <th>author</th>\n",
       "      <th>domain</th>\n",
       "    </tr>\n",
       "  </thead>\n",
       "  <tbody>\n",
       "    <tr>\n",
       "      <th>0</th>\n",
       "      <td>01Bidar</td>\n",
       "      <td>[indiatoday.in, livehindustan.com, prajavani.n...</td>\n",
       "    </tr>\n",
       "    <tr>\n",
       "      <th>1</th>\n",
       "      <td>02</td>\n",
       "      <td>[abplive.com, indiatoday.in, time8.in]</td>\n",
       "    </tr>\n",
       "    <tr>\n",
       "      <th>2</th>\n",
       "      <td>0403</td>\n",
       "      <td>[abplive.com, amarujala.com, hindustantimes.co...</td>\n",
       "    </tr>\n",
       "    <tr>\n",
       "      <th>3</th>\n",
       "      <td>07Sharma4u</td>\n",
       "      <td>[abplive.com]</td>\n",
       "    </tr>\n",
       "    <tr>\n",
       "      <th>4</th>\n",
       "      <td>0914</td>\n",
       "      <td>[abplive.com, abpnadu.com, business-standard.c...</td>\n",
       "    </tr>\n",
       "  </tbody>\n",
       "</table>\n",
       "</div>"
      ],
      "text/plain": [
       "       author                                             domain\n",
       "0     01Bidar  [indiatoday.in, livehindustan.com, prajavani.n...\n",
       "1          02             [abplive.com, indiatoday.in, time8.in]\n",
       "2        0403  [abplive.com, amarujala.com, hindustantimes.co...\n",
       "3  07Sharma4u                                      [abplive.com]\n",
       "4        0914  [abplive.com, abpnadu.com, business-standard.c..."
      ]
     },
     "execution_count": 15,
     "metadata": {},
     "output_type": "execute_result"
    }
   ],
   "source": [
    "link_list = data.groupby(\"author\")['domain'].apply(list).reset_index()\n",
    "link_list.head()"
   ]
  },
  {
   "cell_type": "code",
   "execution_count": 16,
   "metadata": {},
   "outputs": [
    {
     "name": "stdout",
     "output_type": "stream",
     "text": [
      "4213\n",
      "3465\n"
     ]
    }
   ],
   "source": [
    "link_list['authorsize'] = link_list['domain'].apply(lambda x: len(set(x)))\n",
    "print(len(link_list))\n",
    "print(len(link_list.loc[link_list['authorsize']>1]))"
   ]
  },
  {
   "cell_type": "code",
   "execution_count": 17,
   "metadata": {},
   "outputs": [
    {
     "data": {
      "text/html": [
       "<div>\n",
       "<style scoped>\n",
       "    .dataframe tbody tr th:only-of-type {\n",
       "        vertical-align: middle;\n",
       "    }\n",
       "\n",
       "    .dataframe tbody tr th {\n",
       "        vertical-align: top;\n",
       "    }\n",
       "\n",
       "    .dataframe thead th {\n",
       "        text-align: right;\n",
       "    }\n",
       "</style>\n",
       "<table border=\"1\" class=\"dataframe\">\n",
       "  <thead>\n",
       "    <tr style=\"text-align: right;\">\n",
       "      <th></th>\n",
       "      <th>author</th>\n",
       "      <th>domain</th>\n",
       "      <th>authorsize</th>\n",
       "    </tr>\n",
       "  </thead>\n",
       "  <tbody>\n",
       "    <tr>\n",
       "      <th>0</th>\n",
       "      <td>01Bidar</td>\n",
       "      <td>[indiatoday.in, livehindustan.com, prajavani.n...</td>\n",
       "      <td>4</td>\n",
       "    </tr>\n",
       "    <tr>\n",
       "      <th>1</th>\n",
       "      <td>02</td>\n",
       "      <td>[abplive.com, indiatoday.in, time8.in]</td>\n",
       "      <td>3</td>\n",
       "    </tr>\n",
       "    <tr>\n",
       "      <th>2</th>\n",
       "      <td>0403</td>\n",
       "      <td>[abplive.com, amarujala.com, hindustantimes.co...</td>\n",
       "      <td>7</td>\n",
       "    </tr>\n",
       "    <tr>\n",
       "      <th>4</th>\n",
       "      <td>0914</td>\n",
       "      <td>[abplive.com, abpnadu.com, business-standard.c...</td>\n",
       "      <td>36</td>\n",
       "    </tr>\n",
       "    <tr>\n",
       "      <th>5</th>\n",
       "      <td>1</td>\n",
       "      <td>[bhaskar.com, bhaskarhindi.com, hindustantimes...</td>\n",
       "      <td>5</td>\n",
       "    </tr>\n",
       "  </tbody>\n",
       "</table>\n",
       "</div>"
      ],
      "text/plain": [
       "    author                                             domain  authorsize\n",
       "0  01Bidar  [indiatoday.in, livehindustan.com, prajavani.n...           4\n",
       "1       02             [abplive.com, indiatoday.in, time8.in]           3\n",
       "2     0403  [abplive.com, amarujala.com, hindustantimes.co...           7\n",
       "4     0914  [abplive.com, abpnadu.com, business-standard.c...          36\n",
       "5        1  [bhaskar.com, bhaskarhindi.com, hindustantimes...           5"
      ]
     },
     "execution_count": 17,
     "metadata": {},
     "output_type": "execute_result"
    }
   ],
   "source": [
    "multiple_shared_domains = link_list.loc[link_list['authorsize']>2]\n",
    "multiple_shared_domains.head()"
   ]
  },
  {
   "cell_type": "code",
   "execution_count": 18,
   "metadata": {},
   "outputs": [],
   "source": [
    "nodes = defaultdict()\n",
    "edges = defaultdict()\n",
    "\n",
    "for idx, row in multiple_shared_domains.iterrows():\n",
    "    authorlist = list(set(row['domain']))\n",
    "    for a in authorlist:\n",
    "        if a not in nodes:\n",
    "            nodes[a] = 1\n",
    "        else:\n",
    "            nodes[a]+=1\n",
    "            \n",
    "    for i in range(len(authorlist)-1):\n",
    "        for j in range(i+1, len(authorlist)):\n",
    "            edgetuple = sorted([authorlist[i], authorlist[j]])\n",
    "            if (edgetuple[0], edgetuple[1]) not in edges:\n",
    "                edges[(edgetuple[0], edgetuple[1])] = 1\n",
    "            else:\n",
    "                edges[(edgetuple[0], edgetuple[1])] +=1\n"
   ]
  },
  {
   "cell_type": "code",
   "execution_count": 19,
   "metadata": {},
   "outputs": [],
   "source": [
    "import networkx as nx\n",
    "\n",
    "G = nx.Graph()\n",
    "\n",
    "# for n in nodes.keys():\n",
    "#     G.add_node(n, size=nodes[n], party=author2party[n])\n",
    "    \n",
    "ndlist = []\n",
    "    \n",
    "for e in edges:\n",
    "    if edges[e] > 10:\n",
    "        if e[0] not in ndlist:\n",
    "            G.add_node(e[0], size=nodes[e[0]])\n",
    "            ndlist.append(e[0])\n",
    "        if e[1] not in ndlist:\n",
    "            G.add_node(e[1], size=nodes[e[1]])\n",
    "            ndlist.append(e[1])\n",
    "\n",
    "        G.add_edge(e[0], e[1], weight=edges[e])"
   ]
  },
  {
   "cell_type": "code",
   "execution_count": 20,
   "metadata": {},
   "outputs": [],
   "source": [
    "nodes_ = list(G.nodes)"
   ]
  },
  {
   "cell_type": "code",
   "execution_count": 21,
   "metadata": {},
   "outputs": [],
   "source": [
    "admat = nx.adjacency_matrix(G, nodelist=nodes_, weight='weight')"
   ]
  },
  {
   "cell_type": "code",
   "execution_count": 22,
   "metadata": {},
   "outputs": [
    {
     "name": "stdout",
     "output_type": "stream",
     "text": [
      "<class 'scipy.sparse.csr.csr_matrix'>\n"
     ]
    }
   ],
   "source": [
    "print(type(admat))"
   ]
  },
  {
   "cell_type": "code",
   "execution_count": 23,
   "metadata": {},
   "outputs": [
    {
     "data": {
      "text/plain": [
       "(293, 293)"
      ]
     },
     "execution_count": 23,
     "metadata": {},
     "output_type": "execute_result"
    }
   ],
   "source": [
    "admat.shape"
   ]
  },
  {
   "cell_type": "code",
   "execution_count": 24,
   "metadata": {},
   "outputs": [],
   "source": [
    "admat_dense = admat.toarray()"
   ]
  },
  {
   "cell_type": "code",
   "execution_count": 25,
   "metadata": {},
   "outputs": [
    {
     "data": {
      "text/plain": [
       "(293, 293)"
      ]
     },
     "execution_count": 25,
     "metadata": {},
     "output_type": "execute_result"
    }
   ],
   "source": [
    "admat_dense.shape"
   ]
  },
  {
   "cell_type": "code",
   "execution_count": 26,
   "metadata": {},
   "outputs": [],
   "source": [
    "from sklearn.preprocessing import StandardScaler, normalize\n",
    "#sc = normalize(admat_dense)\n",
    "#sc.fit(admat_dense)\n",
    "#admat_dense = sc.transform(admat_dense)\n",
    "admat_dense = normalize(admat_dense)"
   ]
  },
  {
   "cell_type": "markdown",
   "metadata": {},
   "source": [
    "## do PCA"
   ]
  },
  {
   "cell_type": "code",
   "execution_count": 27,
   "metadata": {},
   "outputs": [],
   "source": [
    "import numpy as np\n",
    "from sklearn.decomposition import PCA\n",
    "import matplotlib.pyplot as plt"
   ]
  },
  {
   "cell_type": "code",
   "execution_count": 28,
   "metadata": {},
   "outputs": [],
   "source": [
    "pca = PCA(n_components=20)"
   ]
  },
  {
   "cell_type": "code",
   "execution_count": 29,
   "metadata": {},
   "outputs": [],
   "source": [
    "X = pca.fit_transform(admat_dense)"
   ]
  },
  {
   "cell_type": "code",
   "execution_count": 30,
   "metadata": {},
   "outputs": [],
   "source": [
    "exp_var_pca = pca.explained_variance_ratio_"
   ]
  },
  {
   "cell_type": "code",
   "execution_count": 31,
   "metadata": {},
   "outputs": [],
   "source": [
    "cum_sum_eigenvalues = np.cumsum(exp_var_pca)"
   ]
  },
  {
   "cell_type": "code",
   "execution_count": 32,
   "metadata": {},
   "outputs": [
    {
     "data": {
      "image/png": "[encoded data removed]",
      "text/plain": [
       "<Figure size 432x288 with 1 Axes>"
      ]
     },
     "metadata": {
      "needs_background": "light"
     },
     "output_type": "display_data"
    }
   ],
   "source": [
    "plt.bar(range(0,len(exp_var_pca)), exp_var_pca, alpha=0.5, align='center', label='Individual explained variance')\n",
    "plt.step(range(0,len(cum_sum_eigenvalues)), cum_sum_eigenvalues, where='mid',label='Cumulative explained variance')\n",
    "plt.ylabel('Explained variance ratio')\n",
    "plt.xlabel('Principal component index')\n",
    "plt.xticks([0,1,2,3,4,5,6,7,8,9,10,11,12,13,14,15,16,17,18,19])\n",
    "plt.legend(loc='best')\n",
    "plt.tight_layout()\n",
    "plt.show()\n"
   ]
  },
  {
   "cell_type": "markdown",
   "metadata": {},
   "source": [
    "## cutting PCA at 5 dimensions"
   ]
  },
  {
   "cell_type": "code",
   "execution_count": 33,
   "metadata": {},
   "outputs": [
    {
     "data": {
      "text/plain": [
       "(293, 20)"
      ]
     },
     "execution_count": 33,
     "metadata": {},
     "output_type": "execute_result"
    }
   ],
   "source": [
    "X.shape"
   ]
  },
  {
   "cell_type": "code",
   "execution_count": 34,
   "metadata": {},
   "outputs": [
    {
     "data": {
      "text/plain": [
       "(293, 10)"
      ]
     },
     "execution_count": 34,
     "metadata": {},
     "output_type": "execute_result"
    }
   ],
   "source": [
    "domainvectors = X[:, 0:10]\n",
    "domainvectors.shape"
   ]
  },
  {
   "cell_type": "code",
   "execution_count": 35,
   "metadata": {},
   "outputs": [
    {
     "data": {
      "text/plain": [
       "293"
      ]
     },
     "execution_count": 35,
     "metadata": {},
     "output_type": "execute_result"
    }
   ],
   "source": [
    "domainnames = nodes_\n",
    "len(domainnames)"
   ]
  },
  {
   "cell_type": "markdown",
   "metadata": {},
   "source": [
    "### label propagation data preparation"
   ]
  },
  {
   "cell_type": "code",
   "execution_count": 36,
   "metadata": {},
   "outputs": [
    {
     "data": {
      "text/plain": [
       "defaultdict(None,\n",
       "            {'aajtak.intoday.in': 'RIGHT_TO_RIGHTCENTRE',\n",
       "             'm.aajtak.in': 'RIGHT_TO_RIGHTCENTRE',\n",
       "             'jagran.com': 'RIGHT_TO_RIGHTCENTRE',\n",
       "             'epaper.jagran.com': 'RIGHT_TO_RIGHTCENTRE',\n",
       "             'english.jagran.com': 'RIGHT_TO_RIGHTCENTRE',\n",
       "             'classifieds.jagran.com': 'RIGHT_TO_RIGHTCENTRE',\n",
       "             'mapi.jagran.com': 'RIGHT_TO_RIGHTCENTRE',\n",
       "             'm.jagran.com': 'RIGHT_TO_RIGHTCENTRE',\n",
       "             'naiduniaepaper.jagran.com': 'RIGHT_TO_RIGHTCENTRE',\n",
       "             'epaperapi.jagran.com': 'RIGHT_TO_RIGHTCENTRE',\n",
       "             'images.jagran.com': 'RIGHT_TO_RIGHTCENTRE',\n",
       "             'events.jagran.com': 'RIGHT_TO_RIGHTCENTRE',\n",
       "             'webmail.jagran.com': 'RIGHT_TO_RIGHTCENTRE',\n",
       "             'originakam-epaper.jagran.com': 'RIGHT_TO_RIGHTCENTRE',\n",
       "             'bhaskar.com': 'RIGHT_TO_RIGHTCENTRE',\n",
       "             'epaper.bhaskar.com': 'RIGHT_TO_RIGHTCENTRE',\n",
       "             'money.bhaskar.com': 'RIGHT_TO_RIGHTCENTRE',\n",
       "             'divyamarathi.bhaskar.com': 'RIGHT_TO_RIGHTCENTRE',\n",
       "             'epaperdivyamarathi.bhaskar.com': 'RIGHT_TO_RIGHTCENTRE',\n",
       "             'daily.bhaskar.com': 'RIGHT_TO_RIGHTCENTRE',\n",
       "             'digitalimages.bhaskar.com': 'RIGHT_TO_RIGHTCENTRE',\n",
       "             'zeenews.india.com': 'RIGHT_TO_RIGHTCENTRE',\n",
       "             'cdn.zeenews.com': 'RIGHT_TO_RIGHTCENTRE',\n",
       "             'my.zeenews.com': 'RIGHT_TO_RIGHTCENTRE',\n",
       "             'careers.zeenews.com': 'RIGHT_TO_RIGHTCENTRE',\n",
       "             'indiatvnews.com': 'RIGHT_TO_RIGHTCENTRE',\n",
       "             'resize.indiatvnews.com': 'RIGHT_TO_RIGHTCENTRE',\n",
       "             'mail.indiatvnews.com': 'RIGHT_TO_RIGHTCENTRE',\n",
       "             'timesofindia.indiatimes.com': 'RIGHT_TO_RIGHTCENTRE',\n",
       "             'recipes.timesofindia.com': 'CENTRIST_AND_LEASTBIASED',\n",
       "             'm.timesofindia.com': 'CENTRIST_AND_LEASTBIASED',\n",
       "             'timesofindia.com': 'CENTRIST_AND_LEASTBIASED',\n",
       "             'epaperbeta.timesofindia.com': 'CENTRIST_AND_LEASTBIASED',\n",
       "             'indiatoday.in': 'CENTRIST_AND_LEASTBIASED',\n",
       "             'auth.indiatoday.in': 'CENTRIST_AND_LEASTBIASED',\n",
       "             'news24online.com': 'CENTRIST_AND_LEASTBIASED',\n",
       "             'hindi.news24online.com': 'CENTRIST_AND_LEASTBIASED',\n",
       "             'news.abplive.com': 'RIGHT_TO_RIGHTCENTRE',\n",
       "             'abplive.in': 'RIGHT_TO_RIGHTCENTRE',\n",
       "             'bbc.com/hindi': 'CENTRIST_AND_LEASTBIASED',\n",
       "             'bbc.com': 'CENTRIST_AND_LEASTBIASED',\n",
       "             'account.bbc.com': 'CENTRIST_AND_LEASTBIASED',\n",
       "             'shop.bbc.com': 'CENTRIST_AND_LEASTBIASED',\n",
       "             'emails.bbc.com': 'CENTRIST_AND_LEASTBIASED',\n",
       "             'ndtv.com': 'LEFT_TO_LEFTCENTRE',\n",
       "             'gadgets.ndtv.com': 'LEFT_TO_LEFTCENTRE',\n",
       "             'khabar.ndtv.com': 'LEFT_TO_LEFTCENTRE',\n",
       "             'food.ndtv.com': 'LEFT_TO_LEFTCENTRE',\n",
       "             'sports.ndtv.com': 'LEFT_TO_LEFTCENTRE',\n",
       "             'movies.ndtv.com': 'LEFT_TO_LEFTCENTRE',\n",
       "             'doctor.ndtv.com': 'LEFT_TO_LEFTCENTRE',\n",
       "             'swirlster.ndtv.com': 'LEFT_TO_LEFTCENTRE',\n",
       "             'stage-www.ndtv.com': 'LEFT_TO_LEFTCENTRE',\n",
       "             'special.ndtv.com': 'LEFT_TO_LEFTCENTRE',\n",
       "             'swachhindia.ndtv.com': 'LEFT_TO_LEFTCENTRE',\n",
       "             'everylifecounts.ndtv.com': 'LEFT_TO_LEFTCENTRE',\n",
       "             'drop.ndtv.com': 'LEFT_TO_LEFTCENTRE',\n",
       "             'edata.ndtv.com': 'LEFT_TO_LEFTCENTRE',\n",
       "             'social.ndtv.com': 'LEFT_TO_LEFTCENTRE',\n",
       "             'amarujala.com': 'RIGHT_TO_RIGHTCENTRE',\n",
       "             'epaper.amarujala.com': 'RIGHT_TO_RIGHTCENTRE',\n",
       "             'spiderimg.amarujala.com': 'RIGHT_TO_RIGHTCENTRE',\n",
       "             'results.amarujala.com': 'RIGHT_TO_RIGHTCENTRE',\n",
       "             'myau.amarujala.com': 'RIGHT_TO_RIGHTCENTRE',\n",
       "             'epaperimg1.amarujala.com': 'RIGHT_TO_RIGHTCENTRE',\n",
       "             'epaperwmimg.amarujala.com': 'RIGHT_TO_RIGHTCENTRE',\n",
       "             'sso.amarujala.com': 'RIGHT_TO_RIGHTCENTRE',\n",
       "             'indiatimes.com': 'RIGHT_TO_RIGHTCENTRE',\n",
       "             'economictimes.indiatimes.com': 'CENTRIST_AND_LEASTBIASED',\n",
       "             'navbharattimes.indiatimes.com': 'RIGHT_TO_RIGHTCENTRE',\n",
       "             'photogallery.indiatimes.com': 'RIGHT_TO_RIGHTCENTRE',\n",
       "             'eisamay.indiatimes.com': 'RIGHT_TO_RIGHTCENTRE',\n",
       "             'mumbaimirror.indiatimes.com': 'LEFT_TO_LEFTCENTRE',\n",
       "             'bangaloremirror.indiatimes.com': 'LEFT_TO_LEFTCENTRE',\n",
       "             'punemirror.indiatimes.com': 'RIGHT_TO_RIGHTCENTRE',\n",
       "             'etportfolio.indiatimes.com': 'RIGHT_TO_RIGHTCENTRE',\n",
       "             'maharashtratimes.indiatimes.com': 'RIGHT_TO_RIGHTCENTRE',\n",
       "             'jsso.indiatimes.com': 'RIGHT_TO_RIGHTCENTRE',\n",
       "             'beautypageants.indiatimes.com': 'RIGHT_TO_RIGHTCENTRE',\n",
       "             'ahmedabadmirror.indiatimes.com': 'LEFT_TO_LEFTCENTRE',\n",
       "             'mytimes.indiatimes.com': 'RIGHT_TO_RIGHTCENTRE',\n",
       "             'navbharatgold.indiatimes.com': 'RIGHT_TO_RIGHTCENTRE',\n",
       "             'epaper.navbharattimes.com': 'RIGHT_TO_RIGHTCENTRE',\n",
       "             'indianexpress.com': 'LEFT_TO_LEFTCENTRE',\n",
       "             'epaper.indianexpress.com': 'LEFT_TO_LEFTCENTRE',\n",
       "             'pdf.indianexpress.com': 'LEFT_TO_LEFTCENTRE',\n",
       "             'malayalam.indianexpress.com': 'LEFT_TO_LEFTCENTRE',\n",
       "             'bengali.indianexpress.com': 'LEFT_TO_LEFTCENTRE',\n",
       "             'images.indianexpress.com': 'LEFT_TO_LEFTCENTRE',\n",
       "             'tamil.indianexpress.com': 'LEFT_TO_LEFTCENTRE',\n",
       "             'accounts.indianexpress.com': 'LEFT_TO_LEFTCENTRE',\n",
       "             'archive.indianexpress.com': 'LEFT_TO_LEFTCENTRE',\n",
       "             'notify.indianexpress.com': 'LEFT_TO_LEFTCENTRE',\n",
       "             'expressgroup.indianexpress.com': 'LEFT_TO_LEFTCENTRE',\n",
       "             'mocktest.indianexpress.com': 'LEFT_TO_LEFTCENTRE',\n",
       "             'data.indianexpress.com': 'LEFT_TO_LEFTCENTRE',\n",
       "             'thequint.com': 'CENTRIST_AND_LEASTBIASED',\n",
       "             'hindi.thequint.com': 'CENTRIST_AND_LEASTBIASED',\n",
       "             'fit.thequint.com': 'CENTRIST_AND_LEASTBIASED',\n",
       "             'patrika.com': 'RIGHT_TO_RIGHTCENTRE',\n",
       "             'epaper.patrika.com': 'RIGHT_TO_RIGHTCENTRE',\n",
       "             'new-img.patrika.com': 'RIGHT_TO_RIGHTCENTRE',\n",
       "             'dailynews360.patrika.com': 'RIGHT_TO_RIGHTCENTRE',\n",
       "             'm.patrika.com': 'RIGHT_TO_RIGHTCENTRE',\n",
       "             'api.patrika.com': 'RIGHT_TO_RIGHTCENTRE',\n",
       "             'cloud.patrika.com': 'RIGHT_TO_RIGHTCENTRE',\n",
       "             'news18.com': 'RIGHT_TO_RIGHTCENTRE',\n",
       "             'hindi.news18.com': 'RIGHT_TO_RIGHTCENTRE',\n",
       "             'telugu.news18.com': 'RIGHT_TO_RIGHTCENTRE',\n",
       "             'bengali.news18.com': 'RIGHT_TO_RIGHTCENTRE',\n",
       "             'lokmat.news18.com': 'RIGHT_TO_RIGHTCENTRE',\n",
       "             'tamil.news18.com': 'RIGHT_TO_RIGHTCENTRE',\n",
       "             'malayalam.news18.com': 'RIGHT_TO_RIGHTCENTRE',\n",
       "             'urdu.news18.com': 'RIGHT_TO_RIGHTCENTRE',\n",
       "             'kannada.news18.com': 'RIGHT_TO_RIGHTCENTRE',\n",
       "             'images.news18.com': 'RIGHT_TO_RIGHTCENTRE',\n",
       "             'punjab.news18.com': 'RIGHT_TO_RIGHTCENTRE',\n",
       "             'gujarati.news18.com': 'RIGHT_TO_RIGHTCENTRE',\n",
       "             'assam.news18.com': 'RIGHT_TO_RIGHTCENTRE',\n",
       "             'odia.news18.com': 'RIGHT_TO_RIGHTCENTRE',\n",
       "             'compareindia.news18.com': 'RIGHT_TO_RIGHTCENTRE',\n",
       "             'Hindustantimes.com': 'LEFT_TO_LEFTCENTRE',\n",
       "             'hindustantimes.com': 'LEFT_TO_LEFTCENTRE',\n",
       "             'bangla.hindustantimes.com': 'LEFT_TO_LEFTCENTRE',\n",
       "             'epaper.hindustantimes.com': 'LEFT_TO_LEFTCENTRE',\n",
       "             'liveupdates.hindustantimes.com': 'LEFT_TO_LEFTCENTRE',\n",
       "             'auto.hindustantimes.com': 'LEFT_TO_LEFTCENTRE',\n",
       "             'accounts.hindustantimes.com': 'LEFT_TO_LEFTCENTRE',\n",
       "             'todayspaper.hindustantimes.com': 'LEFT_TO_LEFTCENTRE',\n",
       "             'htgifa.hindustantimes.com': 'LEFT_TO_LEFTCENTRE',\n",
       "             'm.hindustantimes.com': 'LEFT_TO_LEFTCENTRE',\n",
       "             'punjabi.hindustantimes.com': 'LEFT_TO_LEFTCENTRE',\n",
       "             'images.hindustantimes.com': 'LEFT_TO_LEFTCENTRE',\n",
       "             'timesnownews.com': 'RIGHT_TO_RIGHTCENTRE',\n",
       "             'hindi.timesnownews.com': 'RIGHT_TO_RIGHTCENTRE',\n",
       "             'imgk.timesnownews.com': 'RIGHT_TO_RIGHTCENTRE',\n",
       "             'dev.timesnownews.com': 'RIGHT_TO_RIGHTCENTRE',\n",
       "             'uat.timesnownews.com': 'RIGHT_TO_RIGHTCENTRE',\n",
       "             'fr.timesnownews.com': 'RIGHT_TO_RIGHTCENTRE',\n",
       "             'punjabkesari.in': 'LEFT_TO_LEFTCENTRE',\n",
       "             'jagbani.punjabkesari.in': 'LEFT_TO_LEFTCENTRE',\n",
       "             'nari.punjabkesari.in': 'LEFT_TO_LEFTCENTRE',\n",
       "             'haryana.punjabkesari.in': 'LEFT_TO_LEFTCENTRE',\n",
       "             'epaper.punjabkesari.in': 'LEFT_TO_LEFTCENTRE',\n",
       "             'punjab.punjabkesari.in': 'LEFT_TO_LEFTCENTRE',\n",
       "             'himachal.punjabkesari.in': 'LEFT_TO_LEFTCENTRE',\n",
       "             'up.punjabkesari.in': 'LEFT_TO_LEFTCENTRE',\n",
       "             'sports.punjabkesari.in': 'LEFT_TO_LEFTCENTRE',\n",
       "             'static.punjabkesari.in': 'LEFT_TO_LEFTCENTRE',\n",
       "             'mp.punjabkesari.in': 'LEFT_TO_LEFTCENTRE',\n",
       "             'pkcms.punjabkesari.in': 'LEFT_TO_LEFTCENTRE',\n",
       "             'gadget.punjabkesari.in': 'LEFT_TO_LEFTCENTRE',\n",
       "             'm.punjabkesari.in': 'LEFT_TO_LEFTCENTRE',\n",
       "             'epaperimg.punjabkesari.in': 'LEFT_TO_LEFTCENTRE',\n",
       "             'thehindu.com': 'LEFT_TO_LEFTCENTRE',\n",
       "             'epaper.thehindu.com': 'LEFT_TO_LEFTCENTRE',\n",
       "             'ep-cdn-s3.thehindu.com': 'LEFT_TO_LEFTCENTRE',\n",
       "             'subscription.thehindu.com': 'LEFT_TO_LEFTCENTRE',\n",
       "             'sportstar.thehindu.com': 'LEFT_TO_LEFTCENTRE',\n",
       "             'roofandfloor.thehindu.com': 'LEFT_TO_LEFTCENTRE',\n",
       "             'frontline.thehindu.com': 'LEFT_TO_LEFTCENTRE',\n",
       "             'tai.thehindu.com': 'LEFT_TO_LEFTCENTRE',\n",
       "             'step.thehindu.com': 'LEFT_TO_LEFTCENTRE',\n",
       "             'crossword.thehindu.com': 'LEFT_TO_LEFTCENTRE',\n",
       "             'ywc.thehindu.com': 'LEFT_TO_LEFTCENTRE',\n",
       "             'anandabazar.com': 'LEFT_TO_LEFTCENTRE',\n",
       "             'readepaper.anandabazar.com': 'LEFT_TO_LEFTCENTRE',\n",
       "             'epaper.anandabazar.com': 'LEFT_TO_LEFTCENTRE',\n",
       "             'images.anandabazar.com': 'LEFT_TO_LEFTCENTRE',\n",
       "             'archives.anandabazar.com': 'LEFT_TO_LEFTCENTRE',\n",
       "             'scoopwhoop.com': 'LEFT_TO_LEFTCENTRE',\n",
       "             'hindi.scoopwhoop.com': 'LEFT_TO_LEFTCENTRE',\n",
       "             's3.scoopwhoop.com': 'LEFT_TO_LEFTCENTRE',\n",
       "             'image.scoopwhoop.com': 'LEFT_TO_LEFTCENTRE',\n",
       "             's4.scoopwhoop.com': 'LEFT_TO_LEFTCENTRE',\n",
       "             'quicksilver.scoopwhoop.com': 'LEFT_TO_LEFTCENTRE',\n",
       "             'jansatta.com': 'CENTRIST_AND_LEASTBIASED',\n",
       "             'epaper.jansatta.com': 'CENTRIST_AND_LEASTBIASED',\n",
       "             'images.jansatta.com': 'CENTRIST_AND_LEASTBIASED',\n",
       "             'm.jansatta.com': 'CENTRIST_AND_LEASTBIASED',\n",
       "             'm.economictimes.com': 'CENTRIST_AND_LEASTBIASED',\n",
       "             'ndtv.in': 'LEFT_TO_LEFTCENTRE',\n",
       "             'mid-day.com': 'CENTRIST_AND_LEASTBIASED',\n",
       "             'images.mid-day.com': 'CENTRIST_AND_LEASTBIASED',\n",
       "             'epaper2.mid-day.com': 'CENTRIST_AND_LEASTBIASED',\n",
       "             'm.mid-day.com': 'CENTRIST_AND_LEASTBIASED',\n",
       "             'archive.mid-day.com': 'CENTRIST_AND_LEASTBIASED',\n",
       "             'dailythanthi.com': 'CENTRIST_AND_LEASTBIASED',\n",
       "             'epaper.dailythanthi.com': 'CENTRIST_AND_LEASTBIASED',\n",
       "             'newsonair.nic.in': 'RIGHT_TO_RIGHTCENTRE',\n",
       "             'sandesh.com': 'LEFT_TO_LEFTCENTRE',\n",
       "             'epaper.sandesh.com': 'LEFT_TO_LEFTCENTRE',\n",
       "             'dinamalar.com': 'LEFT_TO_LEFTCENTRE',\n",
       "             'cinema.dinamalar.com': 'LEFT_TO_LEFTCENTRE',\n",
       "             'temple.dinamalar.com': 'LEFT_TO_LEFTCENTRE',\n",
       "             'ipaper.dinamalar.com': 'LEFT_TO_LEFTCENTRE',\n",
       "             'sports.dinamalar.com': 'LEFT_TO_LEFTCENTRE',\n",
       "             'business.dinamalar.com': 'LEFT_TO_LEFTCENTRE',\n",
       "             'kalvimalar.dinamalar.com': 'LEFT_TO_LEFTCENTRE',\n",
       "             'epaper.dinamalar.com': 'LEFT_TO_LEFTCENTRE',\n",
       "             'm.dinamalar.com': 'LEFT_TO_LEFTCENTRE',\n",
       "             'mathrubhumi.com': 'LEFT_TO_LEFTCENTRE',\n",
       "             'english.mathrubhumi.com': 'LEFT_TO_LEFTCENTRE',\n",
       "             'epaper.mathrubhumi.com': 'LEFT_TO_LEFTCENTRE',\n",
       "             'digital.mathrubhumi.com': 'LEFT_TO_LEFTCENTRE',\n",
       "             'tv.mathrubhumi.com': 'LEFT_TO_LEFTCENTRE',\n",
       "             'media.mathrubhumi.com': 'LEFT_TO_LEFTCENTRE',\n",
       "             'astrology.mathrubhumi.com': 'LEFT_TO_LEFTCENTRE',\n",
       "             'images.mathrubhumi.com': 'LEFT_TO_LEFTCENTRE',\n",
       "             'buybooks.mathrubhumi.com': 'LEFT_TO_LEFTCENTRE',\n",
       "             'archives.mathrubhumi.com': 'LEFT_TO_LEFTCENTRE',\n",
       "             'Newindianexpress.com': 'RIGHT_TO_RIGHTCENTRE',\n",
       "             'newindianexpress.com': 'RIGHT_TO_RIGHTCENTRE',\n",
       "             'epaper.newindianexpress.com': 'RIGHT_TO_RIGHTCENTRE',\n",
       "             'images.newindianexpress.com': 'RIGHT_TO_RIGHTCENTRE',\n",
       "             'india.com': 'RIGHT_TO_RIGHTCENTRE',\n",
       "             'user.india.com': 'RIGHT_TO_RIGHTCENTRE',\n",
       "             's3.india.com': 'RIGHT_TO_RIGHTCENTRE',\n",
       "             'static.india.com': 'RIGHT_TO_RIGHTCENTRE',\n",
       "             'firstpost.com': 'RIGHT_TO_RIGHTCENTRE',\n",
       "             'images.firstpost.com': 'RIGHT_TO_RIGHTCENTRE',\n",
       "             'hindi.firstpost.com': 'RIGHT_TO_RIGHTCENTRE',\n",
       "             'tech.firstpost.com': 'RIGHT_TO_RIGHTCENTRE',\n",
       "             'manoramaonline.com': 'CENTRIST_AND_LEASTBIASED',\n",
       "             'english.manoramaonline.com': 'CENTRIST_AND_LEASTBIASED',\n",
       "             'children.manoramaonline.com': 'CENTRIST_AND_LEASTBIASED',\n",
       "             'epaper.manoramaonline.com': 'CENTRIST_AND_LEASTBIASED',\n",
       "             'eweekly.manoramaonline.com': 'CENTRIST_AND_LEASTBIASED',\n",
       "             'food.manoramaonline.com': 'CENTRIST_AND_LEASTBIASED',\n",
       "             'localnews.manoramaonline.com': 'CENTRIST_AND_LEASTBIASED',\n",
       "             'subscribe.manoramaonline.com': 'CENTRIST_AND_LEASTBIASED',\n",
       "             'travel.manoramaonline.com': 'CENTRIST_AND_LEASTBIASED',\n",
       "             'lokmat.com': 'LEFT_TO_LEFTCENTRE',\n",
       "             'astro.lokmat.com': 'LEFT_TO_LEFTCENTRE',\n",
       "             'english.lokmat.com': 'LEFT_TO_LEFTCENTRE',\n",
       "             'epaper.lokmat.com': 'LEFT_TO_LEFTCENTRE',\n",
       "             'm.livehindustan.com': 'CENTRIST_AND_LEASTBIASED',\n",
       "             'livehindustan.com': 'CENTRIST_AND_LEASTBIASED',\n",
       "             'epaper.livehindustan.com': 'CENTRIST_AND_LEASTBIASED',\n",
       "             'images1.livehindustan.com': 'CENTRIST_AND_LEASTBIASED',\n",
       "             'todayspaper.livehindustan.com': 'CENTRIST_AND_LEASTBIASED',\n",
       "             'greaterkashmir.com': 'LEFT_TO_LEFTCENTRE',\n",
       "             'epaper.greaterkashmir.com': 'LEFT_TO_LEFTCENTRE',\n",
       "             'republicworld.com': 'RIGHT_TO_RIGHTCENTRE',\n",
       "             'bharat.republicworld.com': 'RIGHT_TO_RIGHTCENTRE',\n",
       "             'img.republicworld.com': 'RIGHT_TO_RIGHTCENTRE',\n",
       "             'm.republicworld.com': 'RIGHT_TO_RIGHTCENTRE',\n",
       "             'financialexpress.com': 'CENTRIST_AND_LEASTBIASED',\n",
       "             'epaper.financialexpress.com': 'CENTRIST_AND_LEASTBIASED',\n",
       "             'images.financialexpress.com': 'CENTRIST_AND_LEASTBIASED',\n",
       "             'newslivetv.com': 'RIGHT_TO_RIGHTCENTRE',\n",
       "             'cnbctv18.com': 'CENTRIST_AND_LEASTBIASED',\n",
       "             'images.cnbctv18.com': 'CENTRIST_AND_LEASTBIASED',\n",
       "             'scroll.in': 'LEFT_TO_LEFTCENTRE',\n",
       "             'satyagrah.scroll.in': 'LEFT_TO_LEFTCENTRE',\n",
       "             'amp.scroll.in': 'LEFT_TO_LEFTCENTRE',\n",
       "             'beta.scroll.in': 'LEFT_TO_LEFTCENTRE',\n",
       "             'blog.scroll.in': 'LEFT_TO_LEFTCENTRE',\n",
       "             'businesstoday.in': 'CENTRIST_AND_LEASTBIASED',\n",
       "             'bschools.businesstoday.in': 'CENTRIST_AND_LEASTBIASED',\n",
       "             'm.businesstoday.in': 'CENTRIST_AND_LEASTBIASED',\n",
       "             'deccanchronicle.com': 'RIGHT_TO_RIGHTCENTRE',\n",
       "             'epaper.deccanchronicle.com': 'RIGHT_TO_RIGHTCENTRE',\n",
       "             'Siasat.com': 'LEFT_TO_LEFTCENTRE',\n",
       "             'siasat.com': 'LEFT_TO_LEFTCENTRE',\n",
       "             'epaper.siasat.com': 'LEFT_TO_LEFTCENTRE',\n",
       "             'hindi.siasat.com': 'LEFT_TO_LEFTCENTRE',\n",
       "             'cdn.siasat.com': 'LEFT_TO_LEFTCENTRE',\n",
       "             'urdu.siasat.com': 'LEFT_TO_LEFTCENTRE',\n",
       "             'archive.siasat.com': 'LEFT_TO_LEFTCENTRE',\n",
       "             'fakingnews.com': 'RIGHT_TO_RIGHTCENTRE',\n",
       "             'hindi.fakingnews.com': 'RIGHT_TO_RIGHTCENTRE',\n",
       "             'dnaindia.com': 'RIGHT_TO_RIGHTCENTRE',\n",
       "             'cdn.dnaindia.com': 'RIGHT_TO_RIGHTCENTRE',\n",
       "             'andhrajyothy.com': 'LEFT_TO_LEFTCENTRE',\n",
       "             'm.andhrajyothy.com': 'LEFT_TO_LEFTCENTRE',\n",
       "             'epaper.andhrajyothy.com': 'LEFT_TO_LEFTCENTRE',\n",
       "             'lit.andhrajyothy.com': 'LEFT_TO_LEFTCENTRE',\n",
       "             'mpaper.andhrajyothy.com': 'LEFT_TO_LEFTCENTRE',\n",
       "             'gujaratsamachar.com': 'RIGHT_TO_RIGHTCENTRE',\n",
       "             'm.dailyhunt.in': 'RIGHT_TO_RIGHTCENTRE',\n",
       "             'dhcreator.dailyhunt.in': 'RIGHT_TO_RIGHTCENTRE',\n",
       "             'support.dailyhunt.in': 'RIGHT_TO_RIGHTCENTRE',\n",
       "             'onepoint.dailyhunt.in': 'RIGHT_TO_RIGHTCENTRE',\n",
       "             'assets-news-bcdn.dailyhunt.in': 'RIGHT_TO_RIGHTCENTRE',\n",
       "             'xiaomi.dailyhunt.in': 'RIGHT_TO_RIGHTCENTRE',\n",
       "             'dhpublish.dailyhunt.in': 'RIGHT_TO_RIGHTCENTRE',\n",
       "             'web.dailyhunt.in': 'RIGHT_TO_RIGHTCENTRE',\n",
       "             'direct.dailyhunt.in': 'RIGHT_TO_RIGHTCENTRE',\n",
       "             'newdelhitimes.com': 'RIGHT_TO_RIGHTCENTRE',\n",
       "             'kashmirlife.net': 'LEFT_TO_LEFTCENTRE',\n",
       "             'outlookindia.com': 'LEFT_TO_LEFTCENTRE',\n",
       "             'images.outlookindia.com': 'LEFT_TO_LEFTCENTRE',\n",
       "             'poshan.outlookindia.com': 'LEFT_TO_LEFTCENTRE',\n",
       "             'Livemint.com': 'CENTRIST_AND_LEASTBIASED',\n",
       "             'livemint.com': 'CENTRIST_AND_LEASTBIASED',\n",
       "             'images.livemint.com': 'CENTRIST_AND_LEASTBIASED',\n",
       "             'epaper.livemint.com': 'CENTRIST_AND_LEASTBIASED',\n",
       "             'catchnews.com': 'CENTRIST_AND_LEASTBIASED',\n",
       "             'hindi.catchnews.com': 'CENTRIST_AND_LEASTBIASED',\n",
       "             'images.catchnews.com': 'CENTRIST_AND_LEASTBIASED',\n",
       "             'eenadu.net': 'LEFT_TO_LEFTCENTRE',\n",
       "             'epaper.eenadu.net': 'LEFT_TO_LEFTCENTRE',\n",
       "             'assets.eenadu.net': 'LEFT_TO_LEFTCENTRE',\n",
       "             'api.eenadu.net': 'LEFT_TO_LEFTCENTRE',\n",
       "             'm.eenadu.net': 'LEFT_TO_LEFTCENTRE',\n",
       "             'mail.eenadu.net': 'LEFT_TO_LEFTCENTRE',\n",
       "             'huffingtonpost.in': 'LEFT_TO_LEFTCENTRE',\n",
       "             'hindi.webdunia.com': 'RIGHT_TO_RIGHTCENTRE',\n",
       "             'tamil.webdunia.com': 'RIGHT_TO_RIGHTCENTRE',\n",
       "             'telugu.webdunia.com': 'RIGHT_TO_RIGHTCENTRE',\n",
       "             'marathi.webdunia.com': 'RIGHT_TO_RIGHTCENTRE',\n",
       "             'malayalam.webdunia.com': 'RIGHT_TO_RIGHTCENTRE',\n",
       "             'm-hindi.webdunia.com': 'RIGHT_TO_RIGHTCENTRE',\n",
       "             'english.webdunia.com': 'RIGHT_TO_RIGHTCENTRE',\n",
       "             'wdcmsadmin.webdunia.com': 'RIGHT_TO_RIGHTCENTRE',\n",
       "             'kannada.webdunia.com': 'RIGHT_TO_RIGHTCENTRE',\n",
       "             'wdncmsadmin.webdunia.com': 'RIGHT_TO_RIGHTCENTRE',\n",
       "             'media.webdunia.com': 'RIGHT_TO_RIGHTCENTRE',\n",
       "             'gujarati.webdunia.com': 'RIGHT_TO_RIGHTCENTRE',\n",
       "             'astrology.webdunia.com': 'RIGHT_TO_RIGHTCENTRE',\n",
       "             'utilities.webdunia.com': 'RIGHT_TO_RIGHTCENTRE',\n",
       "             'm-telugu.webdunia.com': 'RIGHT_TO_RIGHTCENTRE',\n",
       "             'thenewsminute.com': 'LEFT_TO_LEFTCENTRE',\n",
       "             'moneycontrol.com': 'RIGHT_TO_RIGHTCENTRE',\n",
       "             'mmb.moneycontrol.com': 'RIGHT_TO_RIGHTCENTRE',\n",
       "             'hindi.moneycontrol.com': 'RIGHT_TO_RIGHTCENTRE',\n",
       "             'moneybhai.moneycontrol.com': 'RIGHT_TO_RIGHTCENTRE',\n",
       "             'livecms.moneycontrol.com': 'RIGHT_TO_RIGHTCENTRE',\n",
       "             'm.moneycontrol.com': 'RIGHT_TO_RIGHTCENTRE',\n",
       "             'static-news.moneycontrol.com': 'RIGHT_TO_RIGHTCENTRE',\n",
       "             'businessinsider.in': 'CENTRIST_AND_LEASTBIASED',\n",
       "             'newsnation.in': 'RIGHT_TO_RIGHTCENTRE',\n",
       "             'ems.newsnation.in': 'RIGHT_TO_RIGHTCENTRE',\n",
       "             'cdn5.newsnation.in': 'RIGHT_TO_RIGHTCENTRE',\n",
       "             'beta.newsnation.in': 'RIGHT_TO_RIGHTCENTRE',\n",
       "             'cdn4.newsnation.in': 'RIGHT_TO_RIGHTCENTRE',\n",
       "             'thewire.in': 'LEFT_TO_LEFTCENTRE',\n",
       "             'science.thewire.in': 'LEFT_TO_LEFTCENTRE',\n",
       "             'livewire.thewire.in': 'LEFT_TO_LEFTCENTRE',\n",
       "             'm.thewire.in': 'LEFT_TO_LEFTCENTRE',\n",
       "             'cdn.thewire.in': 'LEFT_TO_LEFTCENTRE',\n",
       "             'support.thewire.in': 'LEFT_TO_LEFTCENTRE',\n",
       "             'Deccanherald.com': 'CENTRIST_AND_LEASTBIASED',\n",
       "             'deccanherald.com': 'CENTRIST_AND_LEASTBIASED',\n",
       "             'youthkiawaaz.com': 'LEFT_TO_LEFTCENTRE',\n",
       "             'thehindubusinessline.com': 'LEFT_TO_LEFTCENTRE',\n",
       "             'epaper.thehindubusinessline.com': 'LEFT_TO_LEFTCENTRE',\n",
       "             'bloncampus.thehindubusinessline.com': 'LEFT_TO_LEFTCENTRE',\n",
       "             'subscription.thehindubusinessline.com': 'LEFT_TO_LEFTCENTRE',\n",
       "             'campaign.thehindubusinessline.com': 'LEFT_TO_LEFTCENTRE',\n",
       "             'swarajyamag.com': 'RIGHT_TO_RIGHTCENTRE',\n",
       "             'subscriptions.swarajyamag.com': 'RIGHT_TO_RIGHTCENTRE',\n",
       "             'theprint.in': 'CENTRIST_AND_LEASTBIASED',\n",
       "             'hindi.theprint.in': 'CENTRIST_AND_LEASTBIASED',\n",
       "             'wionews.com': 'CENTRIST_AND_LEASTBIASED',\n",
       "             'cdn.wionews.com': 'CENTRIST_AND_LEASTBIASED',\n",
       "             'risingkashmir.com': 'LEFT_TO_LEFTCENTRE',\n",
       "             'aninews.in': 'RIGHT_TO_RIGHTCENTRE',\n",
       "             'dailyo.in': 'RIGHT_TO_RIGHTCENTRE',\n",
       "             'ptinews.com': 'CENTRIST_AND_LEASTBIASED',\n",
       "             'bhasha.ptinews.com': 'CENTRIST_AND_LEASTBIASED',\n",
       "             'forbesindia.com': 'RIGHT_TO_RIGHTCENTRE',\n",
       "             'Milligazette.com': 'LEFT_TO_LEFTCENTRE',\n",
       "             'milligazette.com': 'LEFT_TO_LEFTCENTRE',\n",
       "             'dailyexcelsior.com': 'RIGHT_TO_RIGHTCENTRE',\n",
       "             'epaper.dailyexcelsior.com': 'RIGHT_TO_RIGHTCENTRE',\n",
       "             'business-standard.com': 'CENTRIST_AND_LEASTBIASED',\n",
       "             'epaper.business-standard.com': 'CENTRIST_AND_LEASTBIASED',\n",
       "             'bsmedia.business-standard.com': 'CENTRIST_AND_LEASTBIASED',\n",
       "             'hindi.business-standard.com': 'CENTRIST_AND_LEASTBIASED',\n",
       "             'smartinvestor.business-standard.com': 'CENTRIST_AND_LEASTBIASED',\n",
       "             'wap.business-standard.com': 'CENTRIST_AND_LEASTBIASED',\n",
       "             's.business-standard.com': 'CENTRIST_AND_LEASTBIASED',\n",
       "             'mumbaimirror.com': 'LEFT_TO_LEFTCENTRE',\n",
       "             'thestatesman.com': 'LEFT_TO_LEFTCENTRE',\n",
       "             'epaper.thestatesman.com': 'LEFT_TO_LEFTCENTRE',\n",
       "             'telegraphindia.com': 'LEFT_TO_LEFTCENTRE',\n",
       "             'epaper.telegraphindia.com': 'LEFT_TO_LEFTCENTRE',\n",
       "             'static.telegraphindia.com': 'LEFT_TO_LEFTCENTRE',\n",
       "             'm.telegraphindia.com': 'LEFT_TO_LEFTCENTRE',\n",
       "             'Tribuneindia.com': 'CENTRIST_AND_LEASTBIASED',\n",
       "             'tribuneindia.com': 'CENTRIST_AND_LEASTBIASED',\n",
       "             'epaper.tribuneindia.com': 'CENTRIST_AND_LEASTBIASED',\n",
       "             'cms.tribuneindia.com': 'CENTRIST_AND_LEASTBIASED',\n",
       "             'm.tribuneindia.com': 'CENTRIST_AND_LEASTBIASED',\n",
       "             'images.tribuneindia.com': 'CENTRIST_AND_LEASTBIASED',\n",
       "             'oneindia.com': 'RIGHT_TO_RIGHTCENTRE',\n",
       "             'tamil.oneindia.com': 'RIGHT_TO_RIGHTCENTRE',\n",
       "             'telugu.oneindia.com': 'RIGHT_TO_RIGHTCENTRE',\n",
       "             'hindi.oneindia.com': 'RIGHT_TO_RIGHTCENTRE',\n",
       "             'coupons.oneindia.com': 'RIGHT_TO_RIGHTCENTRE',\n",
       "             'kannada.oneindia.com': 'RIGHT_TO_RIGHTCENTRE',\n",
       "             'malayalam.oneindia.com': 'RIGHT_TO_RIGHTCENTRE',\n",
       "             'bengali.oneindia.com': 'RIGHT_TO_RIGHTCENTRE',\n",
       "             'recharge.oneindia.com': 'RIGHT_TO_RIGHTCENTRE',\n",
       "             'wallpapers.oneindia.com': 'RIGHT_TO_RIGHTCENTRE',\n",
       "             'gujarati.oneindia.com': 'RIGHT_TO_RIGHTCENTRE',\n",
       "             'polls.oneindia.com': 'RIGHT_TO_RIGHTCENTRE',\n",
       "             'deshabhimani.com': 'LEFT_TO_LEFTCENTRE',\n",
       "             'epaper.deshabhimani.com': 'LEFT_TO_LEFTCENTRE',\n",
       "             'newslaundry.com': 'LEFT_TO_LEFTCENTRE',\n",
       "             'bangaloremirror.com': 'LEFT_TO_LEFTCENTRE',\n",
       "             'opindia.com': 'RIGHT_TO_RIGHTCENTRE',\n",
       "             'hindi.opindia.com': 'RIGHT_TO_RIGHTCENTRE',\n",
       "             'myvoice.opindia.com': 'RIGHT_TO_RIGHTCENTRE',\n",
       "             'altnews.in': 'LEFT_TO_LEFTCENTRE',\n",
       "             'dashboard.altnews.in': 'LEFT_TO_LEFTCENTRE',\n",
       "             'kashmirreader.com': 'LEFT_TO_LEFTCENTRE',\n",
       "             'starofmysore.com': 'RIGHT_TO_RIGHTCENTRE',\n",
       "             'epaper.starofmysore.com': 'RIGHT_TO_RIGHTCENTRE',\n",
       "             'headlinesoftoday.com': 'CENTRIST_AND_LEASTBIASED',\n",
       "             'hindi.headlinesoftoday.com': 'CENTRIST_AND_LEASTBIASED',\n",
       "             'countercurrents.org': 'LEFT_TO_LEFTCENTRE',\n",
       "             'ahmedabadmirror.com': 'LEFT_TO_LEFTCENTRE',\n",
       "             'Punemirror.indiatimes.com': 'LEFT_TO_LEFTCENTRE',\n",
       "             'Punemirror.in': 'LEFT_TO_LEFTCENTRE',\n",
       "             'nagpurtoday.in': 'CENTRIST_AND_LEASTBIASED',\n",
       "             'dailypioneer.com': 'RIGHT_TO_RIGHTCENTRE',\n",
       "             'timesheadline.com': 'LEFT_TO_LEFTCENTRE',\n",
       "             'asianage.com': 'CENTRIST_AND_LEASTBIASED',\n",
       "             'onlineepaper.asianage.com': 'CENTRIST_AND_LEASTBIASED',\n",
       "             'freepressjournal.in': 'CENTRIST_AND_LEASTBIASED',\n",
       "             'epaper.freepressjournal.in': 'CENTRIST_AND_LEASTBIASED',\n",
       "             'greatandhra.com': 'LEFT_TO_LEFTCENTRE',\n",
       "             'm.greatandhra.com': 'LEFT_TO_LEFTCENTRE',\n",
       "             'telugu.greatandhra.com': 'LEFT_TO_LEFTCENTRE',\n",
       "             'mobi.greatandhra.com': 'LEFT_TO_LEFTCENTRE',\n",
       "             'gallery.greatandhra.com': 'LEFT_TO_LEFTCENTRE',\n",
       "             'trends.greatandhra.com': 'LEFT_TO_LEFTCENTRE',\n",
       "             'epaper.greatandhra.com': 'LEFT_TO_LEFTCENTRE',\n",
       "             'ians.in': 'RIGHT_TO_RIGHTCENTRE'})"
      ]
     },
     "execution_count": 36,
     "metadata": {},
     "output_type": "execute_result"
    }
   ],
   "source": [
    "dom2label"
   ]
  },
  {
   "cell_type": "code",
   "execution_count": 37,
   "metadata": {},
   "outputs": [
    {
     "name": "stdout",
     "output_type": "stream",
     "text": [
      "{'CENTRIST_AND_LEASTBIASED', 'LEFT_TO_LEFTCENTRE', 'RIGHT_TO_RIGHTCENTRE'}\n"
     ]
    }
   ],
   "source": [
    "print(set([v for k,v in dom2label.items()]))"
   ]
  },
  {
   "cell_type": "code",
   "execution_count": 38,
   "metadata": {},
   "outputs": [],
   "source": [
    "label2num = {'LEFT_TO_LEFTCENTRE':1, 'CENTRIST_AND_LEASTBIASED':0, 'RIGHT_TO_RIGHTCENTRE':2}"
   ]
  },
  {
   "cell_type": "code",
   "execution_count": 39,
   "metadata": {},
   "outputs": [],
   "source": [
    "nodelabels = []\n",
    "for n in nodes_:\n",
    "    if n in dom2label.keys():\n",
    "        nodelabels.append(label2num[dom2label[n]])\n",
    "    else:\n",
    "        nodelabels.append(-1)"
   ]
  },
  {
   "cell_type": "code",
   "execution_count": 40,
   "metadata": {},
   "outputs": [
    {
     "name": "stdout",
     "output_type": "stream",
     "text": [
      "Counter({-1: 222, 1: 25, 2: 24, 0: 22})\n"
     ]
    }
   ],
   "source": [
    "print(Counter(nodelabels))"
   ]
  },
  {
   "cell_type": "markdown",
   "metadata": {},
   "source": [
    "## label propagation algorithm"
   ]
  },
  {
   "cell_type": "code",
   "execution_count": 41,
   "metadata": {},
   "outputs": [],
   "source": [
    "from sklearn.semi_supervised import LabelPropagation, LabelSpreading\n",
    "label_prop_model = LabelSpreading(alpha=0.01)"
   ]
  },
  {
   "cell_type": "code",
   "execution_count": 42,
   "metadata": {},
   "outputs": [
    {
     "data": {
      "text/plain": [
       "LabelSpreading(alpha=0.01)"
      ]
     },
     "execution_count": 42,
     "metadata": {},
     "output_type": "execute_result"
    }
   ],
   "source": [
    "label_prop_model.fit(domainvectors, nodelabels)\n"
   ]
  },
  {
   "cell_type": "code",
   "execution_count": 43,
   "metadata": {},
   "outputs": [],
   "source": [
    "estimated_labs = label_prop_model.predict(domainvectors)"
   ]
  },
  {
   "cell_type": "code",
   "execution_count": 44,
   "metadata": {},
   "outputs": [
    {
     "data": {
      "text/plain": [
       "array([2, 0, 1, 2, 2, 2, 1, 2, 2, 2, 2, 2, 2, 2, 1, 1, 2, 2, 2, 2, 1, 1,\n",
       "       1, 2, 2, 2, 2, 2, 1, 0, 2, 1, 1, 0, 1, 2, 2, 2, 1, 0, 1, 1, 1, 0,\n",
       "       2, 1, 1, 2, 1, 1, 1, 1, 2, 1, 1, 1, 1, 2, 1, 2, 2, 2, 0, 2, 1, 2,\n",
       "       1, 1, 1, 2, 2, 1, 2, 2, 2, 2, 2, 2, 1, 2, 0, 2, 2, 1, 1, 2, 2, 1,\n",
       "       1, 0, 2, 1, 1, 2, 2, 2, 2, 1, 1, 1, 0, 2, 2, 2, 1, 1, 1, 1, 2, 2,\n",
       "       2, 0, 0, 0, 2, 2, 1, 1, 1, 1, 0, 0, 1, 0, 0, 1, 1, 1, 0, 1, 2, 1,\n",
       "       0, 0, 2, 0, 0, 2, 1, 2, 1, 0, 1, 2, 1, 1, 1, 1, 2, 2, 2, 2, 2, 2,\n",
       "       2, 2, 2, 0, 2, 2, 1, 1, 1, 0, 0, 0, 0, 0, 0, 1, 1, 1, 2, 1, 1, 1,\n",
       "       1, 1, 0, 1, 1, 1, 1, 1, 1, 2, 1, 2, 2, 0, 0, 2, 1, 2, 1, 2, 1, 1,\n",
       "       0, 1, 1, 1, 0, 1, 1, 1, 1, 2, 1, 0, 2, 0, 2, 1, 2, 1, 0, 1, 1, 2,\n",
       "       1, 1, 1, 1, 2, 2, 1, 2, 0, 0, 1, 0, 0, 1, 1, 0, 0, 0, 1, 1, 1, 0,\n",
       "       0, 2, 2, 1, 2, 1, 1, 1, 0, 2, 1, 1, 2, 1, 1, 1, 2, 1, 1, 2, 0, 1,\n",
       "       0, 1, 1, 0, 1, 2, 2, 2, 0, 1, 1, 0, 0, 0, 1, 2, 2, 2, 0, 1, 1, 1,\n",
       "       2, 0, 1, 0, 0, 1, 2])"
      ]
     },
     "execution_count": 44,
     "metadata": {},
     "output_type": "execute_result"
    }
   ],
   "source": [
    "estimated_labs"
   ]
  },
  {
   "cell_type": "markdown",
   "metadata": {},
   "source": [
    "## anlayze estimations"
   ]
  },
  {
   "cell_type": "code",
   "execution_count": 45,
   "metadata": {},
   "outputs": [],
   "source": [
    "estimates = pd.DataFrame(columns=['domain', 'before_pred', 'after_pred'])"
   ]
  },
  {
   "cell_type": "code",
   "execution_count": 46,
   "metadata": {},
   "outputs": [],
   "source": [
    "estimates['domain'] = nodes_\n",
    "estimates['before_pred'] = nodelabels\n",
    "estimates['after_pred'] = estimated_labs"
   ]
  },
  {
   "cell_type": "code",
   "execution_count": 47,
   "metadata": {},
   "outputs": [
    {
     "data": {
      "text/html": [
       "<div>\n",
       "<style scoped>\n",
       "    .dataframe tbody tr th:only-of-type {\n",
       "        vertical-align: middle;\n",
       "    }\n",
       "\n",
       "    .dataframe tbody tr th {\n",
       "        vertical-align: top;\n",
       "    }\n",
       "\n",
       "    .dataframe thead th {\n",
       "        text-align: right;\n",
       "    }\n",
       "</style>\n",
       "<table border=\"1\" class=\"dataframe\">\n",
       "  <thead>\n",
       "    <tr style=\"text-align: right;\">\n",
       "      <th></th>\n",
       "      <th>domain</th>\n",
       "      <th>before_pred</th>\n",
       "      <th>after_pred</th>\n",
       "    </tr>\n",
       "  </thead>\n",
       "  <tbody>\n",
       "    <tr>\n",
       "      <th>0</th>\n",
       "      <td>indiatoday.in</td>\n",
       "      <td>0</td>\n",
       "      <td>2</td>\n",
       "    </tr>\n",
       "    <tr>\n",
       "      <th>1</th>\n",
       "      <td>thehindu.com</td>\n",
       "      <td>1</td>\n",
       "      <td>0</td>\n",
       "    </tr>\n",
       "    <tr>\n",
       "      <th>2</th>\n",
       "      <td>prajavani.net</td>\n",
       "      <td>-1</td>\n",
       "      <td>1</td>\n",
       "    </tr>\n",
       "    <tr>\n",
       "      <th>3</th>\n",
       "      <td>livehindustan.com</td>\n",
       "      <td>0</td>\n",
       "      <td>2</td>\n",
       "    </tr>\n",
       "    <tr>\n",
       "      <th>4</th>\n",
       "      <td>abplive.com</td>\n",
       "      <td>-1</td>\n",
       "      <td>2</td>\n",
       "    </tr>\n",
       "  </tbody>\n",
       "</table>\n",
       "</div>"
      ],
      "text/plain": [
       "              domain  before_pred  after_pred\n",
       "0      indiatoday.in            0           2\n",
       "1       thehindu.com            1           0\n",
       "2      prajavani.net           -1           1\n",
       "3  livehindustan.com            0           2\n",
       "4        abplive.com           -1           2"
      ]
     },
     "execution_count": 47,
     "metadata": {},
     "output_type": "execute_result"
    }
   ],
   "source": [
    "estimates.head()"
   ]
  },
  {
   "cell_type": "code",
   "execution_count": 48,
   "metadata": {},
   "outputs": [],
   "source": [
    "num2label = {v:k for k, v in label2num.items()}\n",
    "estimates['predicted_party'] = estimates['after_pred'].apply(lambda x:num2label[x])"
   ]
  },
  {
   "cell_type": "code",
   "execution_count": 49,
   "metadata": {},
   "outputs": [
    {
     "data": {
      "text/html": [
       "<div>\n",
       "<style scoped>\n",
       "    .dataframe tbody tr th:only-of-type {\n",
       "        vertical-align: middle;\n",
       "    }\n",
       "\n",
       "    .dataframe tbody tr th {\n",
       "        vertical-align: top;\n",
       "    }\n",
       "\n",
       "    .dataframe thead th {\n",
       "        text-align: right;\n",
       "    }\n",
       "</style>\n",
       "<table border=\"1\" class=\"dataframe\">\n",
       "  <thead>\n",
       "    <tr style=\"text-align: right;\">\n",
       "      <th></th>\n",
       "      <th>domain</th>\n",
       "      <th>before_pred</th>\n",
       "      <th>after_pred</th>\n",
       "      <th>predicted_party</th>\n",
       "    </tr>\n",
       "  </thead>\n",
       "  <tbody>\n",
       "    <tr>\n",
       "      <th>112</th>\n",
       "      <td>gaonconnection.com</td>\n",
       "      <td>-1</td>\n",
       "      <td>0</td>\n",
       "      <td>CENTRIST_AND_LEASTBIASED</td>\n",
       "    </tr>\n",
       "    <tr>\n",
       "      <th>274</th>\n",
       "      <td>risingkashmir.com</td>\n",
       "      <td>1</td>\n",
       "      <td>1</td>\n",
       "      <td>LEFT_TO_LEFTCENTRE</td>\n",
       "    </tr>\n",
       "    <tr>\n",
       "      <th>80</th>\n",
       "      <td>theweek.in</td>\n",
       "      <td>-1</td>\n",
       "      <td>0</td>\n",
       "      <td>CENTRIST_AND_LEASTBIASED</td>\n",
       "    </tr>\n",
       "    <tr>\n",
       "      <th>54</th>\n",
       "      <td>tv9bharatvarsh.com</td>\n",
       "      <td>-1</td>\n",
       "      <td>1</td>\n",
       "      <td>LEFT_TO_LEFTCENTRE</td>\n",
       "    </tr>\n",
       "    <tr>\n",
       "      <th>95</th>\n",
       "      <td>tribuneindia.com</td>\n",
       "      <td>0</td>\n",
       "      <td>2</td>\n",
       "      <td>RIGHT_TO_RIGHTCENTRE</td>\n",
       "    </tr>\n",
       "    <tr>\n",
       "      <th>137</th>\n",
       "      <td>dailyhunt.in</td>\n",
       "      <td>-1</td>\n",
       "      <td>2</td>\n",
       "      <td>RIGHT_TO_RIGHTCENTRE</td>\n",
       "    </tr>\n",
       "    <tr>\n",
       "      <th>154</th>\n",
       "      <td>businessinsider.in</td>\n",
       "      <td>0</td>\n",
       "      <td>2</td>\n",
       "      <td>RIGHT_TO_RIGHTCENTRE</td>\n",
       "    </tr>\n",
       "    <tr>\n",
       "      <th>19</th>\n",
       "      <td>opindia.com</td>\n",
       "      <td>2</td>\n",
       "      <td>2</td>\n",
       "      <td>RIGHT_TO_RIGHTCENTRE</td>\n",
       "    </tr>\n",
       "    <tr>\n",
       "      <th>285</th>\n",
       "      <td>techcrunch.com</td>\n",
       "      <td>-1</td>\n",
       "      <td>1</td>\n",
       "      <td>LEFT_TO_LEFTCENTRE</td>\n",
       "    </tr>\n",
       "    <tr>\n",
       "      <th>136</th>\n",
       "      <td>sanjeevnitoday.com</td>\n",
       "      <td>-1</td>\n",
       "      <td>0</td>\n",
       "      <td>CENTRIST_AND_LEASTBIASED</td>\n",
       "    </tr>\n",
       "  </tbody>\n",
       "</table>\n",
       "</div>"
      ],
      "text/plain": [
       "                 domain  before_pred  after_pred           predicted_party\n",
       "112  gaonconnection.com           -1           0  CENTRIST_AND_LEASTBIASED\n",
       "274   risingkashmir.com            1           1        LEFT_TO_LEFTCENTRE\n",
       "80           theweek.in           -1           0  CENTRIST_AND_LEASTBIASED\n",
       "54   tv9bharatvarsh.com           -1           1        LEFT_TO_LEFTCENTRE\n",
       "95     tribuneindia.com            0           2      RIGHT_TO_RIGHTCENTRE\n",
       "137        dailyhunt.in           -1           2      RIGHT_TO_RIGHTCENTRE\n",
       "154  businessinsider.in            0           2      RIGHT_TO_RIGHTCENTRE\n",
       "19          opindia.com            2           2      RIGHT_TO_RIGHTCENTRE\n",
       "285      techcrunch.com           -1           1        LEFT_TO_LEFTCENTRE\n",
       "136  sanjeevnitoday.com           -1           0  CENTRIST_AND_LEASTBIASED"
      ]
     },
     "execution_count": 49,
     "metadata": {},
     "output_type": "execute_result"
    }
   ],
   "source": [
    "estimates.sample(10)"
   ]
  },
  {
   "cell_type": "code",
   "execution_count": 50,
   "metadata": {},
   "outputs": [],
   "source": [
    "estimates['before_pred_label'] = estimates['before_pred'].apply(lambda x: num2label[x] if x>=0 else \"unknown\")\n",
    "    "
   ]
  },
  {
   "cell_type": "code",
   "execution_count": 51,
   "metadata": {},
   "outputs": [],
   "source": [
    "before_pred_dict = estimates.set_index('domain').to_dict()['before_pred_label']\n",
    "predicted_labels = estimates.set_index('domain').to_dict()['predicted_party']"
   ]
  },
  {
   "cell_type": "code",
   "execution_count": 52,
   "metadata": {},
   "outputs": [],
   "source": [
    "import networkx as nx\n",
    "\n",
    "viz_G = nx.Graph()\n",
    "\n",
    "# for n in nodes.keys():\n",
    "#     G.add_node(n, size=nodes[n], party=author2party[n])\n",
    "    \n",
    "ndlist = []\n",
    "    \n",
    "for e in edges:\n",
    "    if edges[e] > 10:\n",
    "        if e[0] not in ndlist:\n",
    "            viz_G.add_node(e[0], size=nodes[e[0]], before_pred=before_pred_dict[e[0]], prediction=predicted_labels[e[0]])\n",
    "            ndlist.append(e[0])\n",
    "        if e[1] not in ndlist:\n",
    "            viz_G.add_node(e[1], size=nodes[e[1]], before_pred=before_pred_dict[e[1]], prediction=predicted_labels[e[1]])\n",
    "            ndlist.append(e[1])\n",
    "\n",
    "        viz_G.add_edge(e[0], e[1], weight=edges[e])"
   ]
  },
  {
   "cell_type": "code",
   "execution_count": 53,
   "metadata": {},
   "outputs": [],
   "source": [
    "nx.write_gexf(viz_G, \"label_propagation.gexf\", encoding='utf_8')"
   ]
  },
  {
   "cell_type": "markdown",
   "metadata": {},
   "source": [
    "### viz PCA clusters"
   ]
  },
  {
   "cell_type": "code",
   "execution_count": 54,
   "metadata": {},
   "outputs": [],
   "source": [
    "estimates['pca_0'] = X[:,0]\n",
    "estimates['pca_1'] = X[:,1]\n",
    "estimates['pca_2'] = X[:,2]\n",
    "estimates['pca_3'] = X[:,3]\n",
    "estimates['pca_4'] = X[:,4]\n"
   ]
  },
  {
   "cell_type": "code",
   "execution_count": 55,
   "metadata": {},
   "outputs": [
    {
     "data": {
      "text/html": [
       "<div>\n",
       "<style scoped>\n",
       "    .dataframe tbody tr th:only-of-type {\n",
       "        vertical-align: middle;\n",
       "    }\n",
       "\n",
       "    .dataframe tbody tr th {\n",
       "        vertical-align: top;\n",
       "    }\n",
       "\n",
       "    .dataframe thead th {\n",
       "        text-align: right;\n",
       "    }\n",
       "</style>\n",
       "<table border=\"1\" class=\"dataframe\">\n",
       "  <thead>\n",
       "    <tr style=\"text-align: right;\">\n",
       "      <th></th>\n",
       "      <th>domain</th>\n",
       "      <th>before_pred</th>\n",
       "      <th>after_pred</th>\n",
       "      <th>predicted_party</th>\n",
       "      <th>before_pred_label</th>\n",
       "      <th>pca_0</th>\n",
       "      <th>pca_1</th>\n",
       "      <th>pca_2</th>\n",
       "      <th>pca_3</th>\n",
       "      <th>pca_4</th>\n",
       "    </tr>\n",
       "  </thead>\n",
       "  <tbody>\n",
       "    <tr>\n",
       "      <th>102</th>\n",
       "      <td>freepressjournal.in</td>\n",
       "      <td>0</td>\n",
       "      <td>2</td>\n",
       "      <td>RIGHT_TO_RIGHTCENTRE</td>\n",
       "      <td>CENTRIST_AND_LEASTBIASED</td>\n",
       "      <td>-0.374221</td>\n",
       "      <td>-0.119248</td>\n",
       "      <td>0.040478</td>\n",
       "      <td>-0.081750</td>\n",
       "      <td>0.048029</td>\n",
       "    </tr>\n",
       "    <tr>\n",
       "      <th>75</th>\n",
       "      <td>asianetnews.com</td>\n",
       "      <td>-1</td>\n",
       "      <td>2</td>\n",
       "      <td>RIGHT_TO_RIGHTCENTRE</td>\n",
       "      <td>unknown</td>\n",
       "      <td>-0.352890</td>\n",
       "      <td>-0.252962</td>\n",
       "      <td>-0.027084</td>\n",
       "      <td>-0.147565</td>\n",
       "      <td>0.132127</td>\n",
       "    </tr>\n",
       "    <tr>\n",
       "      <th>54</th>\n",
       "      <td>tv9bharatvarsh.com</td>\n",
       "      <td>-1</td>\n",
       "      <td>1</td>\n",
       "      <td>LEFT_TO_LEFTCENTRE</td>\n",
       "      <td>unknown</td>\n",
       "      <td>-0.191087</td>\n",
       "      <td>0.187662</td>\n",
       "      <td>0.049149</td>\n",
       "      <td>0.244594</td>\n",
       "      <td>-0.034366</td>\n",
       "    </tr>\n",
       "    <tr>\n",
       "      <th>169</th>\n",
       "      <td>orfonline.org</td>\n",
       "      <td>-1</td>\n",
       "      <td>1</td>\n",
       "      <td>LEFT_TO_LEFTCENTRE</td>\n",
       "      <td>unknown</td>\n",
       "      <td>0.197757</td>\n",
       "      <td>-0.139666</td>\n",
       "      <td>-0.395977</td>\n",
       "      <td>0.079266</td>\n",
       "      <td>-0.256866</td>\n",
       "    </tr>\n",
       "    <tr>\n",
       "      <th>150</th>\n",
       "      <td>millenniumpost.in</td>\n",
       "      <td>-1</td>\n",
       "      <td>2</td>\n",
       "      <td>RIGHT_TO_RIGHTCENTRE</td>\n",
       "      <td>unknown</td>\n",
       "      <td>-0.317509</td>\n",
       "      <td>-0.186988</td>\n",
       "      <td>0.024758</td>\n",
       "      <td>-0.151470</td>\n",
       "      <td>0.115740</td>\n",
       "    </tr>\n",
       "  </tbody>\n",
       "</table>\n",
       "</div>"
      ],
      "text/plain": [
       "                  domain  before_pred  after_pred       predicted_party  \\\n",
       "102  freepressjournal.in            0           2  RIGHT_TO_RIGHTCENTRE   \n",
       "75       asianetnews.com           -1           2  RIGHT_TO_RIGHTCENTRE   \n",
       "54    tv9bharatvarsh.com           -1           1    LEFT_TO_LEFTCENTRE   \n",
       "169        orfonline.org           -1           1    LEFT_TO_LEFTCENTRE   \n",
       "150    millenniumpost.in           -1           2  RIGHT_TO_RIGHTCENTRE   \n",
       "\n",
       "            before_pred_label     pca_0     pca_1     pca_2     pca_3  \\\n",
       "102  CENTRIST_AND_LEASTBIASED -0.374221 -0.119248  0.040478 -0.081750   \n",
       "75                    unknown -0.352890 -0.252962 -0.027084 -0.147565   \n",
       "54                    unknown -0.191087  0.187662  0.049149  0.244594   \n",
       "169                   unknown  0.197757 -0.139666 -0.395977  0.079266   \n",
       "150                   unknown -0.317509 -0.186988  0.024758 -0.151470   \n",
       "\n",
       "        pca_4  \n",
       "102  0.048029  \n",
       "75   0.132127  \n",
       "54  -0.034366  \n",
       "169 -0.256866  \n",
       "150  0.115740  "
      ]
     },
     "execution_count": 55,
     "metadata": {},
     "output_type": "execute_result"
    }
   ],
   "source": [
    "estimates.sample(5)"
   ]
  },
  {
   "cell_type": "code",
   "execution_count": 56,
   "metadata": {},
   "outputs": [],
   "source": [
    "#!pip install seaborn"
   ]
  },
  {
   "cell_type": "code",
   "execution_count": 57,
   "metadata": {},
   "outputs": [],
   "source": [
    "import seaborn as sns"
   ]
  },
  {
   "cell_type": "code",
   "execution_count": 58,
   "metadata": {},
   "outputs": [
    {
     "data": {
      "text/plain": [
       "<AxesSubplot:xlabel='pca_0', ylabel='pca_1'>"
      ]
     },
     "execution_count": 58,
     "metadata": {},
     "output_type": "execute_result"
    },
    {
     "data": {
      "image/png": "[encoded data removed]",
      "text/plain": [
       "<Figure size 504x504 with 1 Axes>"
      ]
     },
     "metadata": {
      "needs_background": "light"
     },
     "output_type": "display_data"
    }
   ],
   "source": [
    "plt.figure(figsize=(7,7))\n",
    "sns.scatterplot(data=estimates, x='pca_0', y='pca_1', hue='predicted_party')"
   ]
  },
  {
   "cell_type": "code",
   "execution_count": 59,
   "metadata": {},
   "outputs": [
    {
     "data": {
      "text/html": [
       "<div>\n",
       "<style scoped>\n",
       "    .dataframe tbody tr th:only-of-type {\n",
       "        vertical-align: middle;\n",
       "    }\n",
       "\n",
       "    .dataframe tbody tr th {\n",
       "        vertical-align: top;\n",
       "    }\n",
       "\n",
       "    .dataframe thead th {\n",
       "        text-align: right;\n",
       "    }\n",
       "</style>\n",
       "<table border=\"1\" class=\"dataframe\">\n",
       "  <thead>\n",
       "    <tr style=\"text-align: right;\">\n",
       "      <th></th>\n",
       "      <th>domain</th>\n",
       "      <th>before_pred</th>\n",
       "      <th>after_pred</th>\n",
       "      <th>predicted_party</th>\n",
       "      <th>before_pred_label</th>\n",
       "      <th>pca_0</th>\n",
       "      <th>pca_1</th>\n",
       "      <th>pca_2</th>\n",
       "      <th>pca_3</th>\n",
       "      <th>pca_4</th>\n",
       "    </tr>\n",
       "  </thead>\n",
       "  <tbody>\n",
       "    <tr>\n",
       "      <th>99</th>\n",
       "      <td>bbc.in</td>\n",
       "      <td>-1</td>\n",
       "      <td>1</td>\n",
       "      <td>LEFT_TO_LEFTCENTRE</td>\n",
       "      <td>unknown</td>\n",
       "      <td>-0.241276</td>\n",
       "      <td>0.262808</td>\n",
       "      <td>0.130541</td>\n",
       "      <td>0.201354</td>\n",
       "      <td>-0.007593</td>\n",
       "    </tr>\n",
       "    <tr>\n",
       "      <th>84</th>\n",
       "      <td>scroll.in</td>\n",
       "      <td>1</td>\n",
       "      <td>1</td>\n",
       "      <td>LEFT_TO_LEFTCENTRE</td>\n",
       "      <td>LEFT_TO_LEFTCENTRE</td>\n",
       "      <td>-0.257529</td>\n",
       "      <td>0.209430</td>\n",
       "      <td>-0.064306</td>\n",
       "      <td>0.149816</td>\n",
       "      <td>-0.028779</td>\n",
       "    </tr>\n",
       "    <tr>\n",
       "      <th>206</th>\n",
       "      <td>aljazeera.com</td>\n",
       "      <td>-1</td>\n",
       "      <td>1</td>\n",
       "      <td>LEFT_TO_LEFTCENTRE</td>\n",
       "      <td>unknown</td>\n",
       "      <td>0.323577</td>\n",
       "      <td>0.016757</td>\n",
       "      <td>-0.256080</td>\n",
       "      <td>-0.069571</td>\n",
       "      <td>-0.102701</td>\n",
       "    </tr>\n",
       "    <tr>\n",
       "      <th>265</th>\n",
       "      <td>newsweek.com</td>\n",
       "      <td>-1</td>\n",
       "      <td>1</td>\n",
       "      <td>LEFT_TO_LEFTCENTRE</td>\n",
       "      <td>unknown</td>\n",
       "      <td>0.329379</td>\n",
       "      <td>-0.244483</td>\n",
       "      <td>-0.213597</td>\n",
       "      <td>0.005484</td>\n",
       "      <td>-0.291938</td>\n",
       "    </tr>\n",
       "    <tr>\n",
       "      <th>32</th>\n",
       "      <td>foreignpolicy.com</td>\n",
       "      <td>-1</td>\n",
       "      <td>1</td>\n",
       "      <td>LEFT_TO_LEFTCENTRE</td>\n",
       "      <td>unknown</td>\n",
       "      <td>0.464976</td>\n",
       "      <td>0.052605</td>\n",
       "      <td>-0.111409</td>\n",
       "      <td>0.076053</td>\n",
       "      <td>0.292305</td>\n",
       "    </tr>\n",
       "    <tr>\n",
       "      <th>197</th>\n",
       "      <td>japantimes.co.jp</td>\n",
       "      <td>-1</td>\n",
       "      <td>1</td>\n",
       "      <td>LEFT_TO_LEFTCENTRE</td>\n",
       "      <td>unknown</td>\n",
       "      <td>-0.121608</td>\n",
       "      <td>0.272554</td>\n",
       "      <td>-0.020736</td>\n",
       "      <td>0.259829</td>\n",
       "      <td>-0.085408</td>\n",
       "    </tr>\n",
       "    <tr>\n",
       "      <th>127</th>\n",
       "      <td>thegoan.net</td>\n",
       "      <td>-1</td>\n",
       "      <td>1</td>\n",
       "      <td>LEFT_TO_LEFTCENTRE</td>\n",
       "      <td>unknown</td>\n",
       "      <td>0.425285</td>\n",
       "      <td>0.117122</td>\n",
       "      <td>0.131169</td>\n",
       "      <td>-0.021974</td>\n",
       "      <td>0.040039</td>\n",
       "    </tr>\n",
       "    <tr>\n",
       "      <th>174</th>\n",
       "      <td>jantakareporter.com</td>\n",
       "      <td>-1</td>\n",
       "      <td>1</td>\n",
       "      <td>LEFT_TO_LEFTCENTRE</td>\n",
       "      <td>unknown</td>\n",
       "      <td>-0.213076</td>\n",
       "      <td>0.294272</td>\n",
       "      <td>0.105748</td>\n",
       "      <td>0.245686</td>\n",
       "      <td>-0.056586</td>\n",
       "    </tr>\n",
       "    <tr>\n",
       "      <th>223</th>\n",
       "      <td>mediavigil.com</td>\n",
       "      <td>-1</td>\n",
       "      <td>1</td>\n",
       "      <td>LEFT_TO_LEFTCENTRE</td>\n",
       "      <td>unknown</td>\n",
       "      <td>-0.137136</td>\n",
       "      <td>0.306101</td>\n",
       "      <td>0.100148</td>\n",
       "      <td>0.254715</td>\n",
       "      <td>-0.086361</td>\n",
       "    </tr>\n",
       "    <tr>\n",
       "      <th>49</th>\n",
       "      <td>altnews.in</td>\n",
       "      <td>1</td>\n",
       "      <td>1</td>\n",
       "      <td>LEFT_TO_LEFTCENTRE</td>\n",
       "      <td>LEFT_TO_LEFTCENTRE</td>\n",
       "      <td>-0.251840</td>\n",
       "      <td>0.283525</td>\n",
       "      <td>0.016768</td>\n",
       "      <td>0.220111</td>\n",
       "      <td>-0.014349</td>\n",
       "    </tr>\n",
       "  </tbody>\n",
       "</table>\n",
       "</div>"
      ],
      "text/plain": [
       "                  domain  before_pred  after_pred     predicted_party  \\\n",
       "99                bbc.in           -1           1  LEFT_TO_LEFTCENTRE   \n",
       "84             scroll.in            1           1  LEFT_TO_LEFTCENTRE   \n",
       "206        aljazeera.com           -1           1  LEFT_TO_LEFTCENTRE   \n",
       "265         newsweek.com           -1           1  LEFT_TO_LEFTCENTRE   \n",
       "32     foreignpolicy.com           -1           1  LEFT_TO_LEFTCENTRE   \n",
       "197     japantimes.co.jp           -1           1  LEFT_TO_LEFTCENTRE   \n",
       "127          thegoan.net           -1           1  LEFT_TO_LEFTCENTRE   \n",
       "174  jantakareporter.com           -1           1  LEFT_TO_LEFTCENTRE   \n",
       "223       mediavigil.com           -1           1  LEFT_TO_LEFTCENTRE   \n",
       "49            altnews.in            1           1  LEFT_TO_LEFTCENTRE   \n",
       "\n",
       "      before_pred_label     pca_0     pca_1     pca_2     pca_3     pca_4  \n",
       "99              unknown -0.241276  0.262808  0.130541  0.201354 -0.007593  \n",
       "84   LEFT_TO_LEFTCENTRE -0.257529  0.209430 -0.064306  0.149816 -0.028779  \n",
       "206             unknown  0.323577  0.016757 -0.256080 -0.069571 -0.102701  \n",
       "265             unknown  0.329379 -0.244483 -0.213597  0.005484 -0.291938  \n",
       "32              unknown  0.464976  0.052605 -0.111409  0.076053  0.292305  \n",
       "197             unknown -0.121608  0.272554 -0.020736  0.259829 -0.085408  \n",
       "127             unknown  0.425285  0.117122  0.131169 -0.021974  0.040039  \n",
       "174             unknown -0.213076  0.294272  0.105748  0.245686 -0.056586  \n",
       "223             unknown -0.137136  0.306101  0.100148  0.254715 -0.086361  \n",
       "49   LEFT_TO_LEFTCENTRE -0.251840  0.283525  0.016768  0.220111 -0.014349  "
      ]
     },
     "execution_count": 59,
     "metadata": {},
     "output_type": "execute_result"
    }
   ],
   "source": [
    "estimates.loc[estimates['predicted_party']=='LEFT_TO_LEFTCENTRE'].sample(10)"
   ]
  },
  {
   "cell_type": "code",
   "execution_count": null,
   "metadata": {},
   "outputs": [],
   "source": []
  }
 ],
 "metadata": {
  "kernelspec": {
   "display_name": "Python 3",
   "language": "python",
   "name": "python3"
  },
  "language_info": {
   "codemirror_mode": {
    "name": "ipython",
    "version": 3
   },
   "file_extension": ".py",
   "mimetype": "text/x-python",
   "name": "python",
   "nbconvert_exporter": "python",
   "pygments_lexer": "ipython3",
   "version": "3.8.10"
  }
 },
 "nbformat": 4,
 "nbformat_minor": 4
}
