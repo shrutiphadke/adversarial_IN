{
 "cells": [
  {
   "cell_type": "code",
   "execution_count": 1,
   "metadata": {},
   "outputs": [],
   "source": [
    "import pandas as pd\n",
    "import numpy as np\n",
    "from collections import defaultdict, Counter\n",
    "import glob\n",
    "import json\n",
    "import pickle as pkl\n",
    "import ast\n",
    "import os"
   ]
  },
  {
   "cell_type": "code",
   "execution_count": 2,
   "metadata": {},
   "outputs": [
    {
     "name": "stdout",
     "output_type": "stream",
     "text": [
      "INFO: Pandarallel will run on 128 workers.\n",
      "INFO: Pandarallel will use Memory file system to transfer data between the main process and workers.\n"
     ]
    }
   ],
   "source": [
    "from pandarallel import pandarallel\n",
    "pandarallel.initialize()"
   ]
  },
  {
   "cell_type": "code",
   "execution_count": 3,
   "metadata": {},
   "outputs": [],
   "source": [
    "LEVEL1_FOLDERS = ['facebook_linkposts', 'facebook_linkposts_redo1', 'facebook_linkposts_redo2']\n",
    "allfiles = []\n",
    "\n",
    "for l in LEVEL1_FOLDERS:\n",
    "    l1path = '/data/shruti/ONR/big_data/' + l + '/*'\n",
    "    LEVEL2_FOLDERS = glob.glob(l1path)\n",
    "    for l2 in LEVEL2_FOLDERS:\n",
    "        l2path = l2 + \"/*.json\"\n",
    "        fnames = glob.glob(l2path)\n",
    "        for f in fnames:\n",
    "            if os.stat(f).st_size == 0:\n",
    "                fakevar=1\n",
    "            else:\n",
    "                allfiles.append(f)\n"
   ]
  },
  {
   "cell_type": "code",
   "execution_count": 4,
   "metadata": {},
   "outputs": [
    {
     "data": {
      "text/plain": [
       "3101"
      ]
     },
     "execution_count": 4,
     "metadata": {},
     "output_type": "execute_result"
    }
   ],
   "source": [
    "len(allfiles)"
   ]
  },
  {
   "cell_type": "code",
   "execution_count": 5,
   "metadata": {
    "scrolled": true
   },
   "outputs": [],
   "source": [
    "# for f in allfiles:\n",
    "#     print(f)\n",
    "#     with open(f, \"r\") as jfile:\n",
    "#         for line in jfile:\n",
    "#             job = json.loads(line)"
   ]
  },
  {
   "cell_type": "code",
   "execution_count": 6,
   "metadata": {},
   "outputs": [
    {
     "data": {
      "text/plain": [
       "3101"
      ]
     },
     "execution_count": 6,
     "metadata": {},
     "output_type": "execute_result"
    }
   ],
   "source": [
    "allfiles = list(set(allfiles))\n",
    "len(allfiles)"
   ]
  },
  {
   "cell_type": "code",
   "execution_count": 7,
   "metadata": {},
   "outputs": [],
   "source": [
    "# job.keys()"
   ]
  },
  {
   "cell_type": "code",
   "execution_count": 8,
   "metadata": {},
   "outputs": [],
   "source": [
    "def get_contents(fileName):\n",
    "    dictlist = []\n",
    "    with open(fileName, \"r\") as jfile:\n",
    "        for line in jfile:\n",
    "            tempdict = {}\n",
    "            try:\n",
    "                job = json.loads(line)\n",
    "            except:\n",
    "                job = None\n",
    "            if job!=None:    \n",
    "                if \"date\" in job:\n",
    "                    tempdict['date'] = job['date']\n",
    "                    if \"title\" in job:\n",
    "                        tempdict['title'] = job['title']\n",
    "                    if \"caption\" in job:\n",
    "                        tempdict['caption'] = job['caption']\n",
    "                    if \"description\" in job:\n",
    "                        tempdict['description'] = job['description']\n",
    "                    if \"description\" in job:\n",
    "                        tempdict['description'] = job['description']\n",
    "                    if \"message\" in job:\n",
    "                        tempdict['message'] = job['message']\n",
    "                    if \"link\" in job:\n",
    "                        tempdict['link'] = job['link']\n",
    "                    if \"postUrl\" in job:\n",
    "                        tempdict['postUrl'] = job['postUrl']\n",
    "                    if \"score\" in job:\n",
    "                        tempdict['score'] = job['score']\n",
    "\n",
    "                    if \"account\" in job:\n",
    "                        try:\n",
    "                            tempdict['handle'] = job['account']['handle']\n",
    "                        except:\n",
    "                            fakevar=1\n",
    "\n",
    "                        try:\n",
    "                            tempdict['platformId'] = job['account']['platformId']\n",
    "                        except:\n",
    "                            fakevar=1\n",
    "\n",
    "                        try:\n",
    "                            tempdict['id'] = job['account']['id']\n",
    "                        except:\n",
    "                            fakevar=1\n",
    "\n",
    "                    dictlist.append(tempdict)\n",
    "\n",
    "    if len(dictlist) > 0:\n",
    "        return dictlist\n",
    "                \n",
    "       \n",
    "    \n",
    "                        \n",
    "            \n",
    "            "
   ]
  },
  {
   "cell_type": "code",
   "execution_count": 9,
   "metadata": {},
   "outputs": [],
   "source": [
    "filcontent = pd.DataFrame()\n",
    "filcontent['fileNames'] = allfiles\n",
    "filcontent['content'] = filcontent['fileNames'].parallel_apply(lambda x: get_contents(x))"
   ]
  },
  {
   "cell_type": "code",
   "execution_count": 10,
   "metadata": {},
   "outputs": [
    {
     "data": {
      "text/plain": [
       "3101"
      ]
     },
     "execution_count": 10,
     "metadata": {},
     "output_type": "execute_result"
    }
   ],
   "source": [
    "len(filcontent.dropna(subset=['content']))"
   ]
  },
  {
   "cell_type": "code",
   "execution_count": 11,
   "metadata": {},
   "outputs": [],
   "source": [
    "def get_contentLength(content):\n",
    "    try:\n",
    "        return len(content)\n",
    "    except:\n",
    "        return 0\n",
    "    \n",
    "filcontent['contentLength'] = filcontent['content'].parallel_apply(lambda x: get_contentLength(x))"
   ]
  },
  {
   "cell_type": "code",
   "execution_count": 12,
   "metadata": {},
   "outputs": [
    {
     "data": {
      "text/html": [
       "<div>\n",
       "<style scoped>\n",
       "    .dataframe tbody tr th:only-of-type {\n",
       "        vertical-align: middle;\n",
       "    }\n",
       "\n",
       "    .dataframe tbody tr th {\n",
       "        vertical-align: top;\n",
       "    }\n",
       "\n",
       "    .dataframe thead th {\n",
       "        text-align: right;\n",
       "    }\n",
       "</style>\n",
       "<table border=\"1\" class=\"dataframe\">\n",
       "  <thead>\n",
       "    <tr style=\"text-align: right;\">\n",
       "      <th></th>\n",
       "      <th>fileNames</th>\n",
       "      <th>content</th>\n",
       "      <th>contentLength</th>\n",
       "    </tr>\n",
       "  </thead>\n",
       "  <tbody>\n",
       "    <tr>\n",
       "      <th>0</th>\n",
       "      <td>/data/shruti/ONR/big_data/facebook_linkposts_r...</td>\n",
       "      <td>[{'date': '2021-05-07 15:18:16', 'title': 'औरं...</td>\n",
       "      <td>28</td>\n",
       "    </tr>\n",
       "    <tr>\n",
       "      <th>1</th>\n",
       "      <td>/data/shruti/ONR/big_data/facebook_linkposts_r...</td>\n",
       "      <td>[{'date': '2021-07-01 11:15:25', 'title': 'Wat...</td>\n",
       "      <td>18308</td>\n",
       "    </tr>\n",
       "    <tr>\n",
       "      <th>2</th>\n",
       "      <td>/data/shruti/ONR/big_data/facebook_linkposts_r...</td>\n",
       "      <td>[{'date': '2021-05-01 03:14:04', 'title': 'अचा...</td>\n",
       "      <td>11783</td>\n",
       "    </tr>\n",
       "    <tr>\n",
       "      <th>3</th>\n",
       "      <td>/data/shruti/ONR/big_data/facebook_linkposts/b...</td>\n",
       "      <td>[{'date': '2021-08-01 01:52:32', 'title': 'শিক...</td>\n",
       "      <td>738</td>\n",
       "    </tr>\n",
       "    <tr>\n",
       "      <th>4</th>\n",
       "      <td>/data/shruti/ONR/big_data/facebook_linkposts_r...</td>\n",
       "      <td>[{'date': '2021-01-28 12:00:32', 'title': 'আম ...</td>\n",
       "      <td>540</td>\n",
       "    </tr>\n",
       "  </tbody>\n",
       "</table>\n",
       "</div>"
      ],
      "text/plain": [
       "                                           fileNames  \\\n",
       "0  /data/shruti/ONR/big_data/facebook_linkposts_r...   \n",
       "1  /data/shruti/ONR/big_data/facebook_linkposts_r...   \n",
       "2  /data/shruti/ONR/big_data/facebook_linkposts_r...   \n",
       "3  /data/shruti/ONR/big_data/facebook_linkposts/b...   \n",
       "4  /data/shruti/ONR/big_data/facebook_linkposts_r...   \n",
       "\n",
       "                                             content  contentLength  \n",
       "0  [{'date': '2021-05-07 15:18:16', 'title': 'औरं...             28  \n",
       "1  [{'date': '2021-07-01 11:15:25', 'title': 'Wat...          18308  \n",
       "2  [{'date': '2021-05-01 03:14:04', 'title': 'अचा...          11783  \n",
       "3  [{'date': '2021-08-01 01:52:32', 'title': 'শিক...            738  \n",
       "4  [{'date': '2021-01-28 12:00:32', 'title': 'আম ...            540  "
      ]
     },
     "execution_count": 12,
     "metadata": {},
     "output_type": "execute_result"
    }
   ],
   "source": [
    "filcontent.head(5)"
   ]
  },
  {
   "cell_type": "code",
   "execution_count": 13,
   "metadata": {},
   "outputs": [],
   "source": [
    "invalidfiles = filcontent.loc[filcontent['contentLength']==0]['fileNames'].tolist()"
   ]
  },
  {
   "cell_type": "code",
   "execution_count": 14,
   "metadata": {},
   "outputs": [
    {
     "data": {
      "text/plain": [
       "[]"
      ]
     },
     "execution_count": 14,
     "metadata": {},
     "output_type": "execute_result"
    }
   ],
   "source": [
    "invalidfiles"
   ]
  },
  {
   "cell_type": "code",
   "execution_count": 15,
   "metadata": {},
   "outputs": [],
   "source": [
    "jsonList = []\n",
    "\n",
    "for idx, row in filcontent.iterrows():\n",
    "    for c in row['content']:\n",
    "        jsonList.append(c)"
   ]
  },
  {
   "cell_type": "code",
   "execution_count": 16,
   "metadata": {},
   "outputs": [
    {
     "data": {
      "text/plain": [
       "11694115"
      ]
     },
     "execution_count": 16,
     "metadata": {},
     "output_type": "execute_result"
    }
   ],
   "source": [
    "len(jsonList)"
   ]
  },
  {
   "cell_type": "code",
   "execution_count": 17,
   "metadata": {},
   "outputs": [],
   "source": [
    "fdata = pd.DataFrame(jsonList)"
   ]
  },
  {
   "cell_type": "code",
   "execution_count": 18,
   "metadata": {},
   "outputs": [
    {
     "data": {
      "text/html": [
       "<div>\n",
       "<style scoped>\n",
       "    .dataframe tbody tr th:only-of-type {\n",
       "        vertical-align: middle;\n",
       "    }\n",
       "\n",
       "    .dataframe tbody tr th {\n",
       "        vertical-align: top;\n",
       "    }\n",
       "\n",
       "    .dataframe thead th {\n",
       "        text-align: right;\n",
       "    }\n",
       "</style>\n",
       "<table border=\"1\" class=\"dataframe\">\n",
       "  <thead>\n",
       "    <tr style=\"text-align: right;\">\n",
       "      <th></th>\n",
       "      <th>date</th>\n",
       "      <th>title</th>\n",
       "      <th>caption</th>\n",
       "      <th>description</th>\n",
       "      <th>message</th>\n",
       "      <th>link</th>\n",
       "      <th>postUrl</th>\n",
       "      <th>score</th>\n",
       "      <th>handle</th>\n",
       "      <th>platformId</th>\n",
       "      <th>id</th>\n",
       "    </tr>\n",
       "  </thead>\n",
       "  <tbody>\n",
       "    <tr>\n",
       "      <th>0</th>\n",
       "      <td>2021-05-07 15:18:16</td>\n",
       "      <td>औरंगाबाद जिल्ह्यातील रिक्त पदे भरण्याची प्रक्र...</td>\n",
       "      <td>navarashtra.com</td>\n",
       "      <td>सदर याचिकेची पहिली सुनावणी दिनांक ०४ मे २०२१ र...</td>\n",
       "      <td>https://www.navarashtra.com/aurangabad-news-ma...</td>\n",
       "      <td>https://www.navarashtra.com/aurangabad-news-ma...</td>\n",
       "      <td>https://www.facebook.com/719366294805607/posts...</td>\n",
       "      <td>-1.546592</td>\n",
       "      <td>imtiaz.jaleel</td>\n",
       "      <td>100044411200146</td>\n",
       "      <td>6611956</td>\n",
       "    </tr>\n",
       "    <tr>\n",
       "      <th>1</th>\n",
       "      <td>2021-05-07 05:36:34</td>\n",
       "      <td>खाजगी रुग्णालयांमधील लाखोंची लूट थांबवा, माण -...</td>\n",
       "      <td>navarashtra.com</td>\n",
       "      <td>सध्याचे वास्तव पहाता खाजगी रुग्णालये रुग्णाला ...</td>\n",
       "      <td>खाजगी रुग्णालयांमधील लाखोंची लूट थांबवा, माण –...</td>\n",
       "      <td>https://www.navarashtra.com/satara-news-marath...</td>\n",
       "      <td>https://www.facebook.com/104963460865558/posts...</td>\n",
       "      <td>0.000000</td>\n",
       "      <td>JaykumarGoreSpeaks</td>\n",
       "      <td>104963460865558</td>\n",
       "      <td>17548944</td>\n",
       "    </tr>\n",
       "    <tr>\n",
       "      <th>2</th>\n",
       "      <td>2021-05-11 16:17:52</td>\n",
       "      <td>लोकल प्रवासाची मागणी फेटाळली; सहकारी बँक युनिय...</td>\n",
       "      <td>navarashtra.com</td>\n",
       "      <td>लोकल ट्रेन, मेट्रो आणि मोनोमधील प्रवासावर घालण...</td>\n",
       "      <td>NaN</td>\n",
       "      <td>https://www.navarashtra.com/mumbai-news-marath...</td>\n",
       "      <td>https://www.facebook.com/groups/27747221305464...</td>\n",
       "      <td>-12.500000</td>\n",
       "      <td>NaN</td>\n",
       "      <td>277472213054649</td>\n",
       "      <td>14493955</td>\n",
       "    </tr>\n",
       "    <tr>\n",
       "      <th>3</th>\n",
       "      <td>2021-05-11 03:10:32</td>\n",
       "      <td>जबाबदारीचे गांभीर्य कळण्यासाठी टीका; परिस्थिती...</td>\n",
       "      <td>navarashtra.com</td>\n",
       "      <td>जगभरातील आरोग्यविषयक उपक्रम, संशोधन आणि आरोग्य...</td>\n",
       "      <td>NaN</td>\n",
       "      <td>https://www.navarashtra.com/featured-stories/c...</td>\n",
       "      <td>https://www.facebook.com/groups/22908796412365...</td>\n",
       "      <td>-0.941176</td>\n",
       "      <td>NaN</td>\n",
       "      <td>229087964123654</td>\n",
       "      <td>9065866</td>\n",
       "    </tr>\n",
       "    <tr>\n",
       "      <th>4</th>\n",
       "      <td>2021-05-11 09:05:00</td>\n",
       "      <td>लग्नाच्या दिवशीच वधू परिवारासह झाली गायब; वरान...</td>\n",
       "      <td>navarashtra.com</td>\n",
       "      <td>ही घटना सात एप्रिलची असून हबीबगंज सरकंडी आणि प...</td>\n",
       "      <td>NaN</td>\n",
       "      <td>https://www.navarashtra.com/india-news-marathi...</td>\n",
       "      <td>https://www.facebook.com/groups/27747221305464...</td>\n",
       "      <td>-25.000000</td>\n",
       "      <td>NaN</td>\n",
       "      <td>277472213054649</td>\n",
       "      <td>14493955</td>\n",
       "    </tr>\n",
       "  </tbody>\n",
       "</table>\n",
       "</div>"
      ],
      "text/plain": [
       "                  date                                              title  \\\n",
       "0  2021-05-07 15:18:16  औरंगाबाद जिल्ह्यातील रिक्त पदे भरण्याची प्रक्र...   \n",
       "1  2021-05-07 05:36:34  खाजगी रुग्णालयांमधील लाखोंची लूट थांबवा, माण -...   \n",
       "2  2021-05-11 16:17:52  लोकल प्रवासाची मागणी फेटाळली; सहकारी बँक युनिय...   \n",
       "3  2021-05-11 03:10:32  जबाबदारीचे गांभीर्य कळण्यासाठी टीका; परिस्थिती...   \n",
       "4  2021-05-11 09:05:00  लग्नाच्या दिवशीच वधू परिवारासह झाली गायब; वरान...   \n",
       "\n",
       "           caption                                        description  \\\n",
       "0  navarashtra.com  सदर याचिकेची पहिली सुनावणी दिनांक ०४ मे २०२१ र...   \n",
       "1  navarashtra.com  सध्याचे वास्तव पहाता खाजगी रुग्णालये रुग्णाला ...   \n",
       "2  navarashtra.com  लोकल ट्रेन, मेट्रो आणि मोनोमधील प्रवासावर घालण...   \n",
       "3  navarashtra.com  जगभरातील आरोग्यविषयक उपक्रम, संशोधन आणि आरोग्य...   \n",
       "4  navarashtra.com  ही घटना सात एप्रिलची असून हबीबगंज सरकंडी आणि प...   \n",
       "\n",
       "                                             message  \\\n",
       "0  https://www.navarashtra.com/aurangabad-news-ma...   \n",
       "1  खाजगी रुग्णालयांमधील लाखोंची लूट थांबवा, माण –...   \n",
       "2                                                NaN   \n",
       "3                                                NaN   \n",
       "4                                                NaN   \n",
       "\n",
       "                                                link  \\\n",
       "0  https://www.navarashtra.com/aurangabad-news-ma...   \n",
       "1  https://www.navarashtra.com/satara-news-marath...   \n",
       "2  https://www.navarashtra.com/mumbai-news-marath...   \n",
       "3  https://www.navarashtra.com/featured-stories/c...   \n",
       "4  https://www.navarashtra.com/india-news-marathi...   \n",
       "\n",
       "                                             postUrl      score  \\\n",
       "0  https://www.facebook.com/719366294805607/posts...  -1.546592   \n",
       "1  https://www.facebook.com/104963460865558/posts...   0.000000   \n",
       "2  https://www.facebook.com/groups/27747221305464... -12.500000   \n",
       "3  https://www.facebook.com/groups/22908796412365...  -0.941176   \n",
       "4  https://www.facebook.com/groups/27747221305464... -25.000000   \n",
       "\n",
       "               handle       platformId        id  \n",
       "0       imtiaz.jaleel  100044411200146   6611956  \n",
       "1  JaykumarGoreSpeaks  104963460865558  17548944  \n",
       "2                 NaN  277472213054649  14493955  \n",
       "3                 NaN  229087964123654   9065866  \n",
       "4                 NaN  277472213054649  14493955  "
      ]
     },
     "execution_count": 18,
     "metadata": {},
     "output_type": "execute_result"
    }
   ],
   "source": [
    "fdata.head()"
   ]
  },
  {
   "cell_type": "code",
   "execution_count": 19,
   "metadata": {},
   "outputs": [],
   "source": [
    "fdata.to_csv(\"/data/shruti/ONR/small_data/facebook_linkpost_text.csv\")"
   ]
  },
  {
   "cell_type": "code",
   "execution_count": 20,
   "metadata": {},
   "outputs": [
    {
     "data": {
      "text/plain": [
       "10692105"
      ]
     },
     "execution_count": 20,
     "metadata": {},
     "output_type": "execute_result"
    }
   ],
   "source": [
    "data = fdata.dropna(subset=['title'])\n",
    "len(data)"
   ]
  },
  {
   "cell_type": "code",
   "execution_count": 21,
   "metadata": {},
   "outputs": [],
   "source": [
    "data = data.dropna(subset=['handle'])"
   ]
  },
  {
   "cell_type": "code",
   "execution_count": 22,
   "metadata": {},
   "outputs": [
    {
     "data": {
      "text/plain": [
       "9033851"
      ]
     },
     "execution_count": 22,
     "metadata": {},
     "output_type": "execute_result"
    }
   ],
   "source": [
    "len(data)"
   ]
  },
  {
   "cell_type": "code",
   "execution_count": 23,
   "metadata": {},
   "outputs": [
    {
     "data": {
      "text/plain": [
       "7075278"
      ]
     },
     "execution_count": 23,
     "metadata": {},
     "output_type": "execute_result"
    }
   ],
   "source": [
    "data = data.drop_duplicates(subset=['handle','title'])\n",
    "len(data)"
   ]
  },
  {
   "cell_type": "code",
   "execution_count": 24,
   "metadata": {
    "scrolled": true
   },
   "outputs": [
    {
     "name": "stderr",
     "output_type": "stream",
     "text": [
      "<ipython-input-24-b815f52a03a3>:1: SettingWithCopyWarning: \n",
      "A value is trying to be set on a copy of a slice from a DataFrame.\n",
      "Try using .loc[row_indexer,col_indexer] = value instead\n",
      "\n",
      "See the caveats in the documentation: https://pandas.pydata.org/pandas-docs/stable/user_guide/indexing.html#returning-a-view-versus-a-copy\n",
      "  data['is_duplicated'] = data.duplicated(subset=['title'], keep=False)\n"
     ]
    },
    {
     "data": {
      "text/html": [
       "<div>\n",
       "<style scoped>\n",
       "    .dataframe tbody tr th:only-of-type {\n",
       "        vertical-align: middle;\n",
       "    }\n",
       "\n",
       "    .dataframe tbody tr th {\n",
       "        vertical-align: top;\n",
       "    }\n",
       "\n",
       "    .dataframe thead th {\n",
       "        text-align: right;\n",
       "    }\n",
       "</style>\n",
       "<table border=\"1\" class=\"dataframe\">\n",
       "  <thead>\n",
       "    <tr style=\"text-align: right;\">\n",
       "      <th></th>\n",
       "      <th>date</th>\n",
       "      <th>title</th>\n",
       "      <th>caption</th>\n",
       "      <th>description</th>\n",
       "      <th>message</th>\n",
       "      <th>link</th>\n",
       "      <th>postUrl</th>\n",
       "      <th>score</th>\n",
       "      <th>handle</th>\n",
       "      <th>platformId</th>\n",
       "      <th>id</th>\n",
       "      <th>is_duplicated</th>\n",
       "    </tr>\n",
       "  </thead>\n",
       "  <tbody>\n",
       "    <tr>\n",
       "      <th>0</th>\n",
       "      <td>2021-05-07 15:18:16</td>\n",
       "      <td>औरंगाबाद जिल्ह्यातील रिक्त पदे भरण्याची प्रक्र...</td>\n",
       "      <td>navarashtra.com</td>\n",
       "      <td>सदर याचिकेची पहिली सुनावणी दिनांक ०४ मे २०२१ र...</td>\n",
       "      <td>https://www.navarashtra.com/aurangabad-news-ma...</td>\n",
       "      <td>https://www.navarashtra.com/aurangabad-news-ma...</td>\n",
       "      <td>https://www.facebook.com/719366294805607/posts...</td>\n",
       "      <td>-1.546592</td>\n",
       "      <td>imtiaz.jaleel</td>\n",
       "      <td>100044411200146</td>\n",
       "      <td>6611956</td>\n",
       "      <td>False</td>\n",
       "    </tr>\n",
       "    <tr>\n",
       "      <th>1</th>\n",
       "      <td>2021-05-07 05:36:34</td>\n",
       "      <td>खाजगी रुग्णालयांमधील लाखोंची लूट थांबवा, माण -...</td>\n",
       "      <td>navarashtra.com</td>\n",
       "      <td>सध्याचे वास्तव पहाता खाजगी रुग्णालये रुग्णाला ...</td>\n",
       "      <td>खाजगी रुग्णालयांमधील लाखोंची लूट थांबवा, माण –...</td>\n",
       "      <td>https://www.navarashtra.com/satara-news-marath...</td>\n",
       "      <td>https://www.facebook.com/104963460865558/posts...</td>\n",
       "      <td>0.000000</td>\n",
       "      <td>JaykumarGoreSpeaks</td>\n",
       "      <td>104963460865558</td>\n",
       "      <td>17548944</td>\n",
       "      <td>False</td>\n",
       "    </tr>\n",
       "    <tr>\n",
       "      <th>28</th>\n",
       "      <td>2021-07-01 11:15:25</td>\n",
       "      <td>Watch how Hema Malini screamed like a kid on s...</td>\n",
       "      <td>hindustantimes.com</td>\n",
       "      <td>NaN</td>\n",
       "      <td>This video is proof of the sweetest bond betwe...</td>\n",
       "      <td>https://www.hindustantimes.com/entertainment/b...</td>\n",
       "      <td>https://www.facebook.com/111445058579/posts/10...</td>\n",
       "      <td>75.561947</td>\n",
       "      <td>hindustantimes</td>\n",
       "      <td>111445058579</td>\n",
       "      <td>33887</td>\n",
       "      <td>False</td>\n",
       "    </tr>\n",
       "    <tr>\n",
       "      <th>29</th>\n",
       "      <td>2021-07-01 01:43:47</td>\n",
       "      <td>Steve Waugh beats Virat Kohli, Ricky Ponting, ...</td>\n",
       "      <td>hindustantimes.com</td>\n",
       "      <td>Steve Waugh, who captained Australia in 57 Tes...</td>\n",
       "      <td>Humbled, thank you...</td>\n",
       "      <td>https://www.hindustantimes.com/cricket/steve-w...</td>\n",
       "      <td>https://www.facebook.com/100044384051423/posts...</td>\n",
       "      <td>12.641566</td>\n",
       "      <td>SteveWaughOfficial</td>\n",
       "      <td>100044384051423</td>\n",
       "      <td>1167655</td>\n",
       "      <td>True</td>\n",
       "    </tr>\n",
       "    <tr>\n",
       "      <th>31</th>\n",
       "      <td>2021-07-01 09:39:29</td>\n",
       "      <td>আরও একধাপ এগিয়ে গেল বিমানবন্দর মেট্রোর কাজ, শে...</td>\n",
       "      <td>bangla.hindustantimes.com</td>\n",
       "      <td>প্রায় ২৫ ঘণ্টার চেষ্টায় ৪০ মিটার লম্বা, ৩৭ মিট...</td>\n",
       "      <td>প্রায় ২৫ ঘণ্টার চেষ্টায় ৪০ মিটার লম্বা, ৩৭ মিট...</td>\n",
       "      <td>https://bangla.hindustantimes.com/bengal/kolka...</td>\n",
       "      <td>https://www.facebook.com/107751030630685/posts...</td>\n",
       "      <td>39.376238</td>\n",
       "      <td>hindustantimesbangla</td>\n",
       "      <td>107751030630685</td>\n",
       "      <td>11589589</td>\n",
       "      <td>False</td>\n",
       "    </tr>\n",
       "  </tbody>\n",
       "</table>\n",
       "</div>"
      ],
      "text/plain": [
       "                   date                                              title  \\\n",
       "0   2021-05-07 15:18:16  औरंगाबाद जिल्ह्यातील रिक्त पदे भरण्याची प्रक्र...   \n",
       "1   2021-05-07 05:36:34  खाजगी रुग्णालयांमधील लाखोंची लूट थांबवा, माण -...   \n",
       "28  2021-07-01 11:15:25  Watch how Hema Malini screamed like a kid on s...   \n",
       "29  2021-07-01 01:43:47  Steve Waugh beats Virat Kohli, Ricky Ponting, ...   \n",
       "31  2021-07-01 09:39:29  আরও একধাপ এগিয়ে গেল বিমানবন্দর মেট্রোর কাজ, শে...   \n",
       "\n",
       "                      caption  \\\n",
       "0             navarashtra.com   \n",
       "1             navarashtra.com   \n",
       "28         hindustantimes.com   \n",
       "29         hindustantimes.com   \n",
       "31  bangla.hindustantimes.com   \n",
       "\n",
       "                                          description  \\\n",
       "0   सदर याचिकेची पहिली सुनावणी दिनांक ०४ मे २०२१ र...   \n",
       "1   सध्याचे वास्तव पहाता खाजगी रुग्णालये रुग्णाला ...   \n",
       "28                                                NaN   \n",
       "29  Steve Waugh, who captained Australia in 57 Tes...   \n",
       "31  প্রায় ২৫ ঘণ্টার চেষ্টায় ৪০ মিটার লম্বা, ৩৭ মিট...   \n",
       "\n",
       "                                              message  \\\n",
       "0   https://www.navarashtra.com/aurangabad-news-ma...   \n",
       "1   खाजगी रुग्णालयांमधील लाखोंची लूट थांबवा, माण –...   \n",
       "28  This video is proof of the sweetest bond betwe...   \n",
       "29                             Humbled, thank you...    \n",
       "31  প্রায় ২৫ ঘণ্টার চেষ্টায় ৪০ মিটার লম্বা, ৩৭ মিট...   \n",
       "\n",
       "                                                 link  \\\n",
       "0   https://www.navarashtra.com/aurangabad-news-ma...   \n",
       "1   https://www.navarashtra.com/satara-news-marath...   \n",
       "28  https://www.hindustantimes.com/entertainment/b...   \n",
       "29  https://www.hindustantimes.com/cricket/steve-w...   \n",
       "31  https://bangla.hindustantimes.com/bengal/kolka...   \n",
       "\n",
       "                                              postUrl      score  \\\n",
       "0   https://www.facebook.com/719366294805607/posts...  -1.546592   \n",
       "1   https://www.facebook.com/104963460865558/posts...   0.000000   \n",
       "28  https://www.facebook.com/111445058579/posts/10...  75.561947   \n",
       "29  https://www.facebook.com/100044384051423/posts...  12.641566   \n",
       "31  https://www.facebook.com/107751030630685/posts...  39.376238   \n",
       "\n",
       "                  handle       platformId        id  is_duplicated  \n",
       "0          imtiaz.jaleel  100044411200146   6611956          False  \n",
       "1     JaykumarGoreSpeaks  104963460865558  17548944          False  \n",
       "28        hindustantimes     111445058579     33887          False  \n",
       "29    SteveWaughOfficial  100044384051423   1167655           True  \n",
       "31  hindustantimesbangla  107751030630685  11589589          False  "
      ]
     },
     "execution_count": 24,
     "metadata": {},
     "output_type": "execute_result"
    }
   ],
   "source": [
    "data['is_duplicated'] = data.duplicated(subset=['title'], keep=False)\n",
    "data.head()"
   ]
  },
  {
   "cell_type": "code",
   "execution_count": 25,
   "metadata": {
    "scrolled": true
   },
   "outputs": [
    {
     "data": {
      "text/html": [
       "<div>\n",
       "<style scoped>\n",
       "    .dataframe tbody tr th:only-of-type {\n",
       "        vertical-align: middle;\n",
       "    }\n",
       "\n",
       "    .dataframe tbody tr th {\n",
       "        vertical-align: top;\n",
       "    }\n",
       "\n",
       "    .dataframe thead th {\n",
       "        text-align: right;\n",
       "    }\n",
       "</style>\n",
       "<table border=\"1\" class=\"dataframe\">\n",
       "  <thead>\n",
       "    <tr style=\"text-align: right;\">\n",
       "      <th></th>\n",
       "      <th>date</th>\n",
       "      <th>title</th>\n",
       "      <th>caption</th>\n",
       "      <th>description</th>\n",
       "      <th>message</th>\n",
       "      <th>link</th>\n",
       "      <th>postUrl</th>\n",
       "      <th>score</th>\n",
       "      <th>handle</th>\n",
       "      <th>platformId</th>\n",
       "      <th>id</th>\n",
       "      <th>is_duplicated</th>\n",
       "    </tr>\n",
       "  </thead>\n",
       "  <tbody>\n",
       "    <tr>\n",
       "      <th>29</th>\n",
       "      <td>2021-07-01 01:43:47</td>\n",
       "      <td>Steve Waugh beats Virat Kohli, Ricky Ponting, ...</td>\n",
       "      <td>hindustantimes.com</td>\n",
       "      <td>Steve Waugh, who captained Australia in 57 Tes...</td>\n",
       "      <td>Humbled, thank you...</td>\n",
       "      <td>https://www.hindustantimes.com/cricket/steve-w...</td>\n",
       "      <td>https://www.facebook.com/100044384051423/posts...</td>\n",
       "      <td>12.641566</td>\n",
       "      <td>SteveWaughOfficial</td>\n",
       "      <td>100044384051423</td>\n",
       "      <td>1167655</td>\n",
       "      <td>True</td>\n",
       "    </tr>\n",
       "    <tr>\n",
       "      <th>32</th>\n",
       "      <td>2021-07-01 16:25:24</td>\n",
       "      <td>‘Joy of getting out of quarantine’: BCCI share...</td>\n",
       "      <td>hindustantimes.com</td>\n",
       "      <td>The tour begins from July 13 in Colombo and be...</td>\n",
       "      <td>The tour begins from July 13 in Colombo and In...</td>\n",
       "      <td>https://www.hindustantimes.com/cricket/joy-of-...</td>\n",
       "      <td>https://www.facebook.com/111445058579/posts/10...</td>\n",
       "      <td>14.517699</td>\n",
       "      <td>hindustantimes</td>\n",
       "      <td>111445058579</td>\n",
       "      <td>33887</td>\n",
       "      <td>True</td>\n",
       "    </tr>\n",
       "    <tr>\n",
       "      <th>35</th>\n",
       "      <td>2021-07-01 04:31:50</td>\n",
       "      <td>Taapsee Pannu recalls dad's awkwardness at wat...</td>\n",
       "      <td>hindustantimes.com</td>\n",
       "      <td>Taapsee Pannu has recalled how awkward things ...</td>\n",
       "      <td>Taapsee Pannu has recalled how awkward things ...</td>\n",
       "      <td>https://www.hindustantimes.com/entertainment/b...</td>\n",
       "      <td>https://www.facebook.com/111445058579/posts/10...</td>\n",
       "      <td>9.973451</td>\n",
       "      <td>hindustantimes</td>\n",
       "      <td>111445058579</td>\n",
       "      <td>33887</td>\n",
       "      <td>True</td>\n",
       "    </tr>\n",
       "    <tr>\n",
       "      <th>36</th>\n",
       "      <td>2021-07-01 04:50:29</td>\n",
       "      <td>Ashish Chowdhry bids adieu to his 'guiding lig...</td>\n",
       "      <td>hindustantimes.com</td>\n",
       "      <td>Ashish Chowdhry penned a note and shared pictu...</td>\n",
       "      <td>Ashish Chowdhry penned a note and shared pictu...</td>\n",
       "      <td>https://www.hindustantimes.com/entertainment/b...</td>\n",
       "      <td>https://www.facebook.com/228527747249282/posts...</td>\n",
       "      <td>45.500000</td>\n",
       "      <td>HTMumbai</td>\n",
       "      <td>228527747249282</td>\n",
       "      <td>938761</td>\n",
       "      <td>True</td>\n",
       "    </tr>\n",
       "    <tr>\n",
       "      <th>41</th>\n",
       "      <td>2021-07-01 08:40:41</td>\n",
       "      <td>'Had Hardik been around, there wouldn't have b...</td>\n",
       "      <td>hindustantimes.com</td>\n",
       "      <td>Prasad explained the reason Ravindra Jadeja pl...</td>\n",
       "      <td>MSK Prasad stated that there was a reason Ravi...</td>\n",
       "      <td>https://www.hindustantimes.com/cricket/had-har...</td>\n",
       "      <td>https://www.facebook.com/111445058579/posts/10...</td>\n",
       "      <td>7.243363</td>\n",
       "      <td>hindustantimes</td>\n",
       "      <td>111445058579</td>\n",
       "      <td>33887</td>\n",
       "      <td>True</td>\n",
       "    </tr>\n",
       "  </tbody>\n",
       "</table>\n",
       "</div>"
      ],
      "text/plain": [
       "                   date                                              title  \\\n",
       "29  2021-07-01 01:43:47  Steve Waugh beats Virat Kohli, Ricky Ponting, ...   \n",
       "32  2021-07-01 16:25:24  ‘Joy of getting out of quarantine’: BCCI share...   \n",
       "35  2021-07-01 04:31:50  Taapsee Pannu recalls dad's awkwardness at wat...   \n",
       "36  2021-07-01 04:50:29  Ashish Chowdhry bids adieu to his 'guiding lig...   \n",
       "41  2021-07-01 08:40:41  'Had Hardik been around, there wouldn't have b...   \n",
       "\n",
       "               caption                                        description  \\\n",
       "29  hindustantimes.com  Steve Waugh, who captained Australia in 57 Tes...   \n",
       "32  hindustantimes.com  The tour begins from July 13 in Colombo and be...   \n",
       "35  hindustantimes.com  Taapsee Pannu has recalled how awkward things ...   \n",
       "36  hindustantimes.com  Ashish Chowdhry penned a note and shared pictu...   \n",
       "41  hindustantimes.com  Prasad explained the reason Ravindra Jadeja pl...   \n",
       "\n",
       "                                              message  \\\n",
       "29                             Humbled, thank you...    \n",
       "32  The tour begins from July 13 in Colombo and In...   \n",
       "35  Taapsee Pannu has recalled how awkward things ...   \n",
       "36  Ashish Chowdhry penned a note and shared pictu...   \n",
       "41  MSK Prasad stated that there was a reason Ravi...   \n",
       "\n",
       "                                                 link  \\\n",
       "29  https://www.hindustantimes.com/cricket/steve-w...   \n",
       "32  https://www.hindustantimes.com/cricket/joy-of-...   \n",
       "35  https://www.hindustantimes.com/entertainment/b...   \n",
       "36  https://www.hindustantimes.com/entertainment/b...   \n",
       "41  https://www.hindustantimes.com/cricket/had-har...   \n",
       "\n",
       "                                              postUrl      score  \\\n",
       "29  https://www.facebook.com/100044384051423/posts...  12.641566   \n",
       "32  https://www.facebook.com/111445058579/posts/10...  14.517699   \n",
       "35  https://www.facebook.com/111445058579/posts/10...   9.973451   \n",
       "36  https://www.facebook.com/228527747249282/posts...  45.500000   \n",
       "41  https://www.facebook.com/111445058579/posts/10...   7.243363   \n",
       "\n",
       "                handle       platformId       id  is_duplicated  \n",
       "29  SteveWaughOfficial  100044384051423  1167655           True  \n",
       "32      hindustantimes     111445058579    33887           True  \n",
       "35      hindustantimes     111445058579    33887           True  \n",
       "36            HTMumbai  228527747249282   938761           True  \n",
       "41      hindustantimes     111445058579    33887           True  "
      ]
     },
     "execution_count": 25,
     "metadata": {},
     "output_type": "execute_result"
    }
   ],
   "source": [
    "dup_data = data.loc[data['is_duplicated']==True]\n",
    "dup_data.head()"
   ]
  },
  {
   "cell_type": "code",
   "execution_count": 26,
   "metadata": {},
   "outputs": [
    {
     "data": {
      "text/plain": [
       "2257721"
      ]
     },
     "execution_count": 26,
     "metadata": {},
     "output_type": "execute_result"
    }
   ],
   "source": [
    "len(dup_data)"
   ]
  },
  {
   "cell_type": "code",
   "execution_count": 27,
   "metadata": {},
   "outputs": [],
   "source": [
    "unique_texts = list(set(dup_data['title'].tolist()))"
   ]
  },
  {
   "cell_type": "code",
   "execution_count": 28,
   "metadata": {},
   "outputs": [
    {
     "data": {
      "text/plain": [
       "834330"
      ]
     },
     "execution_count": 28,
     "metadata": {},
     "output_type": "execute_result"
    }
   ],
   "source": [
    "len(unique_texts)"
   ]
  },
  {
   "cell_type": "code",
   "execution_count": 31,
   "metadata": {},
   "outputs": [],
   "source": [
    "from random import sample\n",
    "\n",
    "sample_unique = sample(unique_textsque_texts, 100000)\n",
    "\n",
    "smaldup_datadata = dup_data.loc[dup_data['title'].isin(sample_unique)]"
   ]
  },
  {
   "cell_type": "code",
   "execution_count": 32,
   "metadata": {},
   "outputs": [],
   "source": [
    "def assign_unique_group(text):\n",
    "    uid = sample_unique.index(text)\n",
    "    return uid"
   ]
  },
  {
   "cell_type": "code",
   "execution_count": 33,
   "metadata": {},
   "outputs": [],
   "source": [
    "smaldup_datadata['text_id'] = smaldup_datadata['title'].parallel_apply(lambda x: assign_unique_group(x))"
   ]
  },
  {
   "cell_type": "code",
   "execution_count": 34,
   "metadata": {},
   "outputs": [],
   "source": [
    "smaldup_datadata.head()"
   ]
  },
  {
   "cell_type": "code",
   "execution_count": null,
   "metadata": {},
   "outputs": [],
   "source": [
    "connections = smaldup_datadata.groupby('text_id')['handle'].apply(list).reset_index()\n",
    "connections.head()"
   ]
  }
 ],
 "metadata": {
  "kernelspec": {
   "display_name": "Python 3",
   "language": "python",
   "name": "python3"
  },
  "language_info": {
   "codemirror_mode": {
    "name": "ipython",
    "version": 3
   },
   "file_extension": ".py",
   "mimetype": "text/x-python",
   "name": "python",
   "nbconvert_exporter": "python",
   "pygments_lexer": "ipython3",
   "version": "3.8.10"
  }
 },
 "nbformat": 4,
 "nbformat_minor": 4
}
