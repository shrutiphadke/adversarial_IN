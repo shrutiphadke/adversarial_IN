{
 "cells": [
  {
   "cell_type": "code",
   "execution_count": 1,
   "metadata": {},
   "outputs": [],
   "source": [
    "import pandas as pd"
   ]
  },
  {
   "cell_type": "code",
   "execution_count": 2,
   "metadata": {},
   "outputs": [],
   "source": [
    "frame = pd.read_csv(\"/data/shruti/ONR/small_data/test.csv\", header=0)"
   ]
  },
  {
   "cell_type": "code",
   "execution_count": 3,
   "metadata": {},
   "outputs": [
    {
     "data": {
      "text/html": [
       "<div>\n",
       "<style scoped>\n",
       "    .dataframe tbody tr th:only-of-type {\n",
       "        vertical-align: middle;\n",
       "    }\n",
       "\n",
       "    .dataframe tbody tr th {\n",
       "        vertical-align: top;\n",
       "    }\n",
       "\n",
       "    .dataframe thead th {\n",
       "        text-align: right;\n",
       "    }\n",
       "</style>\n",
       "<table border=\"1\" class=\"dataframe\">\n",
       "  <thead>\n",
       "    <tr style=\"text-align: right;\">\n",
       "      <th></th>\n",
       "      <th>id</th>\n",
       "      <th>text</th>\n",
       "      <th>user</th>\n",
       "    </tr>\n",
       "  </thead>\n",
       "  <tbody>\n",
       "    <tr>\n",
       "      <th>0</th>\n",
       "      <td>1</td>\n",
       "      <td>'i dont know if this will work'</td>\n",
       "      <td>aanshu</td>\n",
       "    </tr>\n",
       "  </tbody>\n",
       "</table>\n",
       "</div>"
      ],
      "text/plain": [
       "   id                             text    user\n",
       "0   1  'i dont know if this will work'  aanshu"
      ]
     },
     "execution_count": 3,
     "metadata": {},
     "output_type": "execute_result"
    }
   ],
   "source": [
    "frame.head()"
   ]
  },
  {
   "cell_type": "code",
   "execution_count": 5,
   "metadata": {},
   "outputs": [
    {
     "data": {
      "text/plain": [
       "['/data/shruti/ONR/big_data/facebook_linkposts/aajtak.in',\n",
       " '/data/shruti/ONR/big_data/facebook_linkposts/abplive.com',\n",
       " '/data/shruti/ONR/big_data/facebook_linkposts/abpnadu.com',\n",
       " '/data/shruti/ONR/big_data/facebook_linkposts/altnews.in',\n",
       " '/data/shruti/ONR/big_data/facebook_linkposts/amarujala.com',\n",
       " '/data/shruti/ONR/big_data/facebook_linkposts/bhaskar.com',\n",
       " '/data/shruti/ONR/big_data/facebook_linkposts/bhaskarhindi.com',\n",
       " '/data/shruti/ONR/big_data/facebook_linkposts/business-standard.com',\n",
       " '/data/shruti/ONR/big_data/facebook_linkposts/dinamalar.com',\n",
       " '/data/shruti/ONR/big_data/facebook_linkposts/firstpost.com',\n",
       " '/data/shruti/ONR/big_data/facebook_linkposts/foreignpolicy.com',\n",
       " '/data/shruti/ONR/big_data/facebook_linkposts/india.com',\n",
       " '/data/shruti/ONR/big_data/facebook_linkposts/indianarrative.com',\n",
       " '/data/shruti/ONR/big_data/facebook_linkposts/indiatimes.com',\n",
       " '/data/shruti/ONR/big_data/facebook_linkposts/indiatoday.in',\n",
       " '/data/shruti/ONR/big_data/facebook_linkposts/livelaw.in',\n",
       " '/data/shruti/ONR/big_data/facebook_linkposts/livemint.com',\n",
       " '/data/shruti/ONR/big_data/facebook_linkposts/maalaimalar.com',\n",
       " '/data/shruti/ONR/big_data/facebook_linkposts/mathrubhumi.com',\n",
       " '/data/shruti/ONR/big_data/facebook_linkposts/nakkheeran.in',\n",
       " '/data/shruti/ONR/big_data/facebook_linkposts/ndtv.com',\n",
       " '/data/shruti/ONR/big_data/facebook_linkposts/ndtv.in',\n",
       " '/data/shruti/ONR/big_data/facebook_linkposts/news18.com',\n",
       " '/data/shruti/ONR/big_data/facebook_linkposts/opindia.com',\n",
       " '/data/shruti/ONR/big_data/facebook_linkposts/outlookindia.com',\n",
       " '/data/shruti/ONR/big_data/facebook_linkposts/patrika.com',\n",
       " '/data/shruti/ONR/big_data/facebook_linkposts/prajavani.net',\n",
       " '/data/shruti/ONR/big_data/facebook_linkposts/reuters.com',\n",
       " '/data/shruti/ONR/big_data/facebook_linkposts/sambadenglish.com',\n",
       " '/data/shruti/ONR/big_data/facebook_linkposts/sundayguardianlive.com',\n",
       " '/data/shruti/ONR/big_data/facebook_linkposts/tfipost.com',\n",
       " '/data/shruti/ONR/big_data/facebook_linkposts/thedailystar.net',\n",
       " '/data/shruti/ONR/big_data/facebook_linkposts/thehindu.com',\n",
       " '/data/shruti/ONR/big_data/facebook_linkposts/timesnownews.com',\n",
       " '/data/shruti/ONR/big_data/facebook_linkposts/timesofindia.com',\n",
       " '/data/shruti/ONR/big_data/facebook_linkposts/tv9hindi.com',\n",
       " '/data/shruti/ONR/big_data/facebook_linkposts/washingtonpost.com',\n",
       " '/data/shruti/ONR/big_data/facebook_linkposts/wionews.com']"
      ]
     },
     "execution_count": 5,
     "metadata": {},
     "output_type": "execute_result"
    }
   ],
   "source": [
    "import glob\n",
    "flist = glob.glob(\"/data/shruti/ONR/big_data/facebook_linkposts/*\")\n",
    "flist"
   ]
  },
  {
   "cell_type": "code",
   "execution_count": 8,
   "metadata": {},
   "outputs": [],
   "source": [
    "import json\n",
    "aajtak = glob.glob(\"/data/shruti/ONR/big_data/facebook_linkposts/aajtak.in/*.json\")\n",
    "countpost = 0\n",
    "failpost = 0\n",
    "for a in aajtak:\n",
    "    with open(a, \"r\") as jfile:\n",
    "        for line in jfile:\n",
    "            try:\n",
    "                job = json.loads(line)\n",
    "                countpost+=1\n",
    "            except:\n",
    "                failpost+=1\n",
    "            "
   ]
  },
  {
   "cell_type": "code",
   "execution_count": 9,
   "metadata": {},
   "outputs": [
    {
     "name": "stdout",
     "output_type": "stream",
     "text": [
      "24543 1\n"
     ]
    }
   ],
   "source": [
    "print(countpost, failpost)"
   ]
  },
  {
   "cell_type": "code",
   "execution_count": null,
   "metadata": {},
   "outputs": [],
   "source": []
  }
 ],
 "metadata": {
  "kernelspec": {
   "display_name": "Python 3",
   "language": "python",
   "name": "python3"
  },
  "language_info": {
   "codemirror_mode": {
    "name": "ipython",
    "version": 3
   },
   "file_extension": ".py",
   "mimetype": "text/x-python",
   "name": "python",
   "nbconvert_exporter": "python",
   "pygments_lexer": "ipython3",
   "version": "3.8.10"
  }
 },
 "nbformat": 4,
 "nbformat_minor": 4
}
